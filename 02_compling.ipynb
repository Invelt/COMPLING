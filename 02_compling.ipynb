{
  "cells": [
    {
      "cell_type": "markdown",
      "metadata": {
        "id": "iCAUKwzBvVkz"
      },
      "source": [
        "# A quick overview on preprocessing\n",
        "\n",
        "These materials are mostly borrowed from [Lane et al. (2019)](https://www.manning.com/books/natural-language-processing-in-action)"
      ]
    },
    {
      "cell_type": "markdown",
      "metadata": {
        "id": "GAVqbzVHvVk2"
      },
      "source": [
        "As usual, let us first import all the dependencies"
      ]
    },
    {
      "cell_type": "code",
      "execution_count": null,
      "metadata": {
        "id": "kPZ9VfH1vVk3"
      },
      "outputs": [],
      "source": [
        "import re"
      ]
    },
    {
      "cell_type": "markdown",
      "metadata": {
        "id": "f_Ze5VxovVk3"
      },
      "source": [
        "## Tokenisation"
      ]
    },
    {
      "cell_type": "code",
      "execution_count": null,
      "metadata": {
        "id": "E4uC68t1vVk4"
      },
      "outputs": [],
      "source": [
        "txt = \"Thomas Jefferson started building Monticello at the age of 26.\""
      ]
    },
    {
      "cell_type": "markdown",
      "metadata": {
        "id": "Qf9dHeSNvVk4"
      },
      "source": [
        "A simple \"tokeniser\" which gets only alphabetical characters.\n"
      ]
    },
    {
      "cell_type": "code",
      "execution_count": null,
      "metadata": {
        "id": "Q5Kc2obKvVk4",
        "colab": {
          "base_uri": "https://localhost:8080/"
        },
        "outputId": "f6e1529a-9816-42db-ccec-af911ae7653d"
      },
      "outputs": [
        {
          "output_type": "stream",
          "name": "stdout",
          "text": [
            "['Thomas', 'Jefferson', 'started', 'building', 'Monticello', 'at', 'the', 'age', 'of']\n"
          ]
        }
      ],
      "source": [
        "tokens = re.findall('[A-Za-z]+', txt)\n",
        "\n",
        "print(tokens)"
      ]
    },
    {
      "cell_type": "markdown",
      "metadata": {
        "id": "DkxqgthYvVk5"
      },
      "source": [
        "Python provides a ``similar'' tool to tokenise but, in general, it is not enough\n"
      ]
    },
    {
      "cell_type": "code",
      "execution_count": null,
      "metadata": {
        "id": "fxjMtFcGvVk5",
        "colab": {
          "base_uri": "https://localhost:8080/"
        },
        "outputId": "ca24caa6-8250-4097-88eb-bb635992f40b"
      },
      "outputs": [
        {
          "output_type": "stream",
          "name": "stdout",
          "text": [
            "['Thomas', 'Jefferson', 'started', 'building', 'Monticello', 'at', 'the', 'age', 'of', '26.']\n"
          ]
        }
      ],
      "source": [
        "tokens = txt.split()\n",
        "print(tokens)"
      ]
    },
    {
      "cell_type": "markdown",
      "metadata": {
        "id": "tJ2lgXi_vVk6"
      },
      "source": [
        "**Back to the slides**"
      ]
    },
    {
      "cell_type": "markdown",
      "metadata": {
        "id": "9Mo5q-WivVk6"
      },
      "source": [
        " Obviously, we can design a better regular expression\n"
      ]
    },
    {
      "cell_type": "code",
      "execution_count": null,
      "metadata": {
        "id": "SQte0dtjvVk7",
        "colab": {
          "base_uri": "https://localhost:8080/"
        },
        "outputId": "15151ff2-2d1b-4f5a-eb6f-d79ece58f604"
      },
      "outputs": [
        {
          "output_type": "stream",
          "name": "stdout",
          "text": [
            "['Thomas', ' ', 'Jefferson', ' ', 'started', ' ', 'building', ' ', 'Monticello', ' ', 'at', ' ', 'the', ' ', 'age', ' ', 'of', ' ', '26', '.', '']\n"
          ]
        }
      ],
      "source": [
        "tokens = re.split(r'([-\\s.,;!?])+', txt)\n",
        "print(tokens)"
      ]
    },
    {
      "cell_type": "markdown",
      "metadata": {
        "id": "mZl6pi2KvVk7"
      },
      "source": [
        "**Back to the slides**"
      ]
    },
    {
      "cell_type": "code",
      "execution_count": null,
      "metadata": {
        "id": "hKYKfApTvVk8",
        "colab": {
          "base_uri": "https://localhost:8080/"
        },
        "outputId": "3459a498-6c73-4910-bc43-d3f3662608ad"
      },
      "outputs": [
        {
          "output_type": "stream",
          "name": "stdout",
          "text": [
            "['Thomas', ' ', 'Jefferson', ' ', 'started', ' ', 'building', ' ', 'Monticello', ' ', 'at', ' ', 'the', ' ', 'age', ' ', 'of', ' ', '26', '.', '']\n"
          ]
        }
      ],
      "source": [
        "text = \"Monticello wasn't designated as UNESCO World Heritage Site until 1987\"\n",
        "tokens = re.split(r'([-\\s.,;!?])+', txt)\n",
        "print(tokens)"
      ]
    },
    {
      "cell_type": "markdown",
      "metadata": {
        "id": "WsTFg4s3vVk8"
      },
      "source": [
        "**Back to the slides**"
      ]
    },
    {
      "cell_type": "markdown",
      "metadata": {
        "id": "9vPsnw_gvVk8"
      },
      "source": [
        "The community has created multiple libraries for pre-processing, which include options for tokenisation. One of the most popular ones is [NLTK](http://www.nltk.org). \n",
        "\n",
        "Before using it, you should install it. If using pip, you should do: \n",
        "\n",
        "```\n",
        "$ pip install --user -U nltk\n",
        "$ pip install --user -U numpy\n",
        "```\n",
        "\n",
        "An now we can import and use one of its tokenisers"
      ]
    },
    {
      "cell_type": "code",
      "execution_count": null,
      "metadata": {
        "id": "LG3wqePAvVk9",
        "colab": {
          "base_uri": "https://localhost:8080/"
        },
        "outputId": "709e50ac-3163-43af-ef85-1b26dc6a2e62"
      },
      "outputs": [
        {
          "output_type": "stream",
          "name": "stdout",
          "text": [
            "['Thomas', 'Jefferson', 'started', 'building', 'Monticello', 'at', 'the', 'age', 'of', '26', '.']\n"
          ]
        }
      ],
      "source": [
        "from nltk.tokenize import TreebankWordTokenizer # import one of the many tokenizers available\n",
        "#nlkt.tokenize is a module\n",
        "#TreebankWordTokenizer is a class \n",
        "tokenizer = TreebankWordTokenizer()             # invoke it\n",
        "tokens = tokenizer.tokenize(txt)\n",
        "print(tokens)"
      ]
    },
    {
      "cell_type": "markdown",
      "metadata": {
        "id": "rG8qPyBZvVk9"
      },
      "source": [
        "Now, see the difference between tokenising with split() and with NLTK's treebank tokeniser on a different sentence."
      ]
    },
    {
      "cell_type": "code",
      "execution_count": null,
      "metadata": {
        "id": "yuKzLyiWvVk9",
        "colab": {
          "base_uri": "https://localhost:8080/"
        },
        "outputId": "1918321f-9c73-49a9-a832-870160eb9999"
      },
      "outputs": [
        {
          "output_type": "stream",
          "name": "stdout",
          "text": [
            "OUTPUT USING split()\t\t ['Monticello', \"wasn't\", 'designated', 'as', 'UNESCO', 'World', 'Heritage', 'Site', 'until', '1987.']\n",
            "OUTPUT USING TreebankWordTokenizer\t ['Monticello', 'was', \"n't\", 'designated', 'as', 'UNESCO', 'World', 'Heritage', 'Site', 'until', '1987', '.']\n"
          ]
        }
      ],
      "source": [
        "sentence = \"Monticello wasn't designated as UNESCO World Heritage Site until 1987.\"\n",
        "tokens_split = sentence.split()\n",
        "tokens_tree = tokenizer.tokenize(sentence)\n",
        "\n",
        "print(\"OUTPUT USING split()\\t\\t\", tokens_split)\n",
        "print(\"OUTPUT USING TreebankWordTokenizer\\t\", tokens_tree)"
      ]
    },
    {
      "cell_type": "markdown",
      "metadata": {
        "id": "dfDxbdrRvVk9"
      },
      "source": [
        "**Back to the slides**"
      ]
    },
    {
      "cell_type": "markdown",
      "metadata": {
        "id": "29DlgwVavVk-"
      },
      "source": [
        "## Normalisation\n",
        "\n",
        "### Casefolding"
      ]
    },
    {
      "cell_type": "code",
      "execution_count": null,
      "metadata": {
        "id": "lOtZNQ86vVk-",
        "colab": {
          "base_uri": "https://localhost:8080/"
        },
        "outputId": "be128574-1486-4c29-99a0-69f6b055bd50"
      },
      "outputs": [
        {
          "output_type": "stream",
          "name": "stdout",
          "text": [
            "monticello wasn't designated as unesco world heritage site until 1987.\n"
          ]
        }
      ],
      "source": [
        "sentence  = sentence.lower()\n",
        "print(sentence)"
      ]
    },
    {
      "cell_type": "markdown",
      "metadata": {
        "id": "_lH51s8uvVk-"
      },
      "source": [
        "**Back to the slides**"
      ]
    },
    {
      "cell_type": "markdown",
      "metadata": {
        "id": "KlMbPevivVk_"
      },
      "source": [
        "## Stemming\n",
        "\n",
        "Once again, we can use a regular expression to do stemming"
      ]
    },
    {
      "cell_type": "code",
      "execution_count": null,
      "metadata": {
        "id": "lyZBxokDvVk_"
      },
      "outputs": [],
      "source": [
        "def stem(phrase):\n",
        "    return ' '.join([re.findall('^(.*ss|.*?)(s)?$',word)[0][0].strip(\"'\") for word in phrase.lower().split()])"
      ]
    },
    {
      "cell_type": "code",
      "source": [
        "phrase='houses are cool'\n",
        "phrase_split=phrase.lower().split()\n",
        "print(phrase_split[2][3])"
      ],
      "metadata": {
        "colab": {
          "base_uri": "https://localhost:8080/"
        },
        "id": "WuWbc1gV9It5",
        "outputId": "271507c4-a626-4349-c222-665882219ce5"
      },
      "execution_count": null,
      "outputs": [
        {
          "output_type": "stream",
          "name": "stdout",
          "text": [
            "l\n"
          ]
        }
      ]
    },
    {
      "cell_type": "code",
      "execution_count": null,
      "metadata": {
        "id": "MQDR6J6OvVk_",
        "colab": {
          "base_uri": "https://localhost:8080/"
        },
        "outputId": "275c1f9a-65c6-46c9-932c-e0efe53bbaba"
      },
      "outputs": [
        {
          "output_type": "stream",
          "name": "stdout",
          "text": [
            "'houses' \t\t-> house\n",
            "'Doctor House's calls' \t-> doctor house call\n",
            "'stress' \t\t-> stress\n"
          ]
        }
      ],
      "source": [
        "print(\"'houses' \\t\\t->\", stem('houses'))\n",
        "print(\"'Doctor House's calls' \\t->\", stem(\"Doctor House's calls\"))\n",
        "print(\"'stress' \\t\\t->\", stem(\"stress\"))"
      ]
    },
    {
      "cell_type": "markdown",
      "metadata": {
        "id": "OQy8C6AmvVk_"
      },
      "source": [
        "But we would need to include many more expressions to deal with all cases and exceptions.\n",
        "\n",
        "Instead, once again we can rely on a library. Let's consider the **Porter stemmer**, available in NLTK."
      ]
    },
    {
      "cell_type": "code",
      "execution_count": null,
      "metadata": {
        "id": "ouiKS9KPvVk_",
        "colab": {
          "base_uri": "https://localhost:8080/"
        },
        "outputId": "98f34f37-364c-4d6f-eb76-55e4d3ec4b54"
      },
      "outputs": [
        {
          "output_type": "stream",
          "name": "stdout",
          "text": [
            "['dish', 'washer', 'wash', 'dish']\n"
          ]
        }
      ],
      "source": [
        "from nltk.stem.porter import PorterStemmer # Import the stemmer\n",
        "stemmer = PorterStemmer()                  # invoke the stemmer\n",
        "\n",
        "# Notice that we are \"tokenising\", stemming, and concatenating in one line!\n",
        "# Notice that these operations \"appear\" inverted in the code (let us have a look together) \n",
        "x = [stemmer.stem(w).strip(\"'\") for w in \"dish washer's washed dishes\".split()]\n",
        "print(x)\n",
        "#print(x.split())"
      ]
    },
    {
      "cell_type": "markdown",
      "metadata": {
        "id": "TPP1kZOmvVlA"
      },
      "source": [
        "**Back to the slides**"
      ]
    },
    {
      "cell_type": "markdown",
      "metadata": {
        "id": "VsZwQZutvVlA"
      },
      "source": [
        "## Lemmatisation\n",
        "\n",
        "This is a more complex process, compared to stemming. Let us go straight to use a library.\n",
        "In this particular case we are going to use NLTK's WordNet lemmatiser. If it is the first time you use it (or you are in an ephemeral environment!), you should download it as follows:"
      ]
    },
    {
      "cell_type": "code",
      "execution_count": null,
      "metadata": {
        "id": "XLN7DnHWvVlA",
        "colab": {
          "base_uri": "https://localhost:8080/"
        },
        "outputId": "ae0bfc9b-1b16-48ad-a26d-ece02c93b958"
      },
      "outputs": [
        {
          "output_type": "stream",
          "name": "stdout",
          "text": [
            "[nltk_data] Downloading package wordnet to /root/nltk_data...\n",
            "[nltk_data]   Package wordnet is already up-to-date!\n"
          ]
        },
        {
          "output_type": "execute_result",
          "data": {
            "text/plain": [
              "True"
            ]
          },
          "metadata": {},
          "execution_count": 65
        }
      ],
      "source": [
        "import nltk \n",
        "nltk.download('wordnet')"
      ]
    },
    {
      "cell_type": "code",
      "execution_count": null,
      "metadata": {
        "id": "mv2FkPGqvVlA",
        "colab": {
          "base_uri": "https://localhost:8080/"
        },
        "outputId": "ff6e0fd6-ca10-453b-fc98-4039ff539743"
      },
      "outputs": [
        {
          "output_type": "stream",
          "name": "stdout",
          "text": [
            "'better' alone \t-> better\n",
            "'better' incl. it's POS (adj) \t-> good\n"
          ]
        }
      ],
      "source": [
        "from nltk.stem import WordNetLemmatizer # importing the lemmatiser\n",
        "lemmatizer = WordNetLemmatizer()        # invoking it\n",
        "\n",
        "print(\"'better' alone \\t->\",lemmatizer.lemmatize(\"better\"))\n",
        "print(\"'better' incl. it's POS (adj) \\t->\",lemmatizer.lemmatize(\"better\", pos=\"a\"))"
      ]
    },
    {
      "cell_type": "markdown",
      "metadata": {
        "id": "A6DBJ277vVlB"
      },
      "source": [
        "**Back to the slides**"
      ]
    },
    {
      "cell_type": "markdown",
      "metadata": {
        "id": "Xrfzmb0MvVlB"
      },
      "source": [
        "## A quick overview on representations\n",
        "\n",
        "### Bag of Words (BoW)\n",
        "\n",
        "First, let us see a simple construction, using a dictionary"
      ]
    },
    {
      "cell_type": "code",
      "execution_count": null,
      "metadata": {
        "id": "pu9rciRFvVlB",
        "colab": {
          "base_uri": "https://localhost:8080/"
        },
        "outputId": "7840095a-f941-4a19-e242-04f3910f0efc"
      },
      "outputs": [
        {
          "output_type": "execute_result",
          "data": {
            "text/plain": [
              "[('26.', 1),\n",
              " ('Jefferson', 1),\n",
              " ('Monticello', 1),\n",
              " ('Thomas', 1),\n",
              " ('age', 1),\n",
              " ('at', 1),\n",
              " ('began', 1),\n",
              " ('building', 1),\n",
              " ('of', 1),\n",
              " ('the', 1)]"
            ]
          },
          "metadata": {},
          "execution_count": 67
        }
      ],
      "source": [
        "sentence = \"\"\"Thomas Jefferson began building Monticello at the age of 26. Thomas\"\"\"\n",
        "\n",
        "sentence_bow = {}\n",
        "for token in sentence.split():\n",
        "     sentence_bow[token] = 1\n",
        "sorted(sentence_bow.items())\n"
      ]
    },
    {
      "cell_type": "markdown",
      "metadata": {
        "id": "cr9mfSpUvVlB"
      },
      "source": [
        "**Back to the slides**"
      ]
    },
    {
      "cell_type": "markdown",
      "metadata": {
        "id": "ULG8I04LvVlB"
      },
      "source": [
        "Another option would be using **pandas**"
      ]
    },
    {
      "cell_type": "code",
      "execution_count": null,
      "metadata": {
        "id": "korkLh1bvVlC",
        "colab": {
          "base_uri": "https://localhost:8080/",
          "height": 193
        },
        "outputId": "e6ece57f-cf61-4d4c-9e00-0ea275609226"
      },
      "outputs": [
        {
          "output_type": "stream",
          "name": "stdout",
          "text": [
            "<class 'dict'>\n"
          ]
        },
        {
          "output_type": "execute_result",
          "data": {
            "text/html": [
              "\n",
              "  <div id=\"df-27248e61-18f4-4d79-ae93-12f56f55269a\">\n",
              "    <div class=\"colab-df-container\">\n",
              "      <div>\n",
              "<style scoped>\n",
              "    .dataframe tbody tr th:only-of-type {\n",
              "        vertical-align: middle;\n",
              "    }\n",
              "\n",
              "    .dataframe tbody tr th {\n",
              "        vertical-align: top;\n",
              "    }\n",
              "\n",
              "    .dataframe thead th {\n",
              "        text-align: right;\n",
              "    }\n",
              "</style>\n",
              "<table border=\"1\" class=\"dataframe\">\n",
              "  <thead>\n",
              "    <tr style=\"text-align: right;\">\n",
              "      <th></th>\n",
              "      <th>26.</th>\n",
              "      <th>carpenters.</th>\n",
              "      <th>1770.</th>\n",
              "      <th>obsession.</th>\n",
              "    </tr>\n",
              "  </thead>\n",
              "  <tbody>\n",
              "    <tr>\n",
              "      <th>sent0</th>\n",
              "      <td>1</td>\n",
              "      <td>0</td>\n",
              "      <td>0</td>\n",
              "      <td>0</td>\n",
              "    </tr>\n",
              "    <tr>\n",
              "      <th>sent1</th>\n",
              "      <td>0</td>\n",
              "      <td>1</td>\n",
              "      <td>0</td>\n",
              "      <td>0</td>\n",
              "    </tr>\n",
              "    <tr>\n",
              "      <th>sent2</th>\n",
              "      <td>0</td>\n",
              "      <td>0</td>\n",
              "      <td>1</td>\n",
              "      <td>0</td>\n",
              "    </tr>\n",
              "    <tr>\n",
              "      <th>sent3</th>\n",
              "      <td>0</td>\n",
              "      <td>0</td>\n",
              "      <td>0</td>\n",
              "      <td>1</td>\n",
              "    </tr>\n",
              "  </tbody>\n",
              "</table>\n",
              "</div>\n",
              "      <button class=\"colab-df-convert\" onclick=\"convertToInteractive('df-27248e61-18f4-4d79-ae93-12f56f55269a')\"\n",
              "              title=\"Convert this dataframe to an interactive table.\"\n",
              "              style=\"display:none;\">\n",
              "        \n",
              "  <svg xmlns=\"http://www.w3.org/2000/svg\" height=\"24px\"viewBox=\"0 0 24 24\"\n",
              "       width=\"24px\">\n",
              "    <path d=\"M0 0h24v24H0V0z\" fill=\"none\"/>\n",
              "    <path d=\"M18.56 5.44l.94 2.06.94-2.06 2.06-.94-2.06-.94-.94-2.06-.94 2.06-2.06.94zm-11 1L8.5 8.5l.94-2.06 2.06-.94-2.06-.94L8.5 2.5l-.94 2.06-2.06.94zm10 10l.94 2.06.94-2.06 2.06-.94-2.06-.94-.94-2.06-.94 2.06-2.06.94z\"/><path d=\"M17.41 7.96l-1.37-1.37c-.4-.4-.92-.59-1.43-.59-.52 0-1.04.2-1.43.59L10.3 9.45l-7.72 7.72c-.78.78-.78 2.05 0 2.83L4 21.41c.39.39.9.59 1.41.59.51 0 1.02-.2 1.41-.59l7.78-7.78 2.81-2.81c.8-.78.8-2.07 0-2.86zM5.41 20L4 18.59l7.72-7.72 1.47 1.35L5.41 20z\"/>\n",
              "  </svg>\n",
              "      </button>\n",
              "      \n",
              "  <style>\n",
              "    .colab-df-container {\n",
              "      display:flex;\n",
              "      flex-wrap:wrap;\n",
              "      gap: 12px;\n",
              "    }\n",
              "\n",
              "    .colab-df-convert {\n",
              "      background-color: #E8F0FE;\n",
              "      border: none;\n",
              "      border-radius: 50%;\n",
              "      cursor: pointer;\n",
              "      display: none;\n",
              "      fill: #1967D2;\n",
              "      height: 32px;\n",
              "      padding: 0 0 0 0;\n",
              "      width: 32px;\n",
              "    }\n",
              "\n",
              "    .colab-df-convert:hover {\n",
              "      background-color: #E2EBFA;\n",
              "      box-shadow: 0px 1px 2px rgba(60, 64, 67, 0.3), 0px 1px 3px 1px rgba(60, 64, 67, 0.15);\n",
              "      fill: #174EA6;\n",
              "    }\n",
              "\n",
              "    [theme=dark] .colab-df-convert {\n",
              "      background-color: #3B4455;\n",
              "      fill: #D2E3FC;\n",
              "    }\n",
              "\n",
              "    [theme=dark] .colab-df-convert:hover {\n",
              "      background-color: #434B5C;\n",
              "      box-shadow: 0px 1px 3px 1px rgba(0, 0, 0, 0.15);\n",
              "      filter: drop-shadow(0px 1px 2px rgba(0, 0, 0, 0.3));\n",
              "      fill: #FFFFFF;\n",
              "    }\n",
              "  </style>\n",
              "\n",
              "      <script>\n",
              "        const buttonEl =\n",
              "          document.querySelector('#df-27248e61-18f4-4d79-ae93-12f56f55269a button.colab-df-convert');\n",
              "        buttonEl.style.display =\n",
              "          google.colab.kernel.accessAllowed ? 'block' : 'none';\n",
              "\n",
              "        async function convertToInteractive(key) {\n",
              "          const element = document.querySelector('#df-27248e61-18f4-4d79-ae93-12f56f55269a');\n",
              "          const dataTable =\n",
              "            await google.colab.kernel.invokeFunction('convertToInteractive',\n",
              "                                                     [key], {});\n",
              "          if (!dataTable) return;\n",
              "\n",
              "          const docLinkHtml = 'Like what you see? Visit the ' +\n",
              "            '<a target=\"_blank\" href=https://colab.research.google.com/notebooks/data_table.ipynb>data table notebook</a>'\n",
              "            + ' to learn more about interactive tables.';\n",
              "          element.innerHTML = '';\n",
              "          dataTable['output_type'] = 'display_data';\n",
              "          await google.colab.output.renderOutput(dataTable, element);\n",
              "          const docLink = document.createElement('div');\n",
              "          docLink.innerHTML = docLinkHtml;\n",
              "          element.appendChild(docLink);\n",
              "        }\n",
              "      </script>\n",
              "    </div>\n",
              "  </div>\n",
              "  "
            ],
            "text/plain": [
              "       26.  carpenters.  1770.  obsession.\n",
              "sent0    1            0      0           0\n",
              "sent1    0            1      0           0\n",
              "sent2    0            0      1           0\n",
              "sent3    0            0      0           1"
            ]
          },
          "metadata": {},
          "execution_count": 102
        }
      ],
      "source": [
        "import pandas as pd\n",
        "\n",
        "# Loading the corpus\n",
        "sentences = \"\"\"Thomas Jefferson began building Monticello at the age of 26.\\n\"\"\"\n",
        "sentences += \"\"\"Construction was done mostly by local masons and carpenters.\\n\"\"\"\n",
        "sentences += \"He moved into the South Pavilion in 1770.\\n\"\n",
        "sentences += \"\"\"Turning Monticello into a neoclassical masterpiece was Jefferson's obsession.\"\"\"\n",
        "\n",
        "# Loading the tokens into a dictionary (notice that we asume that each line is a document)\n",
        "corpus = {}\n",
        "print(type(corpus))\n",
        "# for i, sent in enumerate(sentences.split('\\n')):\n",
        "#     corpus['sent{}'.format(i)] = dict((tok, 1) for tok in sent.split())\n",
        "\n",
        "for i, sent in enumerate(sentences.split('\\n')):\n",
        "  for token in sent.split():\n",
        "    #print((token,1))\n",
        "    corpus['sent{}'.format(i)]=dict([(token,1)])\n",
        "\n",
        "# Loading the dictionary contents into a pandas dataframe. \n",
        "df = pd.DataFrame.from_records(corpus).fillna(0).astype(int).T\n",
        "# SEE THE .T, which transposes the matrix for visualisation purposes.\n",
        "\n",
        "\n",
        "df[df.columns[:10]]\n"
      ]
    },
    {
      "cell_type": "markdown",
      "metadata": {
        "id": "bEfIBAPsvVlC"
      },
      "source": [
        "### One-hot vectors\n",
        "\n",
        "This is our input sentence (and its vocabulary)"
      ]
    },
    {
      "cell_type": "code",
      "execution_count": null,
      "metadata": {
        "id": "qk3qQYEzvVlC",
        "colab": {
          "base_uri": "https://localhost:8080/"
        },
        "outputId": "366d8850-bc6c-439c-9d2c-617d748636f5"
      },
      "outputs": [
        {
          "output_type": "stream",
          "name": "stdout",
          "text": [
            "['Thomas', 'Jefferson', 'began', 'building', 'Monticello', 'at', 'the', 'age', 'of', '26.', 'Monticello', 'at', 'the', 'age', 'of', '26.', 'Monticello', 'at', 'the', 'age', 'of', '26.', 'Monticello', 'at', 'the', 'age', 'of', '26.']\n",
            "<class 'set'>\n",
            "<class 'list'>\n",
            "['26.', 'Jefferson', 'Monticello', 'Thomas', 'age', 'at', 'began', 'building', 'of', 'the']\n"
          ]
        }
      ],
      "source": [
        "import numpy as np\n",
        "sentence = \"Thomas Jefferson began building Monticello at the age of 26. Monticello at the age of 26. Monticello at the age of 26. Monticello at the age of 26. \"\n",
        "token_sequence = str.split(sentence) #is str from panda here?\n",
        "print(token_sequence)\n",
        "print(type(set(token_sequence)))\n",
        "vocab = sorted(set(token_sequence))\n",
        "print(type(vocab))\n",
        "print(vocab)"
      ]
    },
    {
      "cell_type": "markdown",
      "metadata": {
        "id": "Td5Or7GZvVlD"
      },
      "source": [
        "And now, we produce the one-hot representation"
      ]
    },
    {
      "cell_type": "code",
      "execution_count": null,
      "metadata": {
        "id": "g0ORT_KFvVlE",
        "colab": {
          "base_uri": "https://localhost:8080/"
        },
        "outputId": "ee49e16d-cea9-4fdc-a74c-5ecf078cd384"
      },
      "outputs": [
        {
          "output_type": "stream",
          "name": "stdout",
          "text": [
            "28\n",
            "10\n",
            "['Thomas', 'Jefferson', 'began', 'building', 'Monticello', 'at', 'the', 'age', 'of', '26.', 'Monticello', 'at', 'the', 'age', 'of', '26.', 'Monticello', 'at', 'the', 'age', 'of', '26.', 'Monticello', 'at', 'the', 'age', 'of', '26.']\n",
            "[[0 0 0 0 0 0 0 0 0 0]\n",
            " [0 0 0 0 0 0 0 0 0 0]\n",
            " [0 0 0 0 0 0 0 0 0 0]\n",
            " [0 0 0 0 0 0 0 0 0 0]\n",
            " [0 0 0 0 0 0 0 0 0 0]\n",
            " [0 0 0 0 0 0 0 0 0 0]\n",
            " [0 0 0 0 0 0 0 0 0 0]\n",
            " [0 0 0 0 0 0 0 0 0 0]\n",
            " [0 0 0 0 0 0 0 0 0 0]\n",
            " [0 0 0 0 0 0 0 0 0 0]\n",
            " [0 0 0 0 0 0 0 0 0 0]\n",
            " [0 0 0 0 0 0 0 0 0 0]\n",
            " [0 0 0 0 0 0 0 0 0 0]\n",
            " [0 0 0 0 0 0 0 0 0 0]\n",
            " [0 0 0 0 0 0 0 0 0 0]\n",
            " [0 0 0 0 0 0 0 0 0 0]\n",
            " [0 0 0 0 0 0 0 0 0 0]\n",
            " [0 0 0 0 0 0 0 0 0 0]\n",
            " [0 0 0 0 0 0 0 0 0 0]\n",
            " [0 0 0 0 0 0 0 0 0 0]\n",
            " [0 0 0 0 0 0 0 0 0 0]\n",
            " [0 0 0 0 0 0 0 0 0 0]\n",
            " [0 0 0 0 0 0 0 0 0 0]\n",
            " [0 0 0 0 0 0 0 0 0 0]\n",
            " [0 0 0 0 0 0 0 0 0 0]\n",
            " [0 0 0 0 0 0 0 0 0 0]\n",
            " [0 0 0 0 0 0 0 0 0 0]\n",
            " [0 0 0 0 0 0 0 0 0 0]]\n"
          ]
        }
      ],
      "source": [
        "num_tokens = len(token_sequence)\n",
        "print(len(token_sequence))\n",
        "vocab_size = len(vocab)\n",
        "print(len(vocab))\n",
        "onehot_vectors = np.zeros((num_tokens, vocab_size), int) # create the |tokens| x |vocabulary size| matrix of zeros \n",
        "print(token_sequence)\n",
        "print(onehot_vectors)"
      ]
    },
    {
      "cell_type": "code",
      "execution_count": null,
      "metadata": {
        "id": "6R786ZjdvVlE",
        "colab": {
          "base_uri": "https://localhost:8080/"
        },
        "outputId": "5d10af6d-56ee-4039-e98a-f39ba1ad889f"
      },
      "outputs": [
        {
          "output_type": "stream",
          "name": "stdout",
          "text": [
            "Vocabulary:\t ['26.', 'Jefferson', 'Monticello', 'Thomas', 'age', 'at', 'began', 'building', 'of', 'the']\n",
            "Sentence:\t ['Thomas', 'Jefferson', 'began', 'building', 'Monticello', 'at', 'the', 'age', 'of', '26.', 'Monticello', 'at', 'the', 'age', 'of', '26.', 'Monticello', 'at', 'the', 'age', 'of', '26.', 'Monticello', 'at', 'the', 'age', 'of', '26.']\n"
          ]
        },
        {
          "output_type": "execute_result",
          "data": {
            "text/plain": [
              "array([[0, 0, 0, 1, 0, 0, 0, 0, 0, 0],\n",
              "       [0, 1, 0, 0, 0, 0, 0, 0, 0, 0],\n",
              "       [0, 0, 0, 0, 0, 0, 1, 0, 0, 0],\n",
              "       [0, 0, 0, 0, 0, 0, 0, 1, 0, 0],\n",
              "       [0, 0, 1, 0, 0, 0, 0, 0, 0, 0],\n",
              "       [0, 0, 0, 0, 0, 1, 0, 0, 0, 0],\n",
              "       [0, 0, 0, 0, 0, 0, 0, 0, 0, 1],\n",
              "       [0, 0, 0, 0, 1, 0, 0, 0, 0, 0],\n",
              "       [0, 0, 0, 0, 0, 0, 0, 0, 1, 0],\n",
              "       [1, 0, 0, 0, 0, 0, 0, 0, 0, 0],\n",
              "       [0, 0, 1, 0, 0, 0, 0, 0, 0, 0],\n",
              "       [0, 0, 0, 0, 0, 1, 0, 0, 0, 0],\n",
              "       [0, 0, 0, 0, 0, 0, 0, 0, 0, 1],\n",
              "       [0, 0, 0, 0, 1, 0, 0, 0, 0, 0],\n",
              "       [0, 0, 0, 0, 0, 0, 0, 0, 1, 0],\n",
              "       [1, 0, 0, 0, 0, 0, 0, 0, 0, 0],\n",
              "       [0, 0, 1, 0, 0, 0, 0, 0, 0, 0],\n",
              "       [0, 0, 0, 0, 0, 1, 0, 0, 0, 0],\n",
              "       [0, 0, 0, 0, 0, 0, 0, 0, 0, 1],\n",
              "       [0, 0, 0, 0, 1, 0, 0, 0, 0, 0],\n",
              "       [0, 0, 0, 0, 0, 0, 0, 0, 1, 0],\n",
              "       [1, 0, 0, 0, 0, 0, 0, 0, 0, 0],\n",
              "       [0, 0, 1, 0, 0, 0, 0, 0, 0, 0],\n",
              "       [0, 0, 0, 0, 0, 1, 0, 0, 0, 0],\n",
              "       [0, 0, 0, 0, 0, 0, 0, 0, 0, 1],\n",
              "       [0, 0, 0, 0, 1, 0, 0, 0, 0, 0],\n",
              "       [0, 0, 0, 0, 0, 0, 0, 0, 1, 0],\n",
              "       [1, 0, 0, 0, 0, 0, 0, 0, 0, 0]])"
            ]
          },
          "metadata": {},
          "execution_count": 106
        }
      ],
      "source": [
        "for i, word in enumerate(token_sequence):\n",
        "   onehot_vectors[i, vocab.index(word)] = 1  # set one to right dimension to 1\n",
        "\n",
        "print(\"Vocabulary:\\t\", vocab)\n",
        "print(\"Sentence:\\t\", token_sequence)\n",
        "onehot_vectors"
      ]
    },
    {
      "cell_type": "markdown",
      "metadata": {
        "id": "G5VyvFQxvVlE"
      },
      "source": [
        "Let us bring pandas into the game"
      ]
    },
    {
      "cell_type": "code",
      "execution_count": null,
      "metadata": {
        "id": "t_18W5XbvVlE",
        "colab": {
          "base_uri": "https://localhost:8080/",
          "height": 928
        },
        "outputId": "1fa92847-1755-4525-833b-afffc8e7464c"
      },
      "outputs": [
        {
          "output_type": "execute_result",
          "data": {
            "text/html": [
              "\n",
              "  <div id=\"df-54f26b02-fa01-4045-8993-c5e29b6efc90\">\n",
              "    <div class=\"colab-df-container\">\n",
              "      <div>\n",
              "<style scoped>\n",
              "    .dataframe tbody tr th:only-of-type {\n",
              "        vertical-align: middle;\n",
              "    }\n",
              "\n",
              "    .dataframe tbody tr th {\n",
              "        vertical-align: top;\n",
              "    }\n",
              "\n",
              "    .dataframe thead th {\n",
              "        text-align: right;\n",
              "    }\n",
              "</style>\n",
              "<table border=\"1\" class=\"dataframe\">\n",
              "  <thead>\n",
              "    <tr style=\"text-align: right;\">\n",
              "      <th></th>\n",
              "      <th>26.</th>\n",
              "      <th>Jefferson</th>\n",
              "      <th>Monticello</th>\n",
              "      <th>Thomas</th>\n",
              "      <th>age</th>\n",
              "      <th>at</th>\n",
              "      <th>began</th>\n",
              "      <th>building</th>\n",
              "      <th>of</th>\n",
              "      <th>the</th>\n",
              "    </tr>\n",
              "  </thead>\n",
              "  <tbody>\n",
              "    <tr>\n",
              "      <th>0</th>\n",
              "      <td>0</td>\n",
              "      <td>0</td>\n",
              "      <td>0</td>\n",
              "      <td>1</td>\n",
              "      <td>0</td>\n",
              "      <td>0</td>\n",
              "      <td>0</td>\n",
              "      <td>0</td>\n",
              "      <td>0</td>\n",
              "      <td>0</td>\n",
              "    </tr>\n",
              "    <tr>\n",
              "      <th>1</th>\n",
              "      <td>0</td>\n",
              "      <td>1</td>\n",
              "      <td>0</td>\n",
              "      <td>0</td>\n",
              "      <td>0</td>\n",
              "      <td>0</td>\n",
              "      <td>0</td>\n",
              "      <td>0</td>\n",
              "      <td>0</td>\n",
              "      <td>0</td>\n",
              "    </tr>\n",
              "    <tr>\n",
              "      <th>2</th>\n",
              "      <td>0</td>\n",
              "      <td>0</td>\n",
              "      <td>0</td>\n",
              "      <td>0</td>\n",
              "      <td>0</td>\n",
              "      <td>0</td>\n",
              "      <td>1</td>\n",
              "      <td>0</td>\n",
              "      <td>0</td>\n",
              "      <td>0</td>\n",
              "    </tr>\n",
              "    <tr>\n",
              "      <th>3</th>\n",
              "      <td>0</td>\n",
              "      <td>0</td>\n",
              "      <td>0</td>\n",
              "      <td>0</td>\n",
              "      <td>0</td>\n",
              "      <td>0</td>\n",
              "      <td>0</td>\n",
              "      <td>1</td>\n",
              "      <td>0</td>\n",
              "      <td>0</td>\n",
              "    </tr>\n",
              "    <tr>\n",
              "      <th>4</th>\n",
              "      <td>0</td>\n",
              "      <td>0</td>\n",
              "      <td>1</td>\n",
              "      <td>0</td>\n",
              "      <td>0</td>\n",
              "      <td>0</td>\n",
              "      <td>0</td>\n",
              "      <td>0</td>\n",
              "      <td>0</td>\n",
              "      <td>0</td>\n",
              "    </tr>\n",
              "    <tr>\n",
              "      <th>5</th>\n",
              "      <td>0</td>\n",
              "      <td>0</td>\n",
              "      <td>0</td>\n",
              "      <td>0</td>\n",
              "      <td>0</td>\n",
              "      <td>1</td>\n",
              "      <td>0</td>\n",
              "      <td>0</td>\n",
              "      <td>0</td>\n",
              "      <td>0</td>\n",
              "    </tr>\n",
              "    <tr>\n",
              "      <th>6</th>\n",
              "      <td>0</td>\n",
              "      <td>0</td>\n",
              "      <td>0</td>\n",
              "      <td>0</td>\n",
              "      <td>0</td>\n",
              "      <td>0</td>\n",
              "      <td>0</td>\n",
              "      <td>0</td>\n",
              "      <td>0</td>\n",
              "      <td>1</td>\n",
              "    </tr>\n",
              "    <tr>\n",
              "      <th>7</th>\n",
              "      <td>0</td>\n",
              "      <td>0</td>\n",
              "      <td>0</td>\n",
              "      <td>0</td>\n",
              "      <td>1</td>\n",
              "      <td>0</td>\n",
              "      <td>0</td>\n",
              "      <td>0</td>\n",
              "      <td>0</td>\n",
              "      <td>0</td>\n",
              "    </tr>\n",
              "    <tr>\n",
              "      <th>8</th>\n",
              "      <td>0</td>\n",
              "      <td>0</td>\n",
              "      <td>0</td>\n",
              "      <td>0</td>\n",
              "      <td>0</td>\n",
              "      <td>0</td>\n",
              "      <td>0</td>\n",
              "      <td>0</td>\n",
              "      <td>1</td>\n",
              "      <td>0</td>\n",
              "    </tr>\n",
              "    <tr>\n",
              "      <th>9</th>\n",
              "      <td>1</td>\n",
              "      <td>0</td>\n",
              "      <td>0</td>\n",
              "      <td>0</td>\n",
              "      <td>0</td>\n",
              "      <td>0</td>\n",
              "      <td>0</td>\n",
              "      <td>0</td>\n",
              "      <td>0</td>\n",
              "      <td>0</td>\n",
              "    </tr>\n",
              "    <tr>\n",
              "      <th>10</th>\n",
              "      <td>0</td>\n",
              "      <td>0</td>\n",
              "      <td>1</td>\n",
              "      <td>0</td>\n",
              "      <td>0</td>\n",
              "      <td>0</td>\n",
              "      <td>0</td>\n",
              "      <td>0</td>\n",
              "      <td>0</td>\n",
              "      <td>0</td>\n",
              "    </tr>\n",
              "    <tr>\n",
              "      <th>11</th>\n",
              "      <td>0</td>\n",
              "      <td>0</td>\n",
              "      <td>0</td>\n",
              "      <td>0</td>\n",
              "      <td>0</td>\n",
              "      <td>1</td>\n",
              "      <td>0</td>\n",
              "      <td>0</td>\n",
              "      <td>0</td>\n",
              "      <td>0</td>\n",
              "    </tr>\n",
              "    <tr>\n",
              "      <th>12</th>\n",
              "      <td>0</td>\n",
              "      <td>0</td>\n",
              "      <td>0</td>\n",
              "      <td>0</td>\n",
              "      <td>0</td>\n",
              "      <td>0</td>\n",
              "      <td>0</td>\n",
              "      <td>0</td>\n",
              "      <td>0</td>\n",
              "      <td>1</td>\n",
              "    </tr>\n",
              "    <tr>\n",
              "      <th>13</th>\n",
              "      <td>0</td>\n",
              "      <td>0</td>\n",
              "      <td>0</td>\n",
              "      <td>0</td>\n",
              "      <td>1</td>\n",
              "      <td>0</td>\n",
              "      <td>0</td>\n",
              "      <td>0</td>\n",
              "      <td>0</td>\n",
              "      <td>0</td>\n",
              "    </tr>\n",
              "    <tr>\n",
              "      <th>14</th>\n",
              "      <td>0</td>\n",
              "      <td>0</td>\n",
              "      <td>0</td>\n",
              "      <td>0</td>\n",
              "      <td>0</td>\n",
              "      <td>0</td>\n",
              "      <td>0</td>\n",
              "      <td>0</td>\n",
              "      <td>1</td>\n",
              "      <td>0</td>\n",
              "    </tr>\n",
              "    <tr>\n",
              "      <th>15</th>\n",
              "      <td>1</td>\n",
              "      <td>0</td>\n",
              "      <td>0</td>\n",
              "      <td>0</td>\n",
              "      <td>0</td>\n",
              "      <td>0</td>\n",
              "      <td>0</td>\n",
              "      <td>0</td>\n",
              "      <td>0</td>\n",
              "      <td>0</td>\n",
              "    </tr>\n",
              "    <tr>\n",
              "      <th>16</th>\n",
              "      <td>0</td>\n",
              "      <td>0</td>\n",
              "      <td>1</td>\n",
              "      <td>0</td>\n",
              "      <td>0</td>\n",
              "      <td>0</td>\n",
              "      <td>0</td>\n",
              "      <td>0</td>\n",
              "      <td>0</td>\n",
              "      <td>0</td>\n",
              "    </tr>\n",
              "    <tr>\n",
              "      <th>17</th>\n",
              "      <td>0</td>\n",
              "      <td>0</td>\n",
              "      <td>0</td>\n",
              "      <td>0</td>\n",
              "      <td>0</td>\n",
              "      <td>1</td>\n",
              "      <td>0</td>\n",
              "      <td>0</td>\n",
              "      <td>0</td>\n",
              "      <td>0</td>\n",
              "    </tr>\n",
              "    <tr>\n",
              "      <th>18</th>\n",
              "      <td>0</td>\n",
              "      <td>0</td>\n",
              "      <td>0</td>\n",
              "      <td>0</td>\n",
              "      <td>0</td>\n",
              "      <td>0</td>\n",
              "      <td>0</td>\n",
              "      <td>0</td>\n",
              "      <td>0</td>\n",
              "      <td>1</td>\n",
              "    </tr>\n",
              "    <tr>\n",
              "      <th>19</th>\n",
              "      <td>0</td>\n",
              "      <td>0</td>\n",
              "      <td>0</td>\n",
              "      <td>0</td>\n",
              "      <td>1</td>\n",
              "      <td>0</td>\n",
              "      <td>0</td>\n",
              "      <td>0</td>\n",
              "      <td>0</td>\n",
              "      <td>0</td>\n",
              "    </tr>\n",
              "    <tr>\n",
              "      <th>20</th>\n",
              "      <td>0</td>\n",
              "      <td>0</td>\n",
              "      <td>0</td>\n",
              "      <td>0</td>\n",
              "      <td>0</td>\n",
              "      <td>0</td>\n",
              "      <td>0</td>\n",
              "      <td>0</td>\n",
              "      <td>1</td>\n",
              "      <td>0</td>\n",
              "    </tr>\n",
              "    <tr>\n",
              "      <th>21</th>\n",
              "      <td>1</td>\n",
              "      <td>0</td>\n",
              "      <td>0</td>\n",
              "      <td>0</td>\n",
              "      <td>0</td>\n",
              "      <td>0</td>\n",
              "      <td>0</td>\n",
              "      <td>0</td>\n",
              "      <td>0</td>\n",
              "      <td>0</td>\n",
              "    </tr>\n",
              "    <tr>\n",
              "      <th>22</th>\n",
              "      <td>0</td>\n",
              "      <td>0</td>\n",
              "      <td>1</td>\n",
              "      <td>0</td>\n",
              "      <td>0</td>\n",
              "      <td>0</td>\n",
              "      <td>0</td>\n",
              "      <td>0</td>\n",
              "      <td>0</td>\n",
              "      <td>0</td>\n",
              "    </tr>\n",
              "    <tr>\n",
              "      <th>23</th>\n",
              "      <td>0</td>\n",
              "      <td>0</td>\n",
              "      <td>0</td>\n",
              "      <td>0</td>\n",
              "      <td>0</td>\n",
              "      <td>1</td>\n",
              "      <td>0</td>\n",
              "      <td>0</td>\n",
              "      <td>0</td>\n",
              "      <td>0</td>\n",
              "    </tr>\n",
              "    <tr>\n",
              "      <th>24</th>\n",
              "      <td>0</td>\n",
              "      <td>0</td>\n",
              "      <td>0</td>\n",
              "      <td>0</td>\n",
              "      <td>0</td>\n",
              "      <td>0</td>\n",
              "      <td>0</td>\n",
              "      <td>0</td>\n",
              "      <td>0</td>\n",
              "      <td>1</td>\n",
              "    </tr>\n",
              "    <tr>\n",
              "      <th>25</th>\n",
              "      <td>0</td>\n",
              "      <td>0</td>\n",
              "      <td>0</td>\n",
              "      <td>0</td>\n",
              "      <td>1</td>\n",
              "      <td>0</td>\n",
              "      <td>0</td>\n",
              "      <td>0</td>\n",
              "      <td>0</td>\n",
              "      <td>0</td>\n",
              "    </tr>\n",
              "    <tr>\n",
              "      <th>26</th>\n",
              "      <td>0</td>\n",
              "      <td>0</td>\n",
              "      <td>0</td>\n",
              "      <td>0</td>\n",
              "      <td>0</td>\n",
              "      <td>0</td>\n",
              "      <td>0</td>\n",
              "      <td>0</td>\n",
              "      <td>1</td>\n",
              "      <td>0</td>\n",
              "    </tr>\n",
              "    <tr>\n",
              "      <th>27</th>\n",
              "      <td>1</td>\n",
              "      <td>0</td>\n",
              "      <td>0</td>\n",
              "      <td>0</td>\n",
              "      <td>0</td>\n",
              "      <td>0</td>\n",
              "      <td>0</td>\n",
              "      <td>0</td>\n",
              "      <td>0</td>\n",
              "      <td>0</td>\n",
              "    </tr>\n",
              "  </tbody>\n",
              "</table>\n",
              "</div>\n",
              "      <button class=\"colab-df-convert\" onclick=\"convertToInteractive('df-54f26b02-fa01-4045-8993-c5e29b6efc90')\"\n",
              "              title=\"Convert this dataframe to an interactive table.\"\n",
              "              style=\"display:none;\">\n",
              "        \n",
              "  <svg xmlns=\"http://www.w3.org/2000/svg\" height=\"24px\"viewBox=\"0 0 24 24\"\n",
              "       width=\"24px\">\n",
              "    <path d=\"M0 0h24v24H0V0z\" fill=\"none\"/>\n",
              "    <path d=\"M18.56 5.44l.94 2.06.94-2.06 2.06-.94-2.06-.94-.94-2.06-.94 2.06-2.06.94zm-11 1L8.5 8.5l.94-2.06 2.06-.94-2.06-.94L8.5 2.5l-.94 2.06-2.06.94zm10 10l.94 2.06.94-2.06 2.06-.94-2.06-.94-.94-2.06-.94 2.06-2.06.94z\"/><path d=\"M17.41 7.96l-1.37-1.37c-.4-.4-.92-.59-1.43-.59-.52 0-1.04.2-1.43.59L10.3 9.45l-7.72 7.72c-.78.78-.78 2.05 0 2.83L4 21.41c.39.39.9.59 1.41.59.51 0 1.02-.2 1.41-.59l7.78-7.78 2.81-2.81c.8-.78.8-2.07 0-2.86zM5.41 20L4 18.59l7.72-7.72 1.47 1.35L5.41 20z\"/>\n",
              "  </svg>\n",
              "      </button>\n",
              "      \n",
              "  <style>\n",
              "    .colab-df-container {\n",
              "      display:flex;\n",
              "      flex-wrap:wrap;\n",
              "      gap: 12px;\n",
              "    }\n",
              "\n",
              "    .colab-df-convert {\n",
              "      background-color: #E8F0FE;\n",
              "      border: none;\n",
              "      border-radius: 50%;\n",
              "      cursor: pointer;\n",
              "      display: none;\n",
              "      fill: #1967D2;\n",
              "      height: 32px;\n",
              "      padding: 0 0 0 0;\n",
              "      width: 32px;\n",
              "    }\n",
              "\n",
              "    .colab-df-convert:hover {\n",
              "      background-color: #E2EBFA;\n",
              "      box-shadow: 0px 1px 2px rgba(60, 64, 67, 0.3), 0px 1px 3px 1px rgba(60, 64, 67, 0.15);\n",
              "      fill: #174EA6;\n",
              "    }\n",
              "\n",
              "    [theme=dark] .colab-df-convert {\n",
              "      background-color: #3B4455;\n",
              "      fill: #D2E3FC;\n",
              "    }\n",
              "\n",
              "    [theme=dark] .colab-df-convert:hover {\n",
              "      background-color: #434B5C;\n",
              "      box-shadow: 0px 1px 3px 1px rgba(0, 0, 0, 0.15);\n",
              "      filter: drop-shadow(0px 1px 2px rgba(0, 0, 0, 0.3));\n",
              "      fill: #FFFFFF;\n",
              "    }\n",
              "  </style>\n",
              "\n",
              "      <script>\n",
              "        const buttonEl =\n",
              "          document.querySelector('#df-54f26b02-fa01-4045-8993-c5e29b6efc90 button.colab-df-convert');\n",
              "        buttonEl.style.display =\n",
              "          google.colab.kernel.accessAllowed ? 'block' : 'none';\n",
              "\n",
              "        async function convertToInteractive(key) {\n",
              "          const element = document.querySelector('#df-54f26b02-fa01-4045-8993-c5e29b6efc90');\n",
              "          const dataTable =\n",
              "            await google.colab.kernel.invokeFunction('convertToInteractive',\n",
              "                                                     [key], {});\n",
              "          if (!dataTable) return;\n",
              "\n",
              "          const docLinkHtml = 'Like what you see? Visit the ' +\n",
              "            '<a target=\"_blank\" href=https://colab.research.google.com/notebooks/data_table.ipynb>data table notebook</a>'\n",
              "            + ' to learn more about interactive tables.';\n",
              "          element.innerHTML = '';\n",
              "          dataTable['output_type'] = 'display_data';\n",
              "          await google.colab.output.renderOutput(dataTable, element);\n",
              "          const docLink = document.createElement('div');\n",
              "          docLink.innerHTML = docLinkHtml;\n",
              "          element.appendChild(docLink);\n",
              "        }\n",
              "      </script>\n",
              "    </div>\n",
              "  </div>\n",
              "  "
            ],
            "text/plain": [
              "    26.  Jefferson  Monticello  Thomas  age  at  began  building  of  the\n",
              "0     0          0           0       1    0   0      0         0   0    0\n",
              "1     0          1           0       0    0   0      0         0   0    0\n",
              "2     0          0           0       0    0   0      1         0   0    0\n",
              "3     0          0           0       0    0   0      0         1   0    0\n",
              "4     0          0           1       0    0   0      0         0   0    0\n",
              "5     0          0           0       0    0   1      0         0   0    0\n",
              "6     0          0           0       0    0   0      0         0   0    1\n",
              "7     0          0           0       0    1   0      0         0   0    0\n",
              "8     0          0           0       0    0   0      0         0   1    0\n",
              "9     1          0           0       0    0   0      0         0   0    0\n",
              "10    0          0           1       0    0   0      0         0   0    0\n",
              "11    0          0           0       0    0   1      0         0   0    0\n",
              "12    0          0           0       0    0   0      0         0   0    1\n",
              "13    0          0           0       0    1   0      0         0   0    0\n",
              "14    0          0           0       0    0   0      0         0   1    0\n",
              "15    1          0           0       0    0   0      0         0   0    0\n",
              "16    0          0           1       0    0   0      0         0   0    0\n",
              "17    0          0           0       0    0   1      0         0   0    0\n",
              "18    0          0           0       0    0   0      0         0   0    1\n",
              "19    0          0           0       0    1   0      0         0   0    0\n",
              "20    0          0           0       0    0   0      0         0   1    0\n",
              "21    1          0           0       0    0   0      0         0   0    0\n",
              "22    0          0           1       0    0   0      0         0   0    0\n",
              "23    0          0           0       0    0   1      0         0   0    0\n",
              "24    0          0           0       0    0   0      0         0   0    1\n",
              "25    0          0           0       0    1   0      0         0   0    0\n",
              "26    0          0           0       0    0   0      0         0   1    0\n",
              "27    1          0           0       0    0   0      0         0   0    0"
            ]
          },
          "metadata": {},
          "execution_count": 107
        }
      ],
      "source": [
        "pd.DataFrame(onehot_vectors, columns=vocab)"
      ]
    },
    {
      "cell_type": "markdown",
      "metadata": {
        "id": "50klIpbbvVlE"
      },
      "source": [
        "**End of the notebook**"
      ]
    },
    {
      "cell_type": "code",
      "execution_count": null,
      "metadata": {
        "id": "ywgvsE_vvVlE"
      },
      "outputs": [],
      "source": [
        ""
      ]
    }
  ],
  "metadata": {
    "kernelspec": {
      "display_name": "Python 3",
      "language": "python",
      "name": "python3"
    },
    "language_info": {
      "codemirror_mode": {
        "name": "ipython",
        "version": 3
      },
      "file_extension": ".py",
      "mimetype": "text/x-python",
      "name": "python",
      "nbconvert_exporter": "python",
      "pygments_lexer": "ipython3",
      "version": "3.6.9"
    },
    "colab": {
      "name": "Copia de 02_dit_coli_words.ipynb",
      "provenance": [],
      "collapsed_sections": []
    }
  },
  "nbformat": 4,
  "nbformat_minor": 0
}