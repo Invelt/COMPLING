{
 "cells": [
  {
   "cell_type": "markdown",
   "metadata": {
    "id": "93iGB2PMDiaa"
   },
   "source": [
    "# Introducing the Naive Bayes Classifier\n",
    "\n",
    "Now we will use annotated data to \"learn\" a sentiment classifier"
   ]
  },
  {
   "cell_type": "code",
   "execution_count": 3,
   "metadata": {
    "id": "-sX590NpDiab"
   },
   "outputs": [
    {
     "name": "stdout",
     "output_type": "stream",
     "text": [
      "Collecting nlpia\n",
      "  Using cached nlpia-0.5.2-py2.py3-none-any.whl (32.0 MB)\n",
      "Collecting pypandoc\n",
      "  Using cached pypandoc-1.7.4.tar.gz (30 kB)\n",
      "  Installing build dependencies: started\n",
      "  Installing build dependencies: finished with status 'done'\n",
      "  Getting requirements to build wheel: started\n",
      "  Getting requirements to build wheel: finished with status 'done'\n",
      "  Preparing metadata (pyproject.toml): started\n",
      "  Preparing metadata (pyproject.toml): finished with status 'done'\n",
      "Collecting pugnlp\n",
      "  Using cached pugnlp-0.2.6-py2.py3-none-any.whl (706 kB)\n",
      "Collecting keras\n",
      "  Using cached keras-2.8.0-py2.py3-none-any.whl (1.4 MB)\n",
      "Collecting lxml\n",
      "  Downloading lxml-4.8.0-cp38-cp38-win32.whl (3.3 MB)\n",
      "     ---------------------------------------- 3.3/3.3 MB 4.0 MB/s eta 0:00:00\n",
      "Collecting pandas-datareader\n",
      "  Using cached pandas_datareader-0.10.0-py3-none-any.whl (109 kB)\n",
      "Requirement already satisfied: jupyter in c:\\users\\paolo\\appdata\\local\\programs\\python\\python38-32\\lib\\site-packages (from nlpia) (1.0.0)\n",
      "Collecting html2text\n",
      "  Using cached html2text-2020.1.16-py3-none-any.whl (32 kB)\n",
      "Collecting plotly\n",
      "  Using cached plotly-5.6.0-py2.py3-none-any.whl (27.7 MB)\n",
      "Collecting scikit-learn\n",
      "  Using cached scikit_learn-1.0.2-cp38-cp38-win32.whl (6.4 MB)\n",
      "Collecting seaborn\n",
      "  Using cached seaborn-0.11.2-py3-none-any.whl (292 kB)\n",
      "Collecting nlpia\n",
      "  Using cached nlpia-0.5.1-py2.py3-none-any.whl (32.0 MB)\n",
      "  Using cached nlpia-0.3.0-py2.py3-none-any.whl (32.0 MB)\n",
      "  Using cached nlpia-0.2.15-py2.py3-none-any.whl (32.0 MB)\n",
      "  Using cached nlpia-0.2.14-py2.py3-none-any.whl (32.0 MB)\n",
      "  Using cached nlpia-0.2.13-py2.py3-none-any.whl (32.0 MB)\n",
      "  Using cached nlpia-0.2.11-py2.py3-none-any.whl (32.0 MB)\n",
      "  Using cached nlpia-0.2.10-py2.py3-none-any.whl (32.0 MB)\n",
      "  Using cached nlpia-0.2.9-py2.py3-none-any.whl (32.0 MB)\n",
      "  Using cached nlpia-0.2.8-py2.py3-none-any.whl (32.0 MB)\n",
      "Collecting annoy\n",
      "  Using cached annoy-1.17.0.tar.gz (646 kB)\n",
      "  Preparing metadata (setup.py): started\n",
      "  Preparing metadata (setup.py): finished with status 'done'\n",
      "Collecting nlpia\n",
      "  Using cached nlpia-0.2.7-py2.py3-none-any.whl (32.0 MB)\n",
      "  Using cached nlpia-0.2.6-py2.py3-none-any.whl (26.1 MB)\n",
      "  Using cached nlpia-0.2.5-py2.py3-none-any.whl (26.1 MB)\n",
      "  Using cached nlpia-0.2.2-py2.py3-none-any.whl (32.0 MB)\n",
      "  Using cached nlpia-0.2.1-py2.py3-none-any.whl (32.0 MB)\n",
      "  Using cached nlpia-0.2.0-py2.py3-none-any.whl (32.0 MB)\n",
      "  Using cached nlpia-0.1.89-py2.py3-none-any.whl (32.0 MB)\n",
      "  Using cached nlpia-0.1.88-py2.py3-none-any.whl (32.0 MB)\n",
      "  Using cached nlpia-0.1.87-py2.py3-none-any.whl (32.0 MB)\n",
      "  Using cached nlpia-0.1.86-py2.py3-none-any.whl (32.0 MB)\n",
      "  Using cached nlpia-0.1.85-py2.py3-none-any.whl (32.0 MB)\n",
      "  Using cached nlpia-0.1.84-py2.py3-none-any.whl (29.9 MB)\n",
      "  Using cached nlpia-0.1.83-py2.py3-none-any.whl (29.9 MB)\n",
      "  Using cached nlpia-0.1.82-py2.py3-none-any.whl (29.9 MB)\n",
      "  Using cached nlpia-0.1.81-py2.py3-none-any.whl (29.9 MB)\n",
      "  Using cached nlpia-0.1.80-py2.py3-none-any.whl (58.8 MB)\n",
      "  Using cached nlpia-0.1.79-py2.py3-none-any.whl (58.8 MB)\n",
      "  Using cached nlpia-0.1.78-py2.py3-none-any.whl (58.8 MB)\n",
      "  Using cached nlpia-0.1.77-py2.py3-none-any.whl (58.8 MB)\n",
      "  Using cached nlpia-0.1.76-py2.py3-none-any.whl (58.8 MB)\n",
      "  Using cached nlpia-0.1.75-py2.py3-none-any.whl (58.8 MB)\n",
      "  Using cached nlpia-0.1.72-py2.py3-none-any.whl (55.9 MB)\n",
      "  Using cached nlpia-0.1.71-py2.py3-none-any.whl (55.9 MB)\n",
      "  Using cached nlpia-0.1.70-py2.py3-none-any.whl (55.9 MB)\n",
      "  Using cached nlpia-0.1.69-py2.py3-none-any.whl (55.9 MB)\n",
      "  Using cached nlpia-0.1.68-py2.py3-none-any.whl (55.9 MB)\n",
      "  Using cached nlpia-0.1.63-py2.py3-none-any.whl (55.9 MB)\n",
      "  Using cached nlpia-0.1.62-py2.py3-none-any.whl (55.9 MB)\n",
      "  Using cached nlpia-0.1.60.tar.gz (56.5 MB)\n",
      "  Preparing metadata (setup.py): started\n",
      "  Preparing metadata (setup.py): finished with status 'done'\n",
      "Requirement already satisfied: future in c:\\users\\paolo\\appdata\\local\\programs\\python\\python38-32\\lib\\site-packages (from nlpia) (0.18.2)\n",
      "Collecting h5py\n",
      "  Using cached h5py-3.6.0.tar.gz (384 kB)\n",
      "  Installing build dependencies: started\n",
      "  Installing build dependencies: finished with status 'done'\n",
      "  Getting requirements to build wheel: started\n",
      "  Getting requirements to build wheel: finished with status 'done'\n",
      "  Preparing metadata (pyproject.toml): started\n",
      "  Preparing metadata (pyproject.toml): finished with status 'done'\n",
      "Collecting matplotlib\n",
      "  Using cached matplotlib-3.5.1-cp38-cp38-win32.whl (7.1 MB)\n",
      "Requirement already satisfied: nltk in c:\\users\\paolo\\appdata\\roaming\\python\\python38\\site-packages (from nlpia) (3.7)\n",
      "Requirement already satisfied: pandas in c:\\users\\paolo\\appdata\\local\\programs\\python\\python38-32\\lib\\site-packages (from nlpia) (1.4.1)\n",
      "Collecting cufflinks\n",
      "  Using cached cufflinks-0.17.3.tar.gz (81 kB)\n",
      "  Preparing metadata (setup.py): started\n",
      "  Preparing metadata (setup.py): finished with status 'done'\n",
      "Collecting python-Levenshtein\n",
      "  Using cached python-Levenshtein-0.12.2.tar.gz (50 kB)\n",
      "  Preparing metadata (setup.py): started\n",
      "  Preparing metadata (setup.py): finished with status 'done'\n",
      "Collecting scipy\n",
      "  Using cached scipy-1.8.0-cp38-cp38-win32.whl (33.4 MB)\n",
      "Requirement already satisfied: tqdm in c:\\users\\paolo\\appdata\\roaming\\python\\python38\\site-packages (from nlpia) (4.63.0)\n",
      "Collecting gensim\n",
      "  Using cached gensim-4.1.2.tar.gz (23.2 MB)\n",
      "  Preparing metadata (setup.py): started\n",
      "  Preparing metadata (setup.py): finished with status 'done'\n",
      "Collecting nlpia\n",
      "  Using cached nlpia-0.1.58-py2.py3-none-any.whl (55.9 MB)\n",
      "  Using cached nlpia-0.1.57-py2.py3-none-any.whl (55.9 MB)\n",
      "  Using cached nlpia-0.1.56-py2.py3-none-any.whl (55.9 MB)\n",
      "  Using cached nlpia-0.1.54-py2.py3-none-any.whl (55.9 MB)\n",
      "  Using cached nlpia-0.1.52-py2.py3-none-any.whl (55.9 MB)\n",
      "  Using cached nlpia-0.1.50-py2.py3-none-any.whl (55.9 MB)\n",
      "  Using cached nlpia-0.1.49-py2.py3-none-any.whl (55.9 MB)\n",
      "  Using cached nlpia-0.1.48-py2.py3-none-any.whl (55.9 MB)\n",
      "  Using cached nlpia-0.1.47-py2.py3-none-any.whl (55.8 MB)\n",
      "  Using cached nlpia-0.1.46-py2.py3-none-any.whl (55.8 MB)\n",
      "  Downloading nlpia-0.1.45-py2.py3-none-any.whl (55.8 MB)\n",
      "     ---------------------------------------- 55.8/55.8 MB 2.3 MB/s eta 0:00:00\n",
      "  Downloading nlpia-0.1.44-py2.py3-none-any.whl (55.8 MB)\n",
      "     ---------------------------------------- 55.8/55.8 MB 2.0 MB/s eta 0:00:00\n",
      "  Downloading nlpia-0.1.43-py2.py3-none-any.whl (55.8 MB)\n",
      "     ---------------------------------------- 55.8/55.8 MB 2.2 MB/s eta 0:00:00\n",
      "  Downloading nlpia-0.1.42-py2.py3-none-any.whl (55.8 MB)\n",
      "     ---------------------------------------- 55.8/55.8 MB 1.7 MB/s eta 0:00:00\n",
      "Requirement already satisfied: numpy>=1.9.2 in c:\\users\\paolo\\appdata\\roaming\\python\\python38\\site-packages (from cufflinks->nlpia) (1.22.2)\n",
      "Requirement already satisfied: six>=1.9.0 in c:\\users\\paolo\\appdata\\local\\programs\\python\\python38-32\\lib\\site-packages (from cufflinks->nlpia) (1.15.0)\n",
      "Collecting colorlover>=0.2.1\n",
      "  Downloading colorlover-0.3.0-py3-none-any.whl (8.9 kB)\n",
      "Requirement already satisfied: setuptools>=34.4.1 in c:\\users\\paolo\\appdata\\local\\programs\\python\\python38-32\\lib\\site-packages (from cufflinks->nlpia) (41.2.0)\n",
      "Requirement already satisfied: ipython>=5.3.0 in c:\\users\\paolo\\appdata\\local\\programs\\python\\python38-32\\lib\\site-packages (from cufflinks->nlpia) (7.23.1)\n",
      "Requirement already satisfied: ipywidgets>=7.0.0 in c:\\users\\paolo\\appdata\\local\\programs\\python\\python38-32\\lib\\site-packages (from cufflinks->nlpia) (7.6.3)\n",
      "Requirement already satisfied: pytz>=2020.1 in c:\\users\\paolo\\appdata\\local\\programs\\python\\python38-32\\lib\\site-packages (from pandas->nlpia) (2021.1)\n",
      "Requirement already satisfied: python-dateutil>=2.8.1 in c:\\users\\paolo\\appdata\\local\\programs\\python\\python38-32\\lib\\site-packages (from pandas->nlpia) (2.8.1)\n",
      "Collecting tenacity>=6.2.0\n",
      "  Downloading tenacity-8.0.1-py3-none-any.whl (24 kB)\n",
      "Collecting smart_open>=1.8.1\n",
      "  Downloading smart_open-5.2.1-py3-none-any.whl (58 kB)\n",
      "     ---------------------------------------- 58.6/58.6 KB 3.0 MB/s eta 0:00:00\n",
      "Requirement already satisfied: ipykernel in c:\\users\\paolo\\appdata\\local\\programs\\python\\python38-32\\lib\\site-packages (from jupyter->nlpia) (5.5.5)\n",
      "Requirement already satisfied: jupyter-console in c:\\users\\paolo\\appdata\\local\\programs\\python\\python38-32\\lib\\site-packages (from jupyter->nlpia) (6.4.0)\n",
      "Requirement already satisfied: nbconvert in c:\\users\\paolo\\appdata\\local\\programs\\python\\python38-32\\lib\\site-packages (from jupyter->nlpia) (6.0.7)\n",
      "Requirement already satisfied: notebook in c:\\users\\paolo\\appdata\\local\\programs\\python\\python38-32\\lib\\site-packages (from jupyter->nlpia) (6.3.0)\n",
      "Requirement already satisfied: qtconsole in c:\\users\\paolo\\appdata\\local\\programs\\python\\python38-32\\lib\\site-packages (from jupyter->nlpia) (5.1.0)\n",
      "Collecting fonttools>=4.22.0\n",
      "  Downloading fonttools-4.31.2-py3-none-any.whl (899 kB)\n",
      "     -------------------------------------- 899.5/899.5 KB 3.4 MB/s eta 0:00:00\n",
      "Requirement already satisfied: pyparsing>=2.2.1 in c:\\users\\paolo\\appdata\\local\\programs\\python\\python38-32\\lib\\site-packages (from matplotlib->nlpia) (2.4.7)\n",
      "Collecting cycler>=0.10\n",
      "  Downloading cycler-0.11.0-py3-none-any.whl (6.4 kB)\n",
      "Collecting pillow>=6.2.0\n",
      "  Downloading Pillow-9.1.0-cp38-cp38-win32.whl (2.8 MB)\n",
      "     ---------------------------------------- 2.8/2.8 MB 3.3 MB/s eta 0:00:00\n",
      "Collecting kiwisolver>=1.0.1\n",
      "  Downloading kiwisolver-1.4.2-cp38-cp38-win32.whl (46 kB)\n",
      "     ---------------------------------------- 46.3/46.3 KB 2.3 MB/s eta 0:00:00\n",
      "Requirement already satisfied: packaging>=20.0 in c:\\users\\paolo\\appdata\\local\\programs\\python\\python38-32\\lib\\site-packages (from matplotlib->nlpia) (20.9)\n",
      "Requirement already satisfied: regex>=2021.8.3 in c:\\users\\paolo\\appdata\\roaming\\python\\python38\\site-packages (from nltk->nlpia) (2022.1.18)\n",
      "Requirement already satisfied: click in c:\\users\\paolo\\appdata\\local\\programs\\python\\python38-32\\lib\\site-packages (from nltk->nlpia) (7.1.2)\n",
      "Requirement already satisfied: joblib in c:\\users\\paolo\\appdata\\roaming\\python\\python38\\site-packages (from nltk->nlpia) (1.1.0)\n",
      "Requirement already satisfied: requests>=2.19.0 in c:\\users\\paolo\\appdata\\local\\programs\\python\\python38-32\\lib\\site-packages (from pandas-datareader->nlpia) (2.25.0)\n",
      "Collecting python-slugify\n",
      "  Downloading python_slugify-6.1.1-py2.py3-none-any.whl (9.1 kB)\n",
      "Collecting fuzzywuzzy\n",
      "  Downloading fuzzywuzzy-0.18.0-py2.py3-none-any.whl (18 kB)\n",
      "Collecting coverage\n",
      "  Downloading coverage-6.3.2-cp38-cp38-win32.whl (185 kB)\n",
      "     -------------------------------------- 185.9/185.9 KB 3.7 MB/s eta 0:00:00\n",
      "Requirement already satisfied: pip in c:\\users\\paolo\\appdata\\local\\programs\\python\\python38-32\\lib\\site-packages (from pugnlp->nlpia) (22.0.3)\n",
      "Requirement already satisfied: wheel in c:\\users\\paolo\\appdata\\local\\programs\\python\\python38-32\\lib\\site-packages (from pugnlp->nlpia) (0.37.1)\n",
      "Collecting threadpoolctl>=2.0.0\n",
      "  Downloading threadpoolctl-3.1.0-py3-none-any.whl (14 kB)\n",
      "Requirement already satisfied: colorama in c:\\users\\paolo\\appdata\\local\\programs\\python\\python38-32\\lib\\site-packages (from tqdm->nlpia) (0.4.4)\n",
      "Requirement already satisfied: pickleshare in c:\\users\\paolo\\appdata\\local\\programs\\python\\python38-32\\lib\\site-packages (from ipython>=5.3.0->cufflinks->nlpia) (0.7.5)\n",
      "Requirement already satisfied: traitlets>=4.2 in c:\\users\\paolo\\appdata\\local\\programs\\python\\python38-32\\lib\\site-packages (from ipython>=5.3.0->cufflinks->nlpia) (5.0.5)\n",
      "Requirement already satisfied: decorator in c:\\users\\paolo\\appdata\\local\\programs\\python\\python38-32\\lib\\site-packages (from ipython>=5.3.0->cufflinks->nlpia) (5.0.9)\n",
      "Requirement already satisfied: prompt-toolkit!=3.0.0,!=3.0.1,<3.1.0,>=2.0.0 in c:\\users\\paolo\\appdata\\local\\programs\\python\\python38-32\\lib\\site-packages (from ipython>=5.3.0->cufflinks->nlpia) (3.0.18)\n",
      "Requirement already satisfied: pygments in c:\\users\\paolo\\appdata\\local\\programs\\python\\python38-32\\lib\\site-packages (from ipython>=5.3.0->cufflinks->nlpia) (2.9.0)\n",
      "Requirement already satisfied: matplotlib-inline in c:\\users\\paolo\\appdata\\local\\programs\\python\\python38-32\\lib\\site-packages (from ipython>=5.3.0->cufflinks->nlpia) (0.1.2)\n",
      "Requirement already satisfied: backcall in c:\\users\\paolo\\appdata\\local\\programs\\python\\python38-32\\lib\\site-packages (from ipython>=5.3.0->cufflinks->nlpia) (0.2.0)\n",
      "Requirement already satisfied: jedi>=0.16 in c:\\users\\paolo\\appdata\\local\\programs\\python\\python38-32\\lib\\site-packages (from ipython>=5.3.0->cufflinks->nlpia) (0.18.0)\n",
      "Requirement already satisfied: widgetsnbextension~=3.5.0 in c:\\users\\paolo\\appdata\\local\\programs\\python\\python38-32\\lib\\site-packages (from ipywidgets>=7.0.0->cufflinks->nlpia) (3.5.1)\n",
      "Requirement already satisfied: nbformat>=4.2.0 in c:\\users\\paolo\\appdata\\local\\programs\\python\\python38-32\\lib\\site-packages (from ipywidgets>=7.0.0->cufflinks->nlpia) (5.1.3)\n",
      "Requirement already satisfied: jupyterlab-widgets>=1.0.0 in c:\\users\\paolo\\appdata\\local\\programs\\python\\python38-32\\lib\\site-packages (from ipywidgets>=7.0.0->cufflinks->nlpia) (1.0.0)\n",
      "Requirement already satisfied: tornado>=4.2 in c:\\users\\paolo\\appdata\\local\\programs\\python\\python38-32\\lib\\site-packages (from ipykernel->jupyter->nlpia) (6.1)\n",
      "Requirement already satisfied: jupyter-client in c:\\users\\paolo\\appdata\\local\\programs\\python\\python38-32\\lib\\site-packages (from ipykernel->jupyter->nlpia) (6.1.12)\n",
      "Requirement already satisfied: certifi>=2017.4.17 in c:\\users\\paolo\\appdata\\local\\programs\\python\\python38-32\\lib\\site-packages (from requests>=2.19.0->pandas-datareader->nlpia) (2020.11.8)\n",
      "Requirement already satisfied: idna<3,>=2.5 in c:\\users\\paolo\\appdata\\local\\programs\\python\\python38-32\\lib\\site-packages (from requests>=2.19.0->pandas-datareader->nlpia) (2.10)\n",
      "Requirement already satisfied: chardet<4,>=3.0.2 in c:\\users\\paolo\\appdata\\local\\programs\\python\\python38-32\\lib\\site-packages (from requests>=2.19.0->pandas-datareader->nlpia) (3.0.4)\n",
      "Requirement already satisfied: urllib3<1.27,>=1.21.1 in c:\\users\\paolo\\appdata\\local\\programs\\python\\python38-32\\lib\\site-packages (from requests>=2.19.0->pandas-datareader->nlpia) (1.26.2)\n",
      "Requirement already satisfied: bleach in c:\\users\\paolo\\appdata\\local\\programs\\python\\python38-32\\lib\\site-packages (from nbconvert->jupyter->nlpia) (3.3.0)\n",
      "Requirement already satisfied: defusedxml in c:\\users\\paolo\\appdata\\local\\programs\\python\\python38-32\\lib\\site-packages (from nbconvert->jupyter->nlpia) (0.7.1)\n",
      "Requirement already satisfied: entrypoints>=0.2.2 in c:\\users\\paolo\\appdata\\local\\programs\\python\\python38-32\\lib\\site-packages (from nbconvert->jupyter->nlpia) (0.3)\n",
      "Requirement already satisfied: jupyter-core in c:\\users\\paolo\\appdata\\local\\programs\\python\\python38-32\\lib\\site-packages (from nbconvert->jupyter->nlpia) (4.7.1)\n",
      "Requirement already satisfied: jupyterlab-pygments in c:\\users\\paolo\\appdata\\local\\programs\\python\\python38-32\\lib\\site-packages (from nbconvert->jupyter->nlpia) (0.1.2)\n",
      "Requirement already satisfied: nbclient<0.6.0,>=0.5.0 in c:\\users\\paolo\\appdata\\local\\programs\\python\\python38-32\\lib\\site-packages (from nbconvert->jupyter->nlpia) (0.5.3)\n",
      "Requirement already satisfied: testpath in c:\\users\\paolo\\appdata\\local\\programs\\python\\python38-32\\lib\\site-packages (from nbconvert->jupyter->nlpia) (0.4.4)\n",
      "Requirement already satisfied: mistune<2,>=0.8.1 in c:\\users\\paolo\\appdata\\local\\programs\\python\\python38-32\\lib\\site-packages (from nbconvert->jupyter->nlpia) (0.8.4)\n",
      "Requirement already satisfied: pandocfilters>=1.4.1 in c:\\users\\paolo\\appdata\\local\\programs\\python\\python38-32\\lib\\site-packages (from nbconvert->jupyter->nlpia) (1.4.3)\n",
      "Requirement already satisfied: jinja2>=2.4 in c:\\users\\paolo\\appdata\\local\\programs\\python\\python38-32\\lib\\site-packages (from nbconvert->jupyter->nlpia) (3.0.0)\n",
      "Requirement already satisfied: pyzmq>=17 in c:\\users\\paolo\\appdata\\local\\programs\\python\\python38-32\\lib\\site-packages (from notebook->jupyter->nlpia) (22.0.3)\n",
      "Requirement already satisfied: argon2-cffi in c:\\users\\paolo\\appdata\\local\\programs\\python\\python38-32\\lib\\site-packages (from notebook->jupyter->nlpia) (20.1.0)\n",
      "Requirement already satisfied: ipython-genutils in c:\\users\\paolo\\appdata\\local\\programs\\python\\python38-32\\lib\\site-packages (from notebook->jupyter->nlpia) (0.2.0)\n",
      "Requirement already satisfied: terminado>=0.8.3 in c:\\users\\paolo\\appdata\\local\\programs\\python\\python38-32\\lib\\site-packages (from notebook->jupyter->nlpia) (0.9.5)\n",
      "Requirement already satisfied: Send2Trash>=1.5.0 in c:\\users\\paolo\\appdata\\local\\programs\\python\\python38-32\\lib\\site-packages (from notebook->jupyter->nlpia) (1.5.0)\n",
      "Requirement already satisfied: prometheus-client in c:\\users\\paolo\\appdata\\local\\programs\\python\\python38-32\\lib\\site-packages (from notebook->jupyter->nlpia) (0.10.1)\n",
      "Collecting text-unidecode>=1.3\n",
      "  Downloading text_unidecode-1.3-py2.py3-none-any.whl (78 kB)\n",
      "     ---------------------------------------- 78.2/78.2 KB 4.2 MB/s eta 0:00:00\n",
      "Requirement already satisfied: qtpy in c:\\users\\paolo\\appdata\\local\\programs\\python\\python38-32\\lib\\site-packages (from qtconsole->jupyter->nlpia) (1.9.0)\n",
      "Requirement already satisfied: parso<0.9.0,>=0.8.0 in c:\\users\\paolo\\appdata\\local\\programs\\python\\python38-32\\lib\\site-packages (from jedi>=0.16->ipython>=5.3.0->cufflinks->nlpia) (0.8.2)\n",
      "Requirement already satisfied: MarkupSafe>=2.0.0rc2 in c:\\users\\paolo\\appdata\\local\\programs\\python\\python38-32\\lib\\site-packages (from jinja2>=2.4->nbconvert->jupyter->nlpia) (2.0.0)\n",
      "Requirement already satisfied: pywin32>=1.0 in c:\\users\\paolo\\appdata\\local\\programs\\python\\python38-32\\lib\\site-packages (from jupyter-core->nbconvert->jupyter->nlpia) (228)\n",
      "Requirement already satisfied: async-generator in c:\\users\\paolo\\appdata\\local\\programs\\python\\python38-32\\lib\\site-packages (from nbclient<0.6.0,>=0.5.0->nbconvert->jupyter->nlpia) (1.10)\n",
      "Requirement already satisfied: nest-asyncio in c:\\users\\paolo\\appdata\\local\\programs\\python\\python38-32\\lib\\site-packages (from nbclient<0.6.0,>=0.5.0->nbconvert->jupyter->nlpia) (1.5.1)\n",
      "Requirement already satisfied: jsonschema!=2.5.0,>=2.4 in c:\\users\\paolo\\appdata\\local\\programs\\python\\python38-32\\lib\\site-packages (from nbformat>=4.2.0->ipywidgets>=7.0.0->cufflinks->nlpia) (3.2.0)\n",
      "Requirement already satisfied: wcwidth in c:\\users\\paolo\\appdata\\local\\programs\\python\\python38-32\\lib\\site-packages (from prompt-toolkit!=3.0.0,!=3.0.1,<3.1.0,>=2.0.0->ipython>=5.3.0->cufflinks->nlpia) (0.2.5)\n",
      "Requirement already satisfied: pywinpty<1,>=0.5 in c:\\users\\paolo\\appdata\\local\\programs\\python\\python38-32\\lib\\site-packages (from terminado>=0.8.3->notebook->jupyter->nlpia) (0.5.7)\n",
      "Requirement already satisfied: cffi>=1.0.0 in c:\\users\\paolo\\appdata\\local\\programs\\python\\python38-32\\lib\\site-packages (from argon2-cffi->notebook->jupyter->nlpia) (1.14.5)\n",
      "Requirement already satisfied: webencodings in c:\\users\\paolo\\appdata\\local\\programs\\python\\python38-32\\lib\\site-packages (from bleach->nbconvert->jupyter->nlpia) (0.5.1)\n",
      "Requirement already satisfied: pycparser in c:\\users\\paolo\\appdata\\local\\programs\\python\\python38-32\\lib\\site-packages (from cffi>=1.0.0->argon2-cffi->notebook->jupyter->nlpia) (2.20)\n",
      "Requirement already satisfied: attrs>=17.4.0 in c:\\users\\paolo\\appdata\\local\\programs\\python\\python38-32\\lib\\site-packages (from jsonschema!=2.5.0,>=2.4->nbformat>=4.2.0->ipywidgets>=7.0.0->cufflinks->nlpia) (21.2.0)\n",
      "Requirement already satisfied: pyrsistent>=0.14.0 in c:\\users\\paolo\\appdata\\local\\programs\\python\\python38-32\\lib\\site-packages (from jsonschema!=2.5.0,>=2.4->nbformat>=4.2.0->ipywidgets>=7.0.0->cufflinks->nlpia) (0.17.3)\n",
      "Building wheels for collected packages: cufflinks, gensim, h5py, pypandoc, python-Levenshtein\n",
      "  Building wheel for cufflinks (setup.py): started\n",
      "  Building wheel for cufflinks (setup.py): finished with status 'done'\n",
      "  Created wheel for cufflinks: filename=cufflinks-0.17.3-py3-none-any.whl size=68724 sha256=784ea3e988fa2b9fec4392c6b1e03d020db97ac5700d08adfd5b35bf9a9196df\n",
      "  Stored in directory: c:\\users\\paolo\\appdata\\local\\pip\\cache\\wheels\\6b\\76\\62\\6da97734911ffcbdd559fd1a3f28526321f0ae699182a23866\n",
      "  Building wheel for gensim (setup.py): started\n",
      "  Building wheel for gensim (setup.py): finished with status 'done'\n",
      "  Created wheel for gensim: filename=gensim-4.1.2-cp38-cp38-win32.whl size=23891699 sha256=bb6ec45a71787279242904539218165613473d4e38e382f6ddc5754551a6d58a\n",
      "  Stored in directory: c:\\users\\paolo\\appdata\\local\\pip\\cache\\wheels\\bf\\3f\\3f\\6f304fb78cad2da9069e0c7d2ed65f43e080b0ccd4f2c5c5d4\n",
      "  Building wheel for h5py (pyproject.toml): started\n",
      "  Building wheel for h5py (pyproject.toml): finished with status 'error'\n",
      "  Building wheel for pypandoc (pyproject.toml): started\n",
      "  Building wheel for pypandoc (pyproject.toml): finished with status 'done'\n",
      "  Created wheel for pypandoc: filename=pypandoc-1.7.4-py2.py3-none-any.whl size=32104 sha256=17e72951e1537e6f32a04450d0f295a9512d1cb2dc7e79e4181ab6a03bd65d89\n",
      "  Stored in directory: c:\\users\\paolo\\appdata\\local\\pip\\cache\\wheels\\81\\14\\85\\2bebc20154b4b92f5f041fa01f92437fd03aed6cbc5a344162\n",
      "  Building wheel for python-Levenshtein (setup.py): started\n",
      "  Building wheel for python-Levenshtein (setup.py): finished with status 'done'\n",
      "  Created wheel for python-Levenshtein: filename=python_Levenshtein-0.12.2-cp38-cp38-win32.whl size=76978 sha256=966f9f95859e9eda5d8c2ccbc4041c27fd0da71ece7abbacee11ea9380286217\n",
      "  Stored in directory: c:\\users\\paolo\\appdata\\local\\pip\\cache\\wheels\\d7\\0c\\76\\042b46eb0df65c3ccd0338f791210c55ab79d209bcc269e2c7\n",
      "Successfully built cufflinks gensim pypandoc python-Levenshtein\n",
      "Failed to build h5py\n"
     ]
    },
    {
     "name": "stderr",
     "output_type": "stream",
     "text": [
      "  error: subprocess-exited-with-error\n",
      "  \n",
      "  Building wheel for h5py (pyproject.toml) did not run successfully.\n",
      "  exit code: 1\n",
      "  \n",
      "  [71 lines of output]\n",
      "  running bdist_wheel\n",
      "  running build\n",
      "  running build_py\n",
      "  creating build\n",
      "  creating build\\lib.win32-3.8\n",
      "  creating build\\lib.win32-3.8\\h5py\n",
      "  copying h5py\\h5py_warnings.py -> build\\lib.win32-3.8\\h5py\n",
      "  copying h5py\\ipy_completer.py -> build\\lib.win32-3.8\\h5py\n",
      "  copying h5py\\version.py -> build\\lib.win32-3.8\\h5py\n",
      "  copying h5py\\__init__.py -> build\\lib.win32-3.8\\h5py\n",
      "  creating build\\lib.win32-3.8\\h5py\\_hl\n",
      "  copying h5py\\_hl\\attrs.py -> build\\lib.win32-3.8\\h5py\\_hl\n",
      "  copying h5py\\_hl\\base.py -> build\\lib.win32-3.8\\h5py\\_hl\n",
      "  copying h5py\\_hl\\compat.py -> build\\lib.win32-3.8\\h5py\\_hl\n",
      "  copying h5py\\_hl\\dataset.py -> build\\lib.win32-3.8\\h5py\\_hl\n",
      "  copying h5py\\_hl\\datatype.py -> build\\lib.win32-3.8\\h5py\\_hl\n",
      "  copying h5py\\_hl\\dims.py -> build\\lib.win32-3.8\\h5py\\_hl\n",
      "  copying h5py\\_hl\\files.py -> build\\lib.win32-3.8\\h5py\\_hl\n",
      "  copying h5py\\_hl\\filters.py -> build\\lib.win32-3.8\\h5py\\_hl\n",
      "  copying h5py\\_hl\\group.py -> build\\lib.win32-3.8\\h5py\\_hl\n",
      "  copying h5py\\_hl\\selections.py -> build\\lib.win32-3.8\\h5py\\_hl\n",
      "  copying h5py\\_hl\\selections2.py -> build\\lib.win32-3.8\\h5py\\_hl\n",
      "  copying h5py\\_hl\\vds.py -> build\\lib.win32-3.8\\h5py\\_hl\n",
      "  copying h5py\\_hl\\__init__.py -> build\\lib.win32-3.8\\h5py\\_hl\n",
      "  creating build\\lib.win32-3.8\\h5py\\tests\n",
      "  copying h5py\\tests\\common.py -> build\\lib.win32-3.8\\h5py\\tests\n",
      "  copying h5py\\tests\\conftest.py -> build\\lib.win32-3.8\\h5py\\tests\n",
      "  copying h5py\\tests\\test_attribute_create.py -> build\\lib.win32-3.8\\h5py\\tests\n",
      "  copying h5py\\tests\\test_attrs.py -> build\\lib.win32-3.8\\h5py\\tests\n",
      "  copying h5py\\tests\\test_attrs_data.py -> build\\lib.win32-3.8\\h5py\\tests\n",
      "  copying h5py\\tests\\test_base.py -> build\\lib.win32-3.8\\h5py\\tests\n",
      "  copying h5py\\tests\\test_big_endian_file.py -> build\\lib.win32-3.8\\h5py\\tests\n",
      "  copying h5py\\tests\\test_completions.py -> build\\lib.win32-3.8\\h5py\\tests\n",
      "  copying h5py\\tests\\test_dataset.py -> build\\lib.win32-3.8\\h5py\\tests\n",
      "  copying h5py\\tests\\test_dataset_getitem.py -> build\\lib.win32-3.8\\h5py\\tests\n",
      "  copying h5py\\tests\\test_dataset_swmr.py -> build\\lib.win32-3.8\\h5py\\tests\n",
      "  copying h5py\\tests\\test_datatype.py -> build\\lib.win32-3.8\\h5py\\tests\n",
      "  copying h5py\\tests\\test_dimension_scales.py -> build\\lib.win32-3.8\\h5py\\tests\n",
      "  copying h5py\\tests\\test_dims_dimensionproxy.py -> build\\lib.win32-3.8\\h5py\\tests\n",
      "  copying h5py\\tests\\test_dtype.py -> build\\lib.win32-3.8\\h5py\\tests\n",
      "  copying h5py\\tests\\test_errors.py -> build\\lib.win32-3.8\\h5py\\tests\n",
      "  copying h5py\\tests\\test_file.py -> build\\lib.win32-3.8\\h5py\\tests\n",
      "  copying h5py\\tests\\test_file2.py -> build\\lib.win32-3.8\\h5py\\tests\n",
      "  copying h5py\\tests\\test_file_image.py -> build\\lib.win32-3.8\\h5py\\tests\n",
      "  copying h5py\\tests\\test_filters.py -> build\\lib.win32-3.8\\h5py\\tests\n",
      "  copying h5py\\tests\\test_group.py -> build\\lib.win32-3.8\\h5py\\tests\n",
      "  copying h5py\\tests\\test_h5.py -> build\\lib.win32-3.8\\h5py\\tests\n",
      "  copying h5py\\tests\\test_h5d_direct_chunk.py -> build\\lib.win32-3.8\\h5py\\tests\n",
      "  copying h5py\\tests\\test_h5f.py -> build\\lib.win32-3.8\\h5py\\tests\n",
      "  copying h5py\\tests\\test_h5o.py -> build\\lib.win32-3.8\\h5py\\tests\n",
      "  copying h5py\\tests\\test_h5p.py -> build\\lib.win32-3.8\\h5py\\tests\n",
      "  copying h5py\\tests\\test_h5pl.py -> build\\lib.win32-3.8\\h5py\\tests\n",
      "  copying h5py\\tests\\test_h5t.py -> build\\lib.win32-3.8\\h5py\\tests\n",
      "  copying h5py\\tests\\test_objects.py -> build\\lib.win32-3.8\\h5py\\tests\n",
      "  copying h5py\\tests\\test_selections.py -> build\\lib.win32-3.8\\h5py\\tests\n",
      "  copying h5py\\tests\\test_slicing.py -> build\\lib.win32-3.8\\h5py\\tests\n",
      "  copying h5py\\tests\\__init__.py -> build\\lib.win32-3.8\\h5py\\tests\n",
      "  creating build\\lib.win32-3.8\\h5py\\tests\\data_files\n",
      "  copying h5py\\tests\\data_files\\__init__.py -> build\\lib.win32-3.8\\h5py\\tests\\data_files\n",
      "  creating build\\lib.win32-3.8\\h5py\\tests\\test_vds\n",
      "  copying h5py\\tests\\test_vds\\test_highlevel_vds.py -> build\\lib.win32-3.8\\h5py\\tests\\test_vds\n",
      "  copying h5py\\tests\\test_vds\\test_lowlevel_vds.py -> build\\lib.win32-3.8\\h5py\\tests\\test_vds\n",
      "  copying h5py\\tests\\test_vds\\test_virtual_source.py -> build\\lib.win32-3.8\\h5py\\tests\\test_vds\n",
      "  copying h5py\\tests\\test_vds\\__init__.py -> build\\lib.win32-3.8\\h5py\\tests\\test_vds\n",
      "  copying h5py\\tests\\data_files\\vlen_string_dset.h5 -> build\\lib.win32-3.8\\h5py\\tests\\data_files\n",
      "  copying h5py\\tests\\data_files\\vlen_string_dset_utc.h5 -> build\\lib.win32-3.8\\h5py\\tests\\data_files\n",
      "  copying h5py\\tests\\data_files\\vlen_string_s390x.h5 -> build\\lib.win32-3.8\\h5py\\tests\\data_files\n",
      "  running build_ext\n",
      "  Loading library to get build settings and version: hdf5.dll\n",
      "  error: Unable to load dependency HDF5, make sure HDF5 is installed properly\n",
      "  error: Could not find module 'hdf5.dll' (or one of its dependencies). Try using the full path with constructor syntax.\n",
      "  [end of output]\n",
      "  \n",
      "  note: This error originates from a subprocess, and is likely not a problem with pip.\n",
      "  ERROR: Failed building wheel for h5py\n",
      "ERROR: Could not build wheels for h5py, which is required to install pyproject.toml-based projects\n",
      "WARNING: You are using pip version 22.0.3; however, version 22.0.4 is available.\n",
      "You should consider upgrading via the 'c:\\users\\paolo\\appdata\\local\\programs\\python\\python38-32\\python.exe -m pip install --upgrade pip' command.\n",
      "WARNING: Retrying (Retry(total=4, connect=None, read=None, redirect=None, status=None)) after connection broken by 'ReadTimeoutError(\"HTTPSConnectionPool(host='pypi.org', port=443): Read timed out. (read timeout=15)\")': /simple/h5py/\n",
      "WARNING: Retrying (Retry(total=4, connect=None, read=None, redirect=None, status=None)) after connection broken by 'ReadTimeoutError(\"HTTPSConnectionPool(host='pypi.org', port=443): Read timed out. (read timeout=15)\")': /simple/colorlover/\n",
      "  error: subprocess-exited-with-error\n",
      "  \n",
      "  Building wheel for h5py (pyproject.toml) did not run successfully.\n",
      "  exit code: 1\n",
      "  \n",
      "  [71 lines of output]\n",
      "  running bdist_wheel\n",
      "  running build\n",
      "  running build_py\n",
      "  creating build\n",
      "  creating build\\lib.win32-3.8\n",
      "  creating build\\lib.win32-3.8\\h5py\n",
      "  copying h5py\\h5py_warnings.py -> build\\lib.win32-3.8\\h5py\n",
      "  copying h5py\\ipy_completer.py -> build\\lib.win32-3.8\\h5py\n",
      "  copying h5py\\version.py -> build\\lib.win32-3.8\\h5py\n",
      "  copying h5py\\__init__.py -> build\\lib.win32-3.8\\h5py\n",
      "  creating build\\lib.win32-3.8\\h5py\\_hl\n",
      "  copying h5py\\_hl\\attrs.py -> build\\lib.win32-3.8\\h5py\\_hl\n",
      "  copying h5py\\_hl\\base.py -> build\\lib.win32-3.8\\h5py\\_hl\n",
      "  copying h5py\\_hl\\compat.py -> build\\lib.win32-3.8\\h5py\\_hl\n",
      "  copying h5py\\_hl\\dataset.py -> build\\lib.win32-3.8\\h5py\\_hl\n",
      "  copying h5py\\_hl\\datatype.py -> build\\lib.win32-3.8\\h5py\\_hl\n",
      "  copying h5py\\_hl\\dims.py -> build\\lib.win32-3.8\\h5py\\_hl\n",
      "  copying h5py\\_hl\\files.py -> build\\lib.win32-3.8\\h5py\\_hl\n",
      "  copying h5py\\_hl\\filters.py -> build\\lib.win32-3.8\\h5py\\_hl\n",
      "  copying h5py\\_hl\\group.py -> build\\lib.win32-3.8\\h5py\\_hl\n",
      "  copying h5py\\_hl\\selections.py -> build\\lib.win32-3.8\\h5py\\_hl\n",
      "  copying h5py\\_hl\\selections2.py -> build\\lib.win32-3.8\\h5py\\_hl\n",
      "  copying h5py\\_hl\\vds.py -> build\\lib.win32-3.8\\h5py\\_hl\n",
      "  copying h5py\\_hl\\__init__.py -> build\\lib.win32-3.8\\h5py\\_hl\n",
      "  creating build\\lib.win32-3.8\\h5py\\tests\n",
      "  copying h5py\\tests\\common.py -> build\\lib.win32-3.8\\h5py\\tests\n",
      "  copying h5py\\tests\\conftest.py -> build\\lib.win32-3.8\\h5py\\tests\n",
      "  copying h5py\\tests\\test_attribute_create.py -> build\\lib.win32-3.8\\h5py\\tests\n",
      "  copying h5py\\tests\\test_attrs.py -> build\\lib.win32-3.8\\h5py\\tests\n",
      "  copying h5py\\tests\\test_attrs_data.py -> build\\lib.win32-3.8\\h5py\\tests\n",
      "  copying h5py\\tests\\test_base.py -> build\\lib.win32-3.8\\h5py\\tests\n",
      "  copying h5py\\tests\\test_big_endian_file.py -> build\\lib.win32-3.8\\h5py\\tests\n",
      "  copying h5py\\tests\\test_completions.py -> build\\lib.win32-3.8\\h5py\\tests\n",
      "  copying h5py\\tests\\test_dataset.py -> build\\lib.win32-3.8\\h5py\\tests\n",
      "  copying h5py\\tests\\test_dataset_getitem.py -> build\\lib.win32-3.8\\h5py\\tests\n",
      "  copying h5py\\tests\\test_dataset_swmr.py -> build\\lib.win32-3.8\\h5py\\tests\n",
      "  copying h5py\\tests\\test_datatype.py -> build\\lib.win32-3.8\\h5py\\tests\n",
      "  copying h5py\\tests\\test_dimension_scales.py -> build\\lib.win32-3.8\\h5py\\tests\n",
      "  copying h5py\\tests\\test_dims_dimensionproxy.py -> build\\lib.win32-3.8\\h5py\\tests\n",
      "  copying h5py\\tests\\test_dtype.py -> build\\lib.win32-3.8\\h5py\\tests\n",
      "  copying h5py\\tests\\test_errors.py -> build\\lib.win32-3.8\\h5py\\tests\n",
      "  copying h5py\\tests\\test_file.py -> build\\lib.win32-3.8\\h5py\\tests\n",
      "  copying h5py\\tests\\test_file2.py -> build\\lib.win32-3.8\\h5py\\tests\n",
      "  copying h5py\\tests\\test_file_image.py -> build\\lib.win32-3.8\\h5py\\tests\n",
      "  copying h5py\\tests\\test_filters.py -> build\\lib.win32-3.8\\h5py\\tests\n",
      "  copying h5py\\tests\\test_group.py -> build\\lib.win32-3.8\\h5py\\tests\n",
      "  copying h5py\\tests\\test_h5.py -> build\\lib.win32-3.8\\h5py\\tests\n",
      "  copying h5py\\tests\\test_h5d_direct_chunk.py -> build\\lib.win32-3.8\\h5py\\tests\n",
      "  copying h5py\\tests\\test_h5f.py -> build\\lib.win32-3.8\\h5py\\tests\n",
      "  copying h5py\\tests\\test_h5o.py -> build\\lib.win32-3.8\\h5py\\tests\n",
      "  copying h5py\\tests\\test_h5p.py -> build\\lib.win32-3.8\\h5py\\tests\n",
      "  copying h5py\\tests\\test_h5pl.py -> build\\lib.win32-3.8\\h5py\\tests\n",
      "  copying h5py\\tests\\test_h5t.py -> build\\lib.win32-3.8\\h5py\\tests\n",
      "  copying h5py\\tests\\test_objects.py -> build\\lib.win32-3.8\\h5py\\tests\n",
      "  copying h5py\\tests\\test_selections.py -> build\\lib.win32-3.8\\h5py\\tests\n",
      "  copying h5py\\tests\\test_slicing.py -> build\\lib.win32-3.8\\h5py\\tests\n",
      "  copying h5py\\tests\\__init__.py -> build\\lib.win32-3.8\\h5py\\tests\n",
      "  creating build\\lib.win32-3.8\\h5py\\tests\\data_files\n",
      "  copying h5py\\tests\\data_files\\__init__.py -> build\\lib.win32-3.8\\h5py\\tests\\data_files\n",
      "  creating build\\lib.win32-3.8\\h5py\\tests\\test_vds\n",
      "  copying h5py\\tests\\test_vds\\test_highlevel_vds.py -> build\\lib.win32-3.8\\h5py\\tests\\test_vds\n",
      "  copying h5py\\tests\\test_vds\\test_lowlevel_vds.py -> build\\lib.win32-3.8\\h5py\\tests\\test_vds\n",
      "  copying h5py\\tests\\test_vds\\test_virtual_source.py -> build\\lib.win32-3.8\\h5py\\tests\\test_vds\n",
      "  copying h5py\\tests\\test_vds\\__init__.py -> build\\lib.win32-3.8\\h5py\\tests\\test_vds\n",
      "  copying h5py\\tests\\data_files\\vlen_string_dset.h5 -> build\\lib.win32-3.8\\h5py\\tests\\data_files\n",
      "  copying h5py\\tests\\data_files\\vlen_string_dset_utc.h5 -> build\\lib.win32-3.8\\h5py\\tests\\data_files\n",
      "  copying h5py\\tests\\data_files\\vlen_string_s390x.h5 -> build\\lib.win32-3.8\\h5py\\tests\\data_files\n",
      "  running build_ext\n",
      "  Loading library to get build settings and version: hdf5.dll\n",
      "  error: Unable to load dependency HDF5, make sure HDF5 is installed properly\n",
      "  error: Could not find module 'hdf5.dll' (or one of its dependencies). Try using the full path with constructor syntax.\n",
      "  [end of output]\n",
      "  \n",
      "  note: This error originates from a subprocess, and is likely not a problem with pip.\n",
      "  ERROR: Failed building wheel for h5py\n",
      "ERROR: Could not build wheels for h5py, which is required to install pyproject.toml-based projects\n",
      "WARNING: You are using pip version 22.0.3; however, version 22.0.4 is available.\n",
      "You should consider upgrading via the 'c:\\users\\paolo\\appdata\\local\\programs\\python\\python38-32\\python.exe -m pip install --upgrade pip' command.\n"
     ]
    },
    {
     "name": "stdout",
     "output_type": "stream",
     "text": [
      "Collecting nlpia\n",
      "  Using cached nlpia-0.5.2-py2.py3-none-any.whl (32.0 MB)\n",
      "Requirement already satisfied: nltk in c:\\users\\paolo\\appdata\\roaming\\python\\python38\\site-packages (from nlpia) (3.7)\n",
      "Requirement already satisfied: tqdm in c:\\users\\paolo\\appdata\\roaming\\python\\python38\\site-packages (from nlpia) (4.63.0)\n",
      "Collecting scikit-learn\n",
      "  Using cached scikit_learn-1.0.2-cp38-cp38-win32.whl (6.4 MB)\n",
      "Requirement already satisfied: pandas in c:\\users\\paolo\\appdata\\local\\programs\\python\\python38-32\\lib\\site-packages (from nlpia) (1.4.1)\n",
      "Collecting matplotlib\n",
      "  Downloading matplotlib-3.5.1-cp38-cp38-win32.whl (7.1 MB)\n",
      "     ---------------------------------------- 7.1/7.1 MB 4.1 MB/s eta 0:00:00\n",
      "Collecting plotly\n",
      "  Using cached plotly-5.6.0-py2.py3-none-any.whl (27.7 MB)\n",
      "Requirement already satisfied: regex in c:\\users\\paolo\\appdata\\roaming\\python\\python38\\site-packages (from nlpia) (2022.1.18)\n",
      "Requirement already satisfied: jupyter in c:\\users\\paolo\\appdata\\local\\programs\\python\\python38-32\\lib\\site-packages (from nlpia) (1.0.0)\n",
      "Collecting html2text\n",
      "  Using cached html2text-2020.1.16-py3-none-any.whl (32 kB)\n",
      "Collecting python-Levenshtein\n",
      "  Downloading python-Levenshtein-0.12.2.tar.gz (50 kB)\n",
      "     ---------------------------------------- 50.5/50.5 KB 2.7 MB/s eta 0:00:00\n",
      "  Preparing metadata (setup.py): started\n",
      "  Preparing metadata (setup.py): finished with status 'done'\n",
      "Collecting pypandoc\n",
      "  Using cached pypandoc-1.7.4.tar.gz (30 kB)\n",
      "  Installing build dependencies: started\n",
      "  Installing build dependencies: finished with status 'done'\n",
      "  Getting requirements to build wheel: started\n",
      "  Getting requirements to build wheel: finished with status 'done'\n",
      "  Preparing metadata (pyproject.toml): started\n",
      "  Preparing metadata (pyproject.toml): finished with status 'done'\n",
      "Requirement already satisfied: future in c:\\users\\paolo\\appdata\\local\\programs\\python\\python38-32\\lib\\site-packages (from nlpia) (0.18.2)\n",
      "Collecting html5lib\n",
      "  Using cached html5lib-1.1-py2.py3-none-any.whl (112 kB)\n",
      "Collecting pandas-datareader\n",
      "  Using cached pandas_datareader-0.10.0-py3-none-any.whl (109 kB)\n",
      "Collecting pugnlp\n",
      "  Downloading pugnlp-0.2.6-py2.py3-none-any.whl (706 kB)\n",
      "     -------------------------------------- 706.6/706.6 KB 4.0 MB/s eta 0:00:00\n",
      "Collecting gensim\n",
      "  Using cached gensim-4.1.2.tar.gz (23.2 MB)\n",
      "  Preparing metadata (setup.py): started\n",
      "  Preparing metadata (setup.py): finished with status 'done'\n",
      "Collecting nlpia\n",
      "  Using cached nlpia-0.5.1-py2.py3-none-any.whl (32.0 MB)\n",
      "  Using cached nlpia-0.3.0-py2.py3-none-any.whl (32.0 MB)\n",
      "Collecting scipy\n",
      "  Downloading scipy-1.8.0-cp38-cp38-win32.whl (33.4 MB)\n",
      "     ---------------------------------------- 33.4/33.4 MB 4.2 MB/s eta 0:00:00\n",
      "Collecting nlpia\n",
      "  Using cached nlpia-0.2.15-py2.py3-none-any.whl (32.0 MB)\n",
      "  Using cached nlpia-0.2.14-py2.py3-none-any.whl (32.0 MB)\n",
      "  Using cached nlpia-0.2.13-py2.py3-none-any.whl (32.0 MB)\n",
      "  Using cached nlpia-0.2.11-py2.py3-none-any.whl (32.0 MB)\n",
      "  Using cached nlpia-0.2.10-py2.py3-none-any.whl (32.0 MB)\n",
      "  Downloading nlpia-0.2.9-py2.py3-none-any.whl (32.0 MB)\n",
      "     ---------------------------------------- 32.0/32.0 MB 4.3 MB/s eta 0:00:00\n",
      "Collecting cufflinks\n",
      "  Downloading cufflinks-0.17.3.tar.gz (81 kB)\n",
      "     ---------------------------------------- 81.7/81.7 KB 4.8 MB/s eta 0:00:00\n",
      "  Preparing metadata (setup.py): started\n",
      "  Preparing metadata (setup.py): finished with status 'done'\n",
      "Collecting nlpia\n",
      "  Downloading nlpia-0.2.8-py2.py3-none-any.whl (32.0 MB)\n",
      "     ---------------------------------------- 32.0/32.0 MB 4.1 MB/s eta 0:00:00\n",
      "Collecting annoy\n",
      "  Downloading annoy-1.17.0.tar.gz (646 kB)\n",
      "     -------------------------------------- 646.2/646.2 KB 4.5 MB/s eta 0:00:00\n",
      "  Preparing metadata (setup.py): started\n",
      "  Preparing metadata (setup.py): finished with status 'done'\n",
      "Collecting nlpia\n",
      "  Downloading nlpia-0.2.7-py2.py3-none-any.whl (32.0 MB)\n",
      "     ---------------------------------------- 32.0/32.0 MB 4.3 MB/s eta 0:00:00\n",
      "  Downloading nlpia-0.2.6-py2.py3-none-any.whl (26.1 MB)\n",
      "     ---------------------------------------- 26.1/26.1 MB 4.3 MB/s eta 0:00:00\n",
      "  Downloading nlpia-0.2.5-py2.py3-none-any.whl (26.1 MB)\n",
      "     ---------------------------------------- 26.1/26.1 MB 4.3 MB/s eta 0:00:00\n",
      "  Downloading nlpia-0.2.2-py2.py3-none-any.whl (32.0 MB)\n",
      "     ---------------------------------------- 32.0/32.0 MB 4.3 MB/s eta 0:00:00\n",
      "  Downloading nlpia-0.2.1-py2.py3-none-any.whl (32.0 MB)\n",
      "     ---------------------------------------- 32.0/32.0 MB 4.1 MB/s eta 0:00:00\n",
      "  Downloading nlpia-0.2.0-py2.py3-none-any.whl (32.0 MB)\n",
      "     ---------------------------------------- 32.0/32.0 MB 4.2 MB/s eta 0:00:00\n",
      "  Downloading nlpia-0.1.89-py2.py3-none-any.whl (32.0 MB)\n",
      "     ---------------------------------------- 32.0/32.0 MB 4.2 MB/s eta 0:00:00\n",
      "  Downloading nlpia-0.1.88-py2.py3-none-any.whl (32.0 MB)\n",
      "     ---------------------------------------- 32.0/32.0 MB 4.2 MB/s eta 0:00:00\n",
      "  Downloading nlpia-0.1.87-py2.py3-none-any.whl (32.0 MB)\n",
      "     ---------------------------------------- 32.0/32.0 MB 4.1 MB/s eta 0:00:00\n",
      "  Downloading nlpia-0.1.86-py2.py3-none-any.whl (32.0 MB)\n",
      "     ---------------------------------------- 32.0/32.0 MB 4.1 MB/s eta 0:00:00\n",
      "  Downloading nlpia-0.1.85-py2.py3-none-any.whl (32.0 MB)\n",
      "     ---------------------------------------- 32.0/32.0 MB 4.0 MB/s eta 0:00:00\n",
      "  Downloading nlpia-0.1.84-py2.py3-none-any.whl (29.9 MB)\n",
      "     ---------------------------------------- 29.9/29.9 MB 4.2 MB/s eta 0:00:00\n",
      "  Downloading nlpia-0.1.83-py2.py3-none-any.whl (29.9 MB)\n",
      "     ---------------------------------------- 29.9/29.9 MB 4.2 MB/s eta 0:00:00\n",
      "  Downloading nlpia-0.1.82-py2.py3-none-any.whl (29.9 MB)\n",
      "     ---------------------------------------- 29.9/29.9 MB 4.2 MB/s eta 0:00:00\n",
      "  Downloading nlpia-0.1.81-py2.py3-none-any.whl (29.9 MB)\n",
      "     ---------------------------------------- 29.9/29.9 MB 3.8 MB/s eta 0:00:00\n",
      "  Downloading nlpia-0.1.80-py2.py3-none-any.whl (58.8 MB)\n",
      "     ---------------------------------------- 58.8/58.8 MB 3.6 MB/s eta 0:00:00\n",
      "  Downloading nlpia-0.1.79-py2.py3-none-any.whl (58.8 MB)\n",
      "     ---------------------------------------- 58.8/58.8 MB 3.4 MB/s eta 0:00:00\n",
      "  Downloading nlpia-0.1.78-py2.py3-none-any.whl (58.8 MB)\n",
      "     ---------------------------------------- 58.8/58.8 MB 3.4 MB/s eta 0:00:00\n",
      "  Downloading nlpia-0.1.77-py2.py3-none-any.whl (58.8 MB)\n",
      "     ---------------------------------------- 58.8/58.8 MB 3.6 MB/s eta 0:00:00\n",
      "  Downloading nlpia-0.1.76-py2.py3-none-any.whl (58.8 MB)\n",
      "     ---------------------------------------- 58.8/58.8 MB 3.9 MB/s eta 0:00:00\n",
      "  Downloading nlpia-0.1.75-py2.py3-none-any.whl (58.8 MB)\n",
      "     ---------------------------------------- 58.8/58.8 MB 4.0 MB/s eta 0:00:00\n",
      "  Downloading nlpia-0.1.72-py2.py3-none-any.whl (55.9 MB)\n",
      "     ---------------------------------------- 55.9/55.9 MB 3.7 MB/s eta 0:00:00\n",
      "  Downloading nlpia-0.1.71-py2.py3-none-any.whl (55.9 MB)\n",
      "     ---------------------------------------- 55.9/55.9 MB 3.9 MB/s eta 0:00:00\n",
      "  Downloading nlpia-0.1.70-py2.py3-none-any.whl (55.9 MB)\n",
      "     ---------------------------------------- 55.9/55.9 MB 3.9 MB/s eta 0:00:00\n",
      "  Downloading nlpia-0.1.69-py2.py3-none-any.whl (55.9 MB)\n",
      "     ---------------------------------------- 55.9/55.9 MB 3.9 MB/s eta 0:00:00\n",
      "  Downloading nlpia-0.1.68-py2.py3-none-any.whl (55.9 MB)\n",
      "     ---------------------------------------- 55.9/55.9 MB 4.0 MB/s eta 0:00:00\n",
      "  Downloading nlpia-0.1.63-py2.py3-none-any.whl (55.9 MB)\n",
      "     ---------------------------------------- 55.9/55.9 MB 3.7 MB/s eta 0:00:00\n",
      "  Downloading nlpia-0.1.62-py2.py3-none-any.whl (55.9 MB)\n",
      "     ---------------------------------------- 55.9/55.9 MB 4.0 MB/s eta 0:00:00\n",
      "  Downloading nlpia-0.1.60.tar.gz (56.5 MB)\n",
      "     ---------------------------------------- 56.5/56.5 MB 4.0 MB/s eta 0:00:00\n",
      "  Preparing metadata (setup.py): started\n",
      "  Preparing metadata (setup.py): finished with status 'done'\n",
      "Collecting h5py\n",
      "  Using cached h5py-3.6.0.tar.gz (384 kB)\n",
      "  Installing build dependencies: started\n",
      "  Installing build dependencies: finished with status 'done'\n",
      "  Getting requirements to build wheel: started\n",
      "  Getting requirements to build wheel: finished with status 'done'\n",
      "  Preparing metadata (pyproject.toml): started\n",
      "  Preparing metadata (pyproject.toml): finished with status 'done'\n",
      "Collecting seaborn\n",
      "  Using cached seaborn-0.11.2-py3-none-any.whl (292 kB)\n",
      "Collecting nlpia\n",
      "  Downloading nlpia-0.1.58-py2.py3-none-any.whl (55.9 MB)\n",
      "     ---------------------------------------- 55.9/55.9 MB 3.8 MB/s eta 0:00:00\n",
      "  Downloading nlpia-0.1.57-py2.py3-none-any.whl (55.9 MB)\n",
      "     ---------------------------------------- 55.9/55.9 MB 4.0 MB/s eta 0:00:00\n",
      "  Downloading nlpia-0.1.56-py2.py3-none-any.whl (55.9 MB)\n",
      "     ---------------------------------------- 55.9/55.9 MB 4.1 MB/s eta 0:00:00\n",
      "  Downloading nlpia-0.1.54-py2.py3-none-any.whl (55.9 MB)\n",
      "     ---------------------------------------- 55.9/55.9 MB 4.1 MB/s eta 0:00:00\n",
      "  Downloading nlpia-0.1.52-py2.py3-none-any.whl (55.9 MB)\n",
      "     ---------------------------------------- 55.9/55.9 MB 4.1 MB/s eta 0:00:00\n",
      "  Downloading nlpia-0.1.50-py2.py3-none-any.whl (55.9 MB)\n",
      "     ---------------------------------------- 55.9/55.9 MB 3.7 MB/s eta 0:00:00\n",
      "  Downloading nlpia-0.1.49-py2.py3-none-any.whl (55.9 MB)\n",
      "     ---------------------------------------- 55.9/55.9 MB 4.0 MB/s eta 0:00:00\n",
      "  Downloading nlpia-0.1.48-py2.py3-none-any.whl (55.9 MB)\n",
      "     ---------------------------------------- 55.9/55.9 MB 4.0 MB/s eta 0:00:00\n",
      "  Downloading nlpia-0.1.47-py2.py3-none-any.whl (55.8 MB)\n",
      "     ---------------------------------------- 55.8/55.8 MB 4.0 MB/s eta 0:00:00\n",
      "  Downloading nlpia-0.1.46-py2.py3-none-any.whl (55.8 MB)\n",
      "     ---------------------------------------- 55.8/55.8 MB 4.0 MB/s eta 0:00:00\n",
      "  Downloading nlpia-0.1.45-py2.py3-none-any.whl (55.8 MB)\n",
      "     ---------------------------------------- 55.8/55.8 MB 1.8 MB/s eta 0:00:00\n",
      "  Downloading nlpia-0.1.44-py2.py3-none-any.whl (55.8 MB)\n",
      "     ---------------------------------------- 55.8/55.8 MB 1.6 MB/s eta 0:00:00\n",
      "  Downloading nlpia-0.1.43-py2.py3-none-any.whl (55.8 MB)\n",
      "     ---------------------------------------- 55.8/55.8 MB 3.1 MB/s eta 0:00:00\n",
      "  Downloading nlpia-0.1.42-py2.py3-none-any.whl (55.8 MB)\n",
      "     ---------------------------------------- 55.8/55.8 MB 2.2 MB/s eta 0:00:00\n",
      "Requirement already satisfied: numpy>=1.9.2 in c:\\users\\paolo\\appdata\\roaming\\python\\python38\\site-packages (from cufflinks->nlpia) (1.22.2)\n",
      "Requirement already satisfied: six>=1.9.0 in c:\\users\\paolo\\appdata\\local\\programs\\python\\python38-32\\lib\\site-packages (from cufflinks->nlpia) (1.15.0)\n",
      "Collecting colorlover>=0.2.1\n",
      "  Using cached colorlover-0.3.0-py3-none-any.whl (8.9 kB)\n",
      "Requirement already satisfied: setuptools>=34.4.1 in c:\\users\\paolo\\appdata\\local\\programs\\python\\python38-32\\lib\\site-packages (from cufflinks->nlpia) (41.2.0)\n",
      "Requirement already satisfied: ipython>=5.3.0 in c:\\users\\paolo\\appdata\\local\\programs\\python\\python38-32\\lib\\site-packages (from cufflinks->nlpia) (7.23.1)\n",
      "Requirement already satisfied: ipywidgets>=7.0.0 in c:\\users\\paolo\\appdata\\local\\programs\\python\\python38-32\\lib\\site-packages (from cufflinks->nlpia) (7.6.3)\n",
      "Requirement already satisfied: pytz>=2020.1 in c:\\users\\paolo\\appdata\\local\\programs\\python\\python38-32\\lib\\site-packages (from pandas->nlpia) (2021.1)\n",
      "Requirement already satisfied: python-dateutil>=2.8.1 in c:\\users\\paolo\\appdata\\local\\programs\\python\\python38-32\\lib\\site-packages (from pandas->nlpia) (2.8.1)\n",
      "Collecting tenacity>=6.2.0\n",
      "  Using cached tenacity-8.0.1-py3-none-any.whl (24 kB)\n",
      "Collecting smart_open>=1.8.1\n",
      "  Using cached smart_open-5.2.1-py3-none-any.whl (58 kB)\n",
      "Requirement already satisfied: notebook in c:\\users\\paolo\\appdata\\local\\programs\\python\\python38-32\\lib\\site-packages (from jupyter->nlpia) (6.3.0)\n",
      "Requirement already satisfied: jupyter-console in c:\\users\\paolo\\appdata\\local\\programs\\python\\python38-32\\lib\\site-packages (from jupyter->nlpia) (6.4.0)\n",
      "Requirement already satisfied: qtconsole in c:\\users\\paolo\\appdata\\local\\programs\\python\\python38-32\\lib\\site-packages (from jupyter->nlpia) (5.1.0)\n",
      "Requirement already satisfied: nbconvert in c:\\users\\paolo\\appdata\\local\\programs\\python\\python38-32\\lib\\site-packages (from jupyter->nlpia) (6.0.7)\n",
      "Requirement already satisfied: ipykernel in c:\\users\\paolo\\appdata\\local\\programs\\python\\python38-32\\lib\\site-packages (from jupyter->nlpia) (5.5.5)\n",
      "Collecting cycler>=0.10\n",
      "  Using cached cycler-0.11.0-py3-none-any.whl (6.4 kB)\n",
      "Collecting fonttools>=4.22.0\n",
      "  Using cached fonttools-4.31.2-py3-none-any.whl (899 kB)\n",
      "Collecting pillow>=6.2.0\n",
      "  Using cached Pillow-9.1.0-cp38-cp38-win32.whl (2.8 MB)\n",
      "Collecting kiwisolver>=1.0.1\n",
      "  Using cached kiwisolver-1.4.2-cp38-cp38-win32.whl (46 kB)\n",
      "Requirement already satisfied: packaging>=20.0 in c:\\users\\paolo\\appdata\\local\\programs\\python\\python38-32\\lib\\site-packages (from matplotlib->nlpia) (20.9)\n",
      "Requirement already satisfied: pyparsing>=2.2.1 in c:\\users\\paolo\\appdata\\local\\programs\\python\\python38-32\\lib\\site-packages (from matplotlib->nlpia) (2.4.7)\n",
      "Requirement already satisfied: joblib in c:\\users\\paolo\\appdata\\roaming\\python\\python38\\site-packages (from nltk->nlpia) (1.1.0)\n",
      "Requirement already satisfied: click in c:\\users\\paolo\\appdata\\local\\programs\\python\\python38-32\\lib\\site-packages (from nltk->nlpia) (7.1.2)\n",
      "Requirement already satisfied: requests>=2.19.0 in c:\\users\\paolo\\appdata\\local\\programs\\python\\python38-32\\lib\\site-packages (from pandas-datareader->nlpia) (2.25.0)\n",
      "Collecting lxml\n",
      "  Using cached lxml-4.8.0-cp38-cp38-win32.whl (3.3 MB)\n",
      "Requirement already satisfied: wheel in c:\\users\\paolo\\appdata\\local\\programs\\python\\python38-32\\lib\\site-packages (from pugnlp->nlpia) (0.37.1)\n",
      "Requirement already satisfied: pip in c:\\users\\paolo\\appdata\\local\\programs\\python\\python38-32\\lib\\site-packages (from pugnlp->nlpia) (22.0.3)\n",
      "Collecting python-slugify\n",
      "  Using cached python_slugify-6.1.1-py2.py3-none-any.whl (9.1 kB)\n",
      "Collecting fuzzywuzzy\n",
      "  Using cached fuzzywuzzy-0.18.0-py2.py3-none-any.whl (18 kB)\n",
      "Collecting coverage\n",
      "  Using cached coverage-6.3.2-cp38-cp38-win32.whl (185 kB)\n",
      "Collecting threadpoolctl>=2.0.0\n",
      "  Using cached threadpoolctl-3.1.0-py3-none-any.whl (14 kB)\n",
      "Requirement already satisfied: colorama in c:\\users\\paolo\\appdata\\local\\programs\\python\\python38-32\\lib\\site-packages (from tqdm->nlpia) (0.4.4)\n",
      "Requirement already satisfied: jedi>=0.16 in c:\\users\\paolo\\appdata\\local\\programs\\python\\python38-32\\lib\\site-packages (from ipython>=5.3.0->cufflinks->nlpia) (0.18.0)\n",
      "Requirement already satisfied: decorator in c:\\users\\paolo\\appdata\\local\\programs\\python\\python38-32\\lib\\site-packages (from ipython>=5.3.0->cufflinks->nlpia) (5.0.9)\n",
      "Requirement already satisfied: pygments in c:\\users\\paolo\\appdata\\local\\programs\\python\\python38-32\\lib\\site-packages (from ipython>=5.3.0->cufflinks->nlpia) (2.9.0)\n",
      "Requirement already satisfied: backcall in c:\\users\\paolo\\appdata\\local\\programs\\python\\python38-32\\lib\\site-packages (from ipython>=5.3.0->cufflinks->nlpia) (0.2.0)\n",
      "Requirement already satisfied: pickleshare in c:\\users\\paolo\\appdata\\local\\programs\\python\\python38-32\\lib\\site-packages (from ipython>=5.3.0->cufflinks->nlpia) (0.7.5)\n",
      "Requirement already satisfied: matplotlib-inline in c:\\users\\paolo\\appdata\\local\\programs\\python\\python38-32\\lib\\site-packages (from ipython>=5.3.0->cufflinks->nlpia) (0.1.2)\n",
      "Requirement already satisfied: prompt-toolkit!=3.0.0,!=3.0.1,<3.1.0,>=2.0.0 in c:\\users\\paolo\\appdata\\local\\programs\\python\\python38-32\\lib\\site-packages (from ipython>=5.3.0->cufflinks->nlpia) (3.0.18)\n",
      "Requirement already satisfied: traitlets>=4.2 in c:\\users\\paolo\\appdata\\local\\programs\\python\\python38-32\\lib\\site-packages (from ipython>=5.3.0->cufflinks->nlpia) (5.0.5)\n",
      "Requirement already satisfied: jupyterlab-widgets>=1.0.0 in c:\\users\\paolo\\appdata\\local\\programs\\python\\python38-32\\lib\\site-packages (from ipywidgets>=7.0.0->cufflinks->nlpia) (1.0.0)\n",
      "Requirement already satisfied: nbformat>=4.2.0 in c:\\users\\paolo\\appdata\\local\\programs\\python\\python38-32\\lib\\site-packages (from ipywidgets>=7.0.0->cufflinks->nlpia) (5.1.3)\n",
      "Requirement already satisfied: widgetsnbextension~=3.5.0 in c:\\users\\paolo\\appdata\\local\\programs\\python\\python38-32\\lib\\site-packages (from ipywidgets>=7.0.0->cufflinks->nlpia) (3.5.1)\n",
      "Requirement already satisfied: jupyter-client in c:\\users\\paolo\\appdata\\local\\programs\\python\\python38-32\\lib\\site-packages (from ipykernel->jupyter->nlpia) (6.1.12)\n",
      "Requirement already satisfied: tornado>=4.2 in c:\\users\\paolo\\appdata\\local\\programs\\python\\python38-32\\lib\\site-packages (from ipykernel->jupyter->nlpia) (6.1)\n",
      "Requirement already satisfied: urllib3<1.27,>=1.21.1 in c:\\users\\paolo\\appdata\\local\\programs\\python\\python38-32\\lib\\site-packages (from requests>=2.19.0->pandas-datareader->nlpia) (1.26.2)\n",
      "Requirement already satisfied: chardet<4,>=3.0.2 in c:\\users\\paolo\\appdata\\local\\programs\\python\\python38-32\\lib\\site-packages (from requests>=2.19.0->pandas-datareader->nlpia) (3.0.4)\n",
      "Requirement already satisfied: certifi>=2017.4.17 in c:\\users\\paolo\\appdata\\local\\programs\\python\\python38-32\\lib\\site-packages (from requests>=2.19.0->pandas-datareader->nlpia) (2020.11.8)\n",
      "Requirement already satisfied: idna<3,>=2.5 in c:\\users\\paolo\\appdata\\local\\programs\\python\\python38-32\\lib\\site-packages (from requests>=2.19.0->pandas-datareader->nlpia) (2.10)\n",
      "Requirement already satisfied: jupyterlab-pygments in c:\\users\\paolo\\appdata\\local\\programs\\python\\python38-32\\lib\\site-packages (from nbconvert->jupyter->nlpia) (0.1.2)\n",
      "Requirement already satisfied: testpath in c:\\users\\paolo\\appdata\\local\\programs\\python\\python38-32\\lib\\site-packages (from nbconvert->jupyter->nlpia) (0.4.4)\n",
      "Requirement already satisfied: bleach in c:\\users\\paolo\\appdata\\local\\programs\\python\\python38-32\\lib\\site-packages (from nbconvert->jupyter->nlpia) (3.3.0)\n",
      "Requirement already satisfied: entrypoints>=0.2.2 in c:\\users\\paolo\\appdata\\local\\programs\\python\\python38-32\\lib\\site-packages (from nbconvert->jupyter->nlpia) (0.3)\n",
      "Requirement already satisfied: nbclient<0.6.0,>=0.5.0 in c:\\users\\paolo\\appdata\\local\\programs\\python\\python38-32\\lib\\site-packages (from nbconvert->jupyter->nlpia) (0.5.3)\n",
      "Requirement already satisfied: defusedxml in c:\\users\\paolo\\appdata\\local\\programs\\python\\python38-32\\lib\\site-packages (from nbconvert->jupyter->nlpia) (0.7.1)\n",
      "Requirement already satisfied: jinja2>=2.4 in c:\\users\\paolo\\appdata\\local\\programs\\python\\python38-32\\lib\\site-packages (from nbconvert->jupyter->nlpia) (3.0.0)\n",
      "Requirement already satisfied: mistune<2,>=0.8.1 in c:\\users\\paolo\\appdata\\local\\programs\\python\\python38-32\\lib\\site-packages (from nbconvert->jupyter->nlpia) (0.8.4)\n",
      "Requirement already satisfied: pandocfilters>=1.4.1 in c:\\users\\paolo\\appdata\\local\\programs\\python\\python38-32\\lib\\site-packages (from nbconvert->jupyter->nlpia) (1.4.3)\n",
      "Requirement already satisfied: jupyter-core in c:\\users\\paolo\\appdata\\local\\programs\\python\\python38-32\\lib\\site-packages (from nbconvert->jupyter->nlpia) (4.7.1)\n",
      "Requirement already satisfied: ipython-genutils in c:\\users\\paolo\\appdata\\local\\programs\\python\\python38-32\\lib\\site-packages (from notebook->jupyter->nlpia) (0.2.0)\n",
      "Requirement already satisfied: argon2-cffi in c:\\users\\paolo\\appdata\\local\\programs\\python\\python38-32\\lib\\site-packages (from notebook->jupyter->nlpia) (20.1.0)\n",
      "Requirement already satisfied: prometheus-client in c:\\users\\paolo\\appdata\\local\\programs\\python\\python38-32\\lib\\site-packages (from notebook->jupyter->nlpia) (0.10.1)\n",
      "Requirement already satisfied: Send2Trash>=1.5.0 in c:\\users\\paolo\\appdata\\local\\programs\\python\\python38-32\\lib\\site-packages (from notebook->jupyter->nlpia) (1.5.0)\n",
      "Requirement already satisfied: pyzmq>=17 in c:\\users\\paolo\\appdata\\local\\programs\\python\\python38-32\\lib\\site-packages (from notebook->jupyter->nlpia) (22.0.3)\n",
      "Requirement already satisfied: terminado>=0.8.3 in c:\\users\\paolo\\appdata\\local\\programs\\python\\python38-32\\lib\\site-packages (from notebook->jupyter->nlpia) (0.9.5)\n",
      "Collecting text-unidecode>=1.3\n",
      "  Using cached text_unidecode-1.3-py2.py3-none-any.whl (78 kB)\n",
      "Requirement already satisfied: qtpy in c:\\users\\paolo\\appdata\\local\\programs\\python\\python38-32\\lib\\site-packages (from qtconsole->jupyter->nlpia) (1.9.0)\n",
      "Requirement already satisfied: parso<0.9.0,>=0.8.0 in c:\\users\\paolo\\appdata\\local\\programs\\python\\python38-32\\lib\\site-packages (from jedi>=0.16->ipython>=5.3.0->cufflinks->nlpia) (0.8.2)\n",
      "Requirement already satisfied: MarkupSafe>=2.0.0rc2 in c:\\users\\paolo\\appdata\\local\\programs\\python\\python38-32\\lib\\site-packages (from jinja2>=2.4->nbconvert->jupyter->nlpia) (2.0.0)\n",
      "Requirement already satisfied: pywin32>=1.0 in c:\\users\\paolo\\appdata\\local\\programs\\python\\python38-32\\lib\\site-packages (from jupyter-core->nbconvert->jupyter->nlpia) (228)\n",
      "Requirement already satisfied: async-generator in c:\\users\\paolo\\appdata\\local\\programs\\python\\python38-32\\lib\\site-packages (from nbclient<0.6.0,>=0.5.0->nbconvert->jupyter->nlpia) (1.10)\n",
      "Requirement already satisfied: nest-asyncio in c:\\users\\paolo\\appdata\\local\\programs\\python\\python38-32\\lib\\site-packages (from nbclient<0.6.0,>=0.5.0->nbconvert->jupyter->nlpia) (1.5.1)\n",
      "Requirement already satisfied: jsonschema!=2.5.0,>=2.4 in c:\\users\\paolo\\appdata\\local\\programs\\python\\python38-32\\lib\\site-packages (from nbformat>=4.2.0->ipywidgets>=7.0.0->cufflinks->nlpia) (3.2.0)\n",
      "Requirement already satisfied: wcwidth in c:\\users\\paolo\\appdata\\local\\programs\\python\\python38-32\\lib\\site-packages (from prompt-toolkit!=3.0.0,!=3.0.1,<3.1.0,>=2.0.0->ipython>=5.3.0->cufflinks->nlpia) (0.2.5)\n",
      "Requirement already satisfied: pywinpty<1,>=0.5 in c:\\users\\paolo\\appdata\\local\\programs\\python\\python38-32\\lib\\site-packages (from terminado>=0.8.3->notebook->jupyter->nlpia) (0.5.7)\n",
      "Requirement already satisfied: cffi>=1.0.0 in c:\\users\\paolo\\appdata\\local\\programs\\python\\python38-32\\lib\\site-packages (from argon2-cffi->notebook->jupyter->nlpia) (1.14.5)\n",
      "Requirement already satisfied: webencodings in c:\\users\\paolo\\appdata\\local\\programs\\python\\python38-32\\lib\\site-packages (from bleach->nbconvert->jupyter->nlpia) (0.5.1)\n",
      "Requirement already satisfied: pycparser in c:\\users\\paolo\\appdata\\local\\programs\\python\\python38-32\\lib\\site-packages (from cffi>=1.0.0->argon2-cffi->notebook->jupyter->nlpia) (2.20)\n",
      "Requirement already satisfied: pyrsistent>=0.14.0 in c:\\users\\paolo\\appdata\\local\\programs\\python\\python38-32\\lib\\site-packages (from jsonschema!=2.5.0,>=2.4->nbformat>=4.2.0->ipywidgets>=7.0.0->cufflinks->nlpia) (0.17.3)\n",
      "Requirement already satisfied: attrs>=17.4.0 in c:\\users\\paolo\\appdata\\local\\programs\\python\\python38-32\\lib\\site-packages (from jsonschema!=2.5.0,>=2.4->nbformat>=4.2.0->ipywidgets>=7.0.0->cufflinks->nlpia) (21.2.0)\n",
      "Building wheels for collected packages: cufflinks, gensim, h5py, pypandoc, python-Levenshtein\n",
      "  Building wheel for cufflinks (setup.py): started\n",
      "  Building wheel for cufflinks (setup.py): finished with status 'done'\n",
      "  Created wheel for cufflinks: filename=cufflinks-0.17.3-py3-none-any.whl size=68724 sha256=bc0f85823829a8d1034679239f5cda69364500146658b4513b7953e3bbe0487a\n",
      "  Stored in directory: c:\\users\\paolo\\appdata\\local\\pip\\cache\\wheels\\6b\\76\\62\\6da97734911ffcbdd559fd1a3f28526321f0ae699182a23866\n",
      "  Building wheel for gensim (setup.py): started\n",
      "  Building wheel for gensim (setup.py): finished with status 'done'\n",
      "  Created wheel for gensim: filename=gensim-4.1.2-cp38-cp38-win32.whl size=23891700 sha256=b79526fe65929bdb67e2d3a8628bf631a654f287200860193d557814bb9beead\n",
      "  Stored in directory: c:\\users\\paolo\\appdata\\local\\pip\\cache\\wheels\\bf\\3f\\3f\\6f304fb78cad2da9069e0c7d2ed65f43e080b0ccd4f2c5c5d4\n",
      "  Building wheel for h5py (pyproject.toml): started\n",
      "  Building wheel for h5py (pyproject.toml): finished with status 'error'\n",
      "  Building wheel for pypandoc (pyproject.toml): started\n",
      "  Building wheel for pypandoc (pyproject.toml): finished with status 'done'\n",
      "  Created wheel for pypandoc: filename=pypandoc-1.7.4-py2.py3-none-any.whl size=32104 sha256=17e72951e1537e6f32a04450d0f295a9512d1cb2dc7e79e4181ab6a03bd65d89\n",
      "  Stored in directory: c:\\users\\paolo\\appdata\\local\\pip\\cache\\wheels\\81\\14\\85\\2bebc20154b4b92f5f041fa01f92437fd03aed6cbc5a344162\n",
      "  Building wheel for python-Levenshtein (setup.py): started\n",
      "  Building wheel for python-Levenshtein (setup.py): finished with status 'done'\n",
      "  Created wheel for python-Levenshtein: filename=python_Levenshtein-0.12.2-cp38-cp38-win32.whl size=76977 sha256=1538220ee2536724af4eca1bb731f002794341a2d6cf0b2326b55bce24a312de\n",
      "  Stored in directory: c:\\users\\paolo\\appdata\\local\\pip\\cache\\wheels\\d7\\0c\\76\\042b46eb0df65c3ccd0338f791210c55ab79d209bcc269e2c7\n",
      "Successfully built cufflinks gensim pypandoc python-Levenshtein\n",
      "Failed to build h5py\n"
     ]
    }
   ],
   "source": [
    "# We first install the new dependency: nlpia (03_dit_coli_naivebayes.ipynb)\n",
    "! pip install nlpia"
   ]
  },
  {
   "cell_type": "code",
   "execution_count": 2,
   "metadata": {
    "id": "t8ZXWCunDiad"
   },
   "outputs": [
    {
     "ename": "ModuleNotFoundError",
     "evalue": "No module named 'nlpia'",
     "output_type": "error",
     "traceback": [
      "\u001b[1;31m---------------------------------------------------------------------------\u001b[0m",
      "\u001b[1;31mModuleNotFoundError\u001b[0m                       Traceback (most recent call last)",
      "\u001b[1;32m<ipython-input-2-5575be87a26e>\u001b[0m in \u001b[0;36m<module>\u001b[1;34m\u001b[0m\n\u001b[0;32m      3\u001b[0m \u001b[1;32mfrom\u001b[0m \u001b[0mcollections\u001b[0m \u001b[1;32mimport\u001b[0m \u001b[0mCounter\u001b[0m\u001b[1;33m\u001b[0m\u001b[1;33m\u001b[0m\u001b[0m\n\u001b[0;32m      4\u001b[0m \u001b[1;33m\u001b[0m\u001b[0m\n\u001b[1;32m----> 5\u001b[1;33m \u001b[1;32mfrom\u001b[0m \u001b[0mnlpia\u001b[0m\u001b[1;33m.\u001b[0m\u001b[0mdata\u001b[0m\u001b[1;33m.\u001b[0m\u001b[0mloaders\u001b[0m \u001b[1;32mimport\u001b[0m \u001b[0mget_data\u001b[0m\u001b[1;33m\u001b[0m\u001b[1;33m\u001b[0m\u001b[0m\n\u001b[0m\u001b[0;32m      6\u001b[0m \u001b[1;33m\u001b[0m\u001b[0m\n\u001b[0;32m      7\u001b[0m \u001b[1;31m# The casual tokenizer can handle emoticons, unusual punctuation and slang better than the TreeBank tokenizer\u001b[0m\u001b[1;33m\u001b[0m\u001b[1;33m\u001b[0m\u001b[1;33m\u001b[0m\u001b[0m\n",
      "\u001b[1;31mModuleNotFoundError\u001b[0m: No module named 'nlpia'"
     ]
    }
   ],
   "source": [
    "# Loading the dependencies\n",
    "import pandas as pd\n",
    "from collections import Counter\n",
    "\n",
    "from nlpia.data.loaders import get_data \n",
    "\n",
    "# The casual tokenizer can handle emoticons, unusual punctuation and slang better than the TreeBank tokenizer\n",
    "from nltk.tokenize import casual_tokenize"
   ]
  },
  {
   "cell_type": "markdown",
   "metadata": {
    "id": "EEEXu6s3Diae"
   },
   "source": [
    "## Setting up the \"corpus\"\n",
    "\n",
    "Loading the movies corpus from Hutto movies"
   ]
  },
  {
   "cell_type": "code",
   "execution_count": 15,
   "metadata": {
    "id": "1MksGSDODiaf"
   },
   "outputs": [
    {
     "ename": "NameError",
     "evalue": "name 'get_data' is not defined",
     "output_type": "error",
     "traceback": [
      "\u001b[1;31m---------------------------------------------------------------------------\u001b[0m",
      "\u001b[1;31mNameError\u001b[0m                                 Traceback (most recent call last)",
      "Input \u001b[1;32mIn [15]\u001b[0m, in \u001b[0;36m<cell line: 1>\u001b[1;34m()\u001b[0m\n\u001b[1;32m----> 1\u001b[0m movies \u001b[38;5;241m=\u001b[39m \u001b[43mget_data\u001b[49m(\u001b[38;5;124m'\u001b[39m\u001b[38;5;124mhutto_movies\u001b[39m\u001b[38;5;124m'\u001b[39m)\n\u001b[0;32m      3\u001b[0m \u001b[38;5;66;03m# Looking at some of the first instances\u001b[39;00m\n\u001b[0;32m      4\u001b[0m movies\u001b[38;5;241m.\u001b[39mhead()\u001b[38;5;241m.\u001b[39mround(\u001b[38;5;241m2\u001b[39m)\n",
      "\u001b[1;31mNameError\u001b[0m: name 'get_data' is not defined"
     ]
    }
   ],
   "source": [
    "movies = get_data('hutto_movies')\n",
    "\n",
    "# Looking at some of the first instances\n",
    "movies.head().round(2)"
   ]
  },
  {
   "cell_type": "markdown",
   "metadata": {
    "id": "rvTU4XVmDiag"
   },
   "source": [
    "### Getting a description of the data (look at the range)"
   ]
  },
  {
   "cell_type": "code",
   "execution_count": null,
   "metadata": {
    "id": "GxQnvm9lDiah"
   },
   "outputs": [],
   "source": [
    "movies.describe().round(2)"
   ]
  },
  {
   "cell_type": "code",
   "execution_count": null,
   "metadata": {
    "id": "xCo9AMhLDiah"
   },
   "outputs": [],
   "source": [
    "# Helps display wide DataFrames in the console, so they look prettier\n",
    "pd.set_option('display.width', 75)\n",
    "movies.sentiment"
   ]
  },
  {
   "cell_type": "markdown",
   "metadata": {
    "id": "M1BsQK-4Diai"
   },
   "source": [
    "### Loading the data into a DataFrame through a list of dictionaries"
   ]
  },
  {
   "cell_type": "code",
   "execution_count": null,
   "metadata": {
    "id": "GpeFR1i6Diaj"
   },
   "outputs": [],
   "source": [
    "bags_of_words = []\n",
    "\n",
    "for text in movies.text:\n",
    "    bags_of_words.append(Counter(casual_tokenize(text)))\n",
    "\n",
    "df_bows = pd.DataFrame.from_records(bags_of_words)\n",
    "\n",
    "# from_records() is a DataFrame constructor.\n",
    "# INPUT: a sequence (list) of dictionaries\n",
    "# OUTPUT: a DF with columns for all the keys and associated values. \n",
    "# (Missing values become NaN!)\n",
    "print(df_bows)"
   ]
  },
  {
   "cell_type": "code",
   "execution_count": null,
   "metadata": {
    "id": "cU1Hv7K1Diak"
   },
   "outputs": [],
   "source": [
    "# So we fill them with 0:\n",
    "df_bows = df_bows.fillna(0).astype(int)\n",
    "print(df_bows)"
   ]
  },
  {
   "cell_type": "markdown",
   "metadata": {
    "id": "uX3jwWktDian"
   },
   "source": [
    "### Let us look at the shape\n",
    "\n",
    "Spoiler: A BoW can explode in size; even more when no normalisation is applied at all\n"
   ]
  },
  {
   "cell_type": "code",
   "execution_count": null,
   "metadata": {
    "id": "xKu4rVYyDian"
   },
   "outputs": [],
   "source": [
    "df_bows.shape"
   ]
  },
  {
   "cell_type": "markdown",
   "metadata": {
    "id": "O54rsOArDiao"
   },
   "source": [
    "Now, let us see the first instances (it is quite sparse)"
   ]
  },
  {
   "cell_type": "code",
   "execution_count": null,
   "metadata": {
    "id": "nu9n3UHGDiao"
   },
   "outputs": [],
   "source": [
    "df_bows.head()"
   ]
  },
  {
   "cell_type": "markdown",
   "metadata": {
    "id": "Awaj-M-oDiap"
   },
   "source": [
    "\n",
    "**Homework**: Integrate the normalisation pipeline (lowercasing, stopwording and stemming or lemmatisation) and see how the dataframe gets affected"
   ]
  },
  {
   "cell_type": "code",
   "execution_count": null,
   "metadata": {
    "id": "LUBDqzFLDiap"
   },
   "outputs": [],
   "source": [
    "# write your code here\n",
    "None"
   ]
  },
  {
   "cell_type": "code",
   "execution_count": null,
   "metadata": {
    "id": "6VMVsj9dDiaq"
   },
   "outputs": [],
   "source": [
    "print(df_bows.head()[list(bags_of_words[0].keys())])\n",
    "print(df_bows.head()[list(bags_of_words[1].keys())])"
   ]
  },
  {
   "cell_type": "markdown",
   "metadata": {
    "id": "_ATeewTDDiaq"
   },
   "source": [
    "### Build the Naive Bayes classifier\n",
    "\n",
    "All the data is now ready. Let us build a Multinomial NB.\n",
    "\n",
    "Multinomial NB is suitable for discrete features (e.g., word counts for text classification). "
   ]
  },
  {
   "cell_type": "code",
   "execution_count": null,
   "metadata": {
    "id": "Z27VwyjsDiaq"
   },
   "outputs": [],
   "source": [
    "from sklearn.naive_bayes import MultinomialNB\n",
    "nb = MultinomialNB()"
   ]
  },
  {
   "cell_type": "code",
   "execution_count": null,
   "metadata": {
    "id": "DhWrv5S3Diar"
   },
   "outputs": [],
   "source": [
    "# \"Binarising\" the classes\n",
    "movies.sentiment > 0"
   ]
  },
  {
   "cell_type": "markdown",
   "metadata": {
    "id": "LwQ_hZEmDiar"
   },
   "source": [
    "Now we can train (\"fit\") our model"
   ]
  },
  {
   "cell_type": "code",
   "execution_count": null,
   "metadata": {
    "id": "DkaG5fTdDiar"
   },
   "outputs": [],
   "source": [
    "# We are converting the class from float to Boolean, \n",
    "# as this classifier only supports discrete labels \n",
    "nb = nb.fit(df_bows, movies.sentiment > 0)"
   ]
  },
  {
   "cell_type": "markdown",
   "metadata": {
    "id": "gtOrrSqADiar"
   },
   "source": [
    "### We have a model and we can predict!"
   ]
  },
  {
   "cell_type": "code",
   "execution_count": null,
   "metadata": {
    "id": "zmdvwdQoDias"
   },
   "outputs": [],
   "source": [
    "# predict_proba() gets continious-value predictions.\n",
    "# We multiply and subtract it to convert the output to range [-4,4]\n",
    "\n",
    "#print(predictions[:10])\n",
    "# TODO there seems to be an error in th ebook code. \n",
    "# predict_proba returns the scores for all the classes (2) and we aim at\n",
    "# assigning only the one for the positive class. \n",
    "# I had to to the following trick instead of the original\n",
    "# movies['predicted_sentiment'] = nb.predict(df_bows) * 8 - 4\n",
    "predictions = nb.predict_proba(df_bows) * 8 - 4 \n",
    "movies['predicted_sentiment'] = [x[1] for x in predictions]\n",
    "\n",
    "movies"
   ]
  },
  {
   "cell_type": "markdown",
   "metadata": {
    "id": "Js3TVM6sDiat"
   },
   "source": [
    "Now, we compute the Mean Absolut Error (MAE) \"a measure of difference between two continuous variables\""
   ]
  },
  {
   "cell_type": "code",
   "execution_count": null,
   "metadata": {
    "colab": {
     "base_uri": "https://localhost:8080/"
    },
    "id": "EZEBytu4Diat",
    "outputId": "a049fecc-171a-407e-c62f-98061f93fd35"
   },
   "outputs": [],
   "source": [
    "movies['error'] = (movies.predicted_sentiment - movies.sentiment).abs()\n",
    "# This is the mean absolute error (MAE)\n",
    "round(movies.error.mean(), 2)"
   ]
  },
  {
   "cell_type": "code",
   "execution_count": null,
   "metadata": {
    "id": "BYADj2RAEz0L"
   },
   "outputs": [],
   "source": [
    "# abs(n)\n",
    "\n",
    "# abs(5) -> 5\n",
    "# abs(-34) -> 34\n",
    "# abs(0) -> 0"
   ]
  },
  {
   "cell_type": "markdown",
   "metadata": {
    "id": "LrXXp1ozDiau"
   },
   "source": [
    "Now, let us see some gold and predicted sentiments, together with the binary classification"
   ]
  },
  {
   "cell_type": "code",
   "execution_count": null,
   "metadata": {
    "id": "PALMjqNSDiau"
   },
   "outputs": [],
   "source": [
    "# Gold standard is positive\n",
    "movies['sentiment_ispositive'] = (movies.sentiment > 0).astype(int)\n",
    "\n",
    "# Prediction is positive\n",
    "movies['predicted_ispositive'] = (movies.predicted_sentiment > 0).astype(int)\n",
    "\n",
    "# Let us have an overview of gold standard vs prediction\n",
    "movies['''sentiment predicted_sentiment sentiment_ispositive predicted_ispositive'''.split()].head(8)"
   ]
  },
  {
   "cell_type": "code",
   "execution_count": null,
   "metadata": {
    "id": "Xr05Vwv6Diau"
   },
   "outputs": [],
   "source": [
    "# And this is the percentage of \"thumbs up\" rating correctly predicted    \n",
    "(movies.predicted_ispositive == movies.sentiment_ispositive).sum() / len(movies)\n"
   ]
  },
  {
   "cell_type": "markdown",
   "metadata": {
    "id": "DW9yBVYqDiav"
   },
   "source": [
    "## not bad at all!"
   ]
  }
 ],
 "metadata": {
  "colab": {
   "collapsed_sections": [],
   "name": "04_dit_coli_naivebayes.ipynb",
   "provenance": []
  },
  "kernelspec": {
   "display_name": "Python 3",
   "language": "python",
   "name": "python3"
  },
  "language_info": {
   "codemirror_mode": {
    "name": "ipython",
    "version": 3
   },
   "file_extension": ".py",
   "mimetype": "text/x-python",
   "name": "python",
   "nbconvert_exporter": "python",
   "pygments_lexer": "ipython3",
   "version": "3.8.3"
  }
 },
 "nbformat": 4,
 "nbformat_minor": 1
}
