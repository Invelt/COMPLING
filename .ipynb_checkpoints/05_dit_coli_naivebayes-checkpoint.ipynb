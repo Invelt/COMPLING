{
 "cells": [
  {
   "cell_type": "markdown",
   "metadata": {
    "id": "93iGB2PMDiaa"
   },
   "source": [
    "# Introducing the Naive Bayes Classifier\n",
    "\n",
    "Now we will use annotated data to \"learn\" a sentiment classifier"
   ]
  },
  {
   "cell_type": "code",
   "execution_count": 5,
   "metadata": {
    "id": "-sX590NpDiab"
   },
   "outputs": [
    {
     "name": "stdout",
     "output_type": "stream",
     "text": [
      "Requirement already satisfied: nlpia in c:\\users\\paolo\\appdata\\local\\programs\\python\\python310\\lib\\site-packages (0.5.2)\n",
      "Requirement already satisfied: h5py in c:\\users\\paolo\\appdata\\local\\programs\\python\\python310\\lib\\site-packages (from nlpia) (3.6.0)\n",
      "Requirement already satisfied: python-Levenshtein in c:\\users\\paolo\\appdata\\local\\programs\\python\\python310\\lib\\site-packages (from nlpia) (0.12.2)\n",
      "Requirement already satisfied: pypandoc in c:\\users\\paolo\\appdata\\local\\programs\\python\\python310\\lib\\site-packages (from nlpia) (1.7.4)\n",
      "Requirement already satisfied: seaborn in c:\\users\\paolo\\appdata\\local\\programs\\python\\python310\\lib\\site-packages (from nlpia) (0.11.2)\n",
      "Requirement already satisfied: keras in c:\\users\\paolo\\appdata\\local\\programs\\python\\python310\\lib\\site-packages (from nlpia) (2.8.0)\n",
      "Requirement already satisfied: regex in c:\\users\\paolo\\appdata\\roaming\\python\\python310\\site-packages (from nlpia) (2022.1.18)\n",
      "Requirement already satisfied: html5lib in c:\\users\\paolo\\appdata\\local\\programs\\python\\python310\\lib\\site-packages (from nlpia) (1.1)\n",
      "Requirement already satisfied: nltk in c:\\users\\paolo\\appdata\\roaming\\python\\python310\\site-packages (from nlpia) (3.7)\n",
      "Requirement already satisfied: pandas-datareader in c:\\users\\paolo\\appdata\\local\\programs\\python\\python310\\lib\\site-packages (from nlpia) (0.10.0)\n",
      "Requirement already satisfied: plotly in c:\\users\\paolo\\appdata\\local\\programs\\python\\python310\\lib\\site-packages (from nlpia) (5.6.0)\n",
      "Requirement already satisfied: html2text in c:\\users\\paolo\\appdata\\local\\programs\\python\\python310\\lib\\site-packages (from nlpia) (2020.1.16)\n",
      "Requirement already satisfied: jupyter in c:\\users\\paolo\\appdata\\local\\programs\\python\\python310\\lib\\site-packages (from nlpia) (1.0.0)\n"
     ]
    },
    {
     "name": "stderr",
     "output_type": "stream",
     "text": [
      "WARNING: You are using pip version 22.0.3; however, version 22.0.4 is available.\n",
      "You should consider upgrading via the 'C:\\Users\\paolo\\AppData\\Local\\Programs\\Python\\Python310\\python.exe -m pip install --upgrade pip' command.\n"
     ]
    },
    {
     "name": "stdout",
     "output_type": "stream",
     "text": [
      "Requirement already satisfied: tqdm in c:\\users\\paolo\\appdata\\roaming\\python\\python310\\site-packages (from nlpia) (4.62.3)\n",
      "Requirement already satisfied: spacy in c:\\users\\paolo\\appdata\\local\\programs\\python\\python310\\lib\\site-packages (from nlpia) (3.2.4)\n",
      "Requirement already satisfied: lxml in c:\\users\\paolo\\appdata\\local\\programs\\python\\python310\\lib\\site-packages (from nlpia) (4.8.0)\n",
      "Requirement already satisfied: future in c:\\users\\paolo\\appdata\\local\\programs\\python\\python310\\lib\\site-packages (from nlpia) (0.18.2)\n",
      "Requirement already satisfied: pandas in c:\\users\\paolo\\appdata\\local\\programs\\python\\python310\\lib\\site-packages (from nlpia) (1.4.1)\n",
      "Requirement already satisfied: scikit-learn in c:\\users\\paolo\\appdata\\local\\programs\\python\\python310\\lib\\site-packages (from nlpia) (1.0.2)\n",
      "Requirement already satisfied: tensorflow in c:\\users\\paolo\\appdata\\local\\programs\\python\\python310\\lib\\site-packages (from nlpia) (2.8.0)\n",
      "Requirement already satisfied: gensim in c:\\users\\paolo\\appdata\\local\\programs\\python\\python310\\lib\\site-packages\\gensim-4.1.2-py3.10-win-amd64.egg (from nlpia) (4.1.2)\n",
      "Requirement already satisfied: pugnlp in c:\\users\\paolo\\appdata\\local\\programs\\python\\python310\\lib\\site-packages (from nlpia) (0.2.6)\n",
      "Requirement already satisfied: matplotlib in c:\\users\\paolo\\appdata\\local\\programs\\python\\python310\\lib\\site-packages (from nlpia) (3.5.1)\n",
      "Requirement already satisfied: numpy>=1.17.0 in c:\\users\\paolo\\appdata\\roaming\\python\\python310\\site-packages (from gensim->nlpia) (1.22.3)\n",
      "Requirement already satisfied: scipy>=0.18.1 in c:\\users\\paolo\\appdata\\local\\programs\\python\\python310\\lib\\site-packages (from gensim->nlpia) (1.8.0)\n",
      "Requirement already satisfied: smart_open>=1.8.1 in c:\\users\\paolo\\appdata\\local\\programs\\python\\python310\\lib\\site-packages (from gensim->nlpia) (5.2.1)\n",
      "Requirement already satisfied: six>=1.9 in c:\\users\\paolo\\appdata\\local\\programs\\python\\python310\\lib\\site-packages (from html5lib->nlpia) (1.16.0)\n",
      "Requirement already satisfied: webencodings in c:\\users\\paolo\\appdata\\local\\programs\\python\\python310\\lib\\site-packages (from html5lib->nlpia) (0.5.1)\n",
      "Requirement already satisfied: nbconvert in c:\\users\\paolo\\appdata\\local\\programs\\python\\python310\\lib\\site-packages (from jupyter->nlpia) (6.4.2)\n",
      "Requirement already satisfied: ipykernel in c:\\users\\paolo\\appdata\\local\\programs\\python\\python310\\lib\\site-packages (from jupyter->nlpia) (6.9.1)\n",
      "Requirement already satisfied: notebook in c:\\users\\paolo\\appdata\\local\\programs\\python\\python310\\lib\\site-packages (from jupyter->nlpia) (6.4.8)\n",
      "Requirement already satisfied: qtconsole in c:\\users\\paolo\\appdata\\local\\programs\\python\\python310\\lib\\site-packages (from jupyter->nlpia) (5.3.0)\n",
      "Requirement already satisfied: jupyter-console in c:\\users\\paolo\\appdata\\local\\programs\\python\\python310\\lib\\site-packages (from jupyter->nlpia) (6.4.3)\n",
      "Requirement already satisfied: ipywidgets in c:\\users\\paolo\\appdata\\local\\programs\\python\\python310\\lib\\site-packages (from jupyter->nlpia) (7.7.0)\n",
      "Requirement already satisfied: pillow>=6.2.0 in c:\\users\\paolo\\appdata\\local\\programs\\python\\python310\\lib\\site-packages (from matplotlib->nlpia) (9.0.1)\n",
      "Requirement already satisfied: pyparsing>=2.2.1 in c:\\users\\paolo\\appdata\\local\\programs\\python\\python310\\lib\\site-packages (from matplotlib->nlpia) (3.0.7)\n",
      "Requirement already satisfied: python-dateutil>=2.7 in c:\\users\\paolo\\appdata\\local\\programs\\python\\python310\\lib\\site-packages (from matplotlib->nlpia) (2.8.2)\n",
      "Requirement already satisfied: fonttools>=4.22.0 in c:\\users\\paolo\\appdata\\local\\programs\\python\\python310\\lib\\site-packages (from matplotlib->nlpia) (4.31.2)\n",
      "Requirement already satisfied: cycler>=0.10 in c:\\users\\paolo\\appdata\\local\\programs\\python\\python310\\lib\\site-packages (from matplotlib->nlpia) (0.11.0)\n",
      "Requirement already satisfied: packaging>=20.0 in c:\\users\\paolo\\appdata\\local\\programs\\python\\python310\\lib\\site-packages (from matplotlib->nlpia) (21.3)\n",
      "Requirement already satisfied: kiwisolver>=1.0.1 in c:\\users\\paolo\\appdata\\local\\programs\\python\\python310\\lib\\site-packages (from matplotlib->nlpia) (1.4.2)\n",
      "Requirement already satisfied: joblib in c:\\users\\paolo\\appdata\\roaming\\python\\python310\\site-packages (from nltk->nlpia) (1.1.0)\n",
      "Requirement already satisfied: click in c:\\users\\paolo\\appdata\\roaming\\python\\python310\\site-packages (from nltk->nlpia) (8.0.4)\n",
      "Requirement already satisfied: pytz>=2020.1 in c:\\users\\paolo\\appdata\\local\\programs\\python\\python310\\lib\\site-packages (from pandas->nlpia) (2021.3)\n",
      "Requirement already satisfied: requests>=2.19.0 in c:\\users\\paolo\\appdata\\local\\programs\\python\\python310\\lib\\site-packages (from pandas-datareader->nlpia) (2.27.1)\n",
      "Requirement already satisfied: tenacity>=6.2.0 in c:\\users\\paolo\\appdata\\local\\programs\\python\\python310\\lib\\site-packages (from plotly->nlpia) (8.0.1)\n",
      "Requirement already satisfied: wheel in c:\\users\\paolo\\appdata\\local\\programs\\python\\python310\\lib\\site-packages (from pugnlp->nlpia) (0.37.1)\n",
      "Requirement already satisfied: pip in c:\\users\\paolo\\appdata\\local\\programs\\python\\python310\\lib\\site-packages (from pugnlp->nlpia) (22.0.3)\n",
      "Requirement already satisfied: python-slugify in c:\\users\\paolo\\appdata\\local\\programs\\python\\python310\\lib\\site-packages (from pugnlp->nlpia) (6.1.1)\n",
      "Requirement already satisfied: fuzzywuzzy in c:\\users\\paolo\\appdata\\local\\programs\\python\\python310\\lib\\site-packages (from pugnlp->nlpia) (0.18.0)\n",
      "Requirement already satisfied: coverage in c:\\users\\paolo\\appdata\\local\\programs\\python\\python310\\lib\\site-packages (from pugnlp->nlpia) (6.3.2)\n",
      "Requirement already satisfied: setuptools in c:\\users\\paolo\\appdata\\local\\programs\\python\\python310\\lib\\site-packages (from python-Levenshtein->nlpia) (60.9.3)\n",
      "Requirement already satisfied: threadpoolctl>=2.0.0 in c:\\users\\paolo\\appdata\\local\\programs\\python\\python310\\lib\\site-packages (from scikit-learn->nlpia) (3.1.0)\n",
      "Requirement already satisfied: jinja2 in c:\\users\\paolo\\appdata\\local\\programs\\python\\python310\\lib\\site-packages (from spacy->nlpia) (3.0.3)\n",
      "Requirement already satisfied: pydantic!=1.8,!=1.8.1,<1.9.0,>=1.7.4 in c:\\users\\paolo\\appdata\\local\\programs\\python\\python310\\lib\\site-packages (from spacy->nlpia) (1.8.2)\n",
      "Requirement already satisfied: langcodes<4.0.0,>=3.2.0 in c:\\users\\paolo\\appdata\\local\\programs\\python\\python310\\lib\\site-packages (from spacy->nlpia) (3.3.0)\n",
      "Requirement already satisfied: srsly<3.0.0,>=2.4.1 in c:\\users\\paolo\\appdata\\local\\programs\\python\\python310\\lib\\site-packages (from spacy->nlpia) (2.4.2)\n",
      "Requirement already satisfied: thinc<8.1.0,>=8.0.12 in c:\\users\\paolo\\appdata\\local\\programs\\python\\python310\\lib\\site-packages (from spacy->nlpia) (8.0.15)\n",
      "Requirement already satisfied: wasabi<1.1.0,>=0.8.1 in c:\\users\\paolo\\appdata\\local\\programs\\python\\python310\\lib\\site-packages (from spacy->nlpia) (0.9.0)\n",
      "Requirement already satisfied: blis<0.8.0,>=0.4.0 in c:\\users\\paolo\\appdata\\local\\programs\\python\\python310\\lib\\site-packages (from spacy->nlpia) (0.7.7)\n",
      "Requirement already satisfied: spacy-loggers<2.0.0,>=1.0.0 in c:\\users\\paolo\\appdata\\local\\programs\\python\\python310\\lib\\site-packages (from spacy->nlpia) (1.0.1)\n",
      "Requirement already satisfied: pathy>=0.3.5 in c:\\users\\paolo\\appdata\\local\\programs\\python\\python310\\lib\\site-packages (from spacy->nlpia) (0.6.1)\n",
      "Requirement already satisfied: murmurhash<1.1.0,>=0.28.0 in c:\\users\\paolo\\appdata\\local\\programs\\python\\python310\\lib\\site-packages (from spacy->nlpia) (1.0.6)\n",
      "Requirement already satisfied: preshed<3.1.0,>=3.0.2 in c:\\users\\paolo\\appdata\\local\\programs\\python\\python310\\lib\\site-packages (from spacy->nlpia) (3.0.6)\n",
      "Requirement already satisfied: spacy-legacy<3.1.0,>=3.0.8 in c:\\users\\paolo\\appdata\\local\\programs\\python\\python310\\lib\\site-packages (from spacy->nlpia) (3.0.9)\n",
      "Requirement already satisfied: catalogue<2.1.0,>=2.0.6 in c:\\users\\paolo\\appdata\\local\\programs\\python\\python310\\lib\\site-packages (from spacy->nlpia) (2.0.7)\n",
      "Requirement already satisfied: cymem<2.1.0,>=2.0.2 in c:\\users\\paolo\\appdata\\local\\programs\\python\\python310\\lib\\site-packages (from spacy->nlpia) (2.0.6)\n",
      "Requirement already satisfied: typer<0.5.0,>=0.3.0 in c:\\users\\paolo\\appdata\\local\\programs\\python\\python310\\lib\\site-packages (from spacy->nlpia) (0.4.1)\n",
      "Requirement already satisfied: colorama in c:\\users\\paolo\\appdata\\roaming\\python\\python310\\site-packages (from tqdm->nlpia) (0.4.4)\n",
      "Requirement already satisfied: absl-py>=0.4.0 in c:\\users\\paolo\\appdata\\local\\programs\\python\\python310\\lib\\site-packages (from tensorflow->nlpia) (1.0.0)\n",
      "Requirement already satisfied: opt-einsum>=2.3.2 in c:\\users\\paolo\\appdata\\local\\programs\\python\\python310\\lib\\site-packages (from tensorflow->nlpia) (3.3.0)\n",
      "Requirement already satisfied: protobuf>=3.9.2 in c:\\users\\paolo\\appdata\\local\\programs\\python\\python310\\lib\\site-packages (from tensorflow->nlpia) (3.19.4)\n",
      "Requirement already satisfied: google-pasta>=0.1.1 in c:\\users\\paolo\\appdata\\local\\programs\\python\\python310\\lib\\site-packages (from tensorflow->nlpia) (0.2.0)\n",
      "Requirement already satisfied: keras-preprocessing>=1.1.1 in c:\\users\\paolo\\appdata\\local\\programs\\python\\python310\\lib\\site-packages (from tensorflow->nlpia) (1.1.2)\n",
      "Requirement already satisfied: libclang>=9.0.1 in c:\\users\\paolo\\appdata\\local\\programs\\python\\python310\\lib\\site-packages (from tensorflow->nlpia) (13.0.0)\n",
      "Requirement already satisfied: astunparse>=1.6.0 in c:\\users\\paolo\\appdata\\local\\programs\\python\\python310\\lib\\site-packages (from tensorflow->nlpia) (1.6.3)\n",
      "Requirement already satisfied: grpcio<2.0,>=1.24.3 in c:\\users\\paolo\\appdata\\local\\programs\\python\\python310\\lib\\site-packages (from tensorflow->nlpia) (1.44.0)\n",
      "Requirement already satisfied: tf-estimator-nightly==2.8.0.dev2021122109 in c:\\users\\paolo\\appdata\\local\\programs\\python\\python310\\lib\\site-packages (from tensorflow->nlpia) (2.8.0.dev2021122109)\n"
     ]
    },
    {
     "name": "stdout",
     "output_type": "stream",
     "text": [
      "Requirement already satisfied: termcolor>=1.1.0 in c:\\users\\paolo\\appdata\\local\\programs\\python\\python310\\lib\\site-packages (from tensorflow->nlpia) (1.1.0)\n",
      "Requirement already satisfied: tensorflow-io-gcs-filesystem>=0.23.1 in c:\\users\\paolo\\appdata\\local\\programs\\python\\python310\\lib\\site-packages (from tensorflow->nlpia) (0.24.0)\n",
      "Requirement already satisfied: typing-extensions>=3.6.6 in c:\\users\\paolo\\appdata\\local\\programs\\python\\python310\\lib\\site-packages (from tensorflow->nlpia) (4.1.1)\n",
      "Requirement already satisfied: gast>=0.2.1 in c:\\users\\paolo\\appdata\\local\\programs\\python\\python310\\lib\\site-packages (from tensorflow->nlpia) (0.5.3)\n",
      "Requirement already satisfied: wrapt>=1.11.0 in c:\\users\\paolo\\appdata\\local\\programs\\python\\python310\\lib\\site-packages (from tensorflow->nlpia) (1.13.3)\n",
      "Requirement already satisfied: flatbuffers>=1.12 in c:\\users\\paolo\\appdata\\local\\programs\\python\\python310\\lib\\site-packages (from tensorflow->nlpia) (2.0)\n",
      "Requirement already satisfied: tensorboard<2.9,>=2.8 in c:\\users\\paolo\\appdata\\local\\programs\\python\\python310\\lib\\site-packages (from tensorflow->nlpia) (2.8.0)\n",
      "Requirement already satisfied: urllib3<1.27,>=1.21.1 in c:\\users\\paolo\\appdata\\local\\programs\\python\\python310\\lib\\site-packages (from requests>=2.19.0->pandas-datareader->nlpia) (1.26.8)\n",
      "Requirement already satisfied: certifi>=2017.4.17 in c:\\users\\paolo\\appdata\\local\\programs\\python\\python310\\lib\\site-packages (from requests>=2.19.0->pandas-datareader->nlpia) (2021.10.8)\n",
      "Requirement already satisfied: charset-normalizer~=2.0.0 in c:\\users\\paolo\\appdata\\local\\programs\\python\\python310\\lib\\site-packages (from requests>=2.19.0->pandas-datareader->nlpia) (2.0.12)\n",
      "Requirement already satisfied: idna<4,>=2.5 in c:\\users\\paolo\\appdata\\local\\programs\\python\\python310\\lib\\site-packages (from requests>=2.19.0->pandas-datareader->nlpia) (3.3)\n",
      "Requirement already satisfied: werkzeug>=0.11.15 in c:\\users\\paolo\\appdata\\local\\programs\\python\\python310\\lib\\site-packages (from tensorboard<2.9,>=2.8->tensorflow->nlpia) (2.0.3)\n",
      "Requirement already satisfied: tensorboard-data-server<0.7.0,>=0.6.0 in c:\\users\\paolo\\appdata\\local\\programs\\python\\python310\\lib\\site-packages (from tensorboard<2.9,>=2.8->tensorflow->nlpia) (0.6.1)\n",
      "Requirement already satisfied: google-auth<3,>=1.6.3 in c:\\users\\paolo\\appdata\\local\\programs\\python\\python310\\lib\\site-packages (from tensorboard<2.9,>=2.8->tensorflow->nlpia) (2.6.2)\n",
      "Requirement already satisfied: google-auth-oauthlib<0.5,>=0.4.1 in c:\\users\\paolo\\appdata\\local\\programs\\python\\python310\\lib\\site-packages (from tensorboard<2.9,>=2.8->tensorflow->nlpia) (0.4.6)\n",
      "Requirement already satisfied: tensorboard-plugin-wit>=1.6.0 in c:\\users\\paolo\\appdata\\local\\programs\\python\\python310\\lib\\site-packages (from tensorboard<2.9,>=2.8->tensorflow->nlpia) (1.8.1)\n",
      "Requirement already satisfied: markdown>=2.6.8 in c:\\users\\paolo\\appdata\\local\\programs\\python\\python310\\lib\\site-packages (from tensorboard<2.9,>=2.8->tensorflow->nlpia) (3.3.6)\n",
      "Requirement already satisfied: nest-asyncio in c:\\users\\paolo\\appdata\\local\\programs\\python\\python310\\lib\\site-packages (from ipykernel->jupyter->nlpia) (1.5.4)\n",
      "Requirement already satisfied: matplotlib-inline<0.2.0,>=0.1.0 in c:\\users\\paolo\\appdata\\local\\programs\\python\\python310\\lib\\site-packages (from ipykernel->jupyter->nlpia) (0.1.3)\n",
      "Requirement already satisfied: debugpy<2.0,>=1.0.0 in c:\\users\\paolo\\appdata\\local\\programs\\python\\python310\\lib\\site-packages (from ipykernel->jupyter->nlpia) (1.5.1)\n",
      "Requirement already satisfied: tornado<7.0,>=4.2 in c:\\users\\paolo\\appdata\\local\\programs\\python\\python310\\lib\\site-packages (from ipykernel->jupyter->nlpia) (6.1)\n",
      "Requirement already satisfied: jupyter-client<8.0 in c:\\users\\paolo\\appdata\\local\\programs\\python\\python310\\lib\\site-packages (from ipykernel->jupyter->nlpia) (7.1.2)\n",
      "Requirement already satisfied: traitlets<6.0,>=5.1.0 in c:\\users\\paolo\\appdata\\local\\programs\\python\\python310\\lib\\site-packages (from ipykernel->jupyter->nlpia) (5.1.1)\n",
      "Requirement already satisfied: ipython>=7.23.1 in c:\\users\\paolo\\appdata\\local\\programs\\python\\python310\\lib\\site-packages (from ipykernel->jupyter->nlpia) (8.1.0)\n",
      "Requirement already satisfied: widgetsnbextension~=3.6.0 in c:\\users\\paolo\\appdata\\local\\programs\\python\\python310\\lib\\site-packages (from ipywidgets->jupyter->nlpia) (3.6.0)\n",
      "Requirement already satisfied: nbformat>=4.2.0 in c:\\users\\paolo\\appdata\\local\\programs\\python\\python310\\lib\\site-packages (from ipywidgets->jupyter->nlpia) (5.1.3)\n",
      "Requirement already satisfied: ipython-genutils~=0.2.0 in c:\\users\\paolo\\appdata\\local\\programs\\python\\python310\\lib\\site-packages (from ipywidgets->jupyter->nlpia) (0.2.0)\n",
      "Requirement already satisfied: jupyterlab-widgets>=1.0.0 in c:\\users\\paolo\\appdata\\local\\programs\\python\\python310\\lib\\site-packages (from ipywidgets->jupyter->nlpia) (1.1.0)\n",
      "Requirement already satisfied: MarkupSafe>=2.0 in c:\\users\\paolo\\appdata\\local\\programs\\python\\python310\\lib\\site-packages (from jinja2->spacy->nlpia) (2.1.0)\n",
      "Requirement already satisfied: pygments in c:\\users\\paolo\\appdata\\local\\programs\\python\\python310\\lib\\site-packages (from jupyter-console->jupyter->nlpia) (2.11.2)\n",
      "Requirement already satisfied: prompt-toolkit!=3.0.0,!=3.0.1,<3.1.0,>=2.0.0 in c:\\users\\paolo\\appdata\\local\\programs\\python\\python310\\lib\\site-packages (from jupyter-console->jupyter->nlpia) (3.0.28)\n",
      "Requirement already satisfied: entrypoints>=0.2.2 in c:\\users\\paolo\\appdata\\local\\programs\\python\\python310\\lib\\site-packages (from nbconvert->jupyter->nlpia) (0.4)\n",
      "Requirement already satisfied: mistune<2,>=0.8.1 in c:\\users\\paolo\\appdata\\local\\programs\\python\\python310\\lib\\site-packages (from nbconvert->jupyter->nlpia) (0.8.4)\n",
      "Requirement already satisfied: bleach in c:\\users\\paolo\\appdata\\local\\programs\\python\\python310\\lib\\site-packages (from nbconvert->jupyter->nlpia) (4.1.0)\n",
      "Requirement already satisfied: testpath in c:\\users\\paolo\\appdata\\local\\programs\\python\\python310\\lib\\site-packages (from nbconvert->jupyter->nlpia) (0.6.0)\n",
      "Requirement already satisfied: pandocfilters>=1.4.1 in c:\\users\\paolo\\appdata\\local\\programs\\python\\python310\\lib\\site-packages (from nbconvert->jupyter->nlpia) (1.5.0)\n",
      "Requirement already satisfied: nbclient<0.6.0,>=0.5.0 in c:\\users\\paolo\\appdata\\local\\programs\\python\\python310\\lib\\site-packages (from nbconvert->jupyter->nlpia) (0.5.11)\n",
      "Requirement already satisfied: jupyter-core in c:\\users\\paolo\\appdata\\local\\programs\\python\\python310\\lib\\site-packages (from nbconvert->jupyter->nlpia) (4.9.2)\n",
      "Requirement already satisfied: jupyterlab-pygments in c:\\users\\paolo\\appdata\\local\\programs\\python\\python310\\lib\\site-packages (from nbconvert->jupyter->nlpia) (0.1.2)\n",
      "Requirement already satisfied: defusedxml in c:\\users\\paolo\\appdata\\local\\programs\\python\\python310\\lib\\site-packages (from nbconvert->jupyter->nlpia) (0.7.1)\n",
      "Requirement already satisfied: argon2-cffi in c:\\users\\paolo\\appdata\\local\\programs\\python\\python310\\lib\\site-packages (from notebook->jupyter->nlpia) (21.3.0)\n",
      "Requirement already satisfied: Send2Trash>=1.8.0 in c:\\users\\paolo\\appdata\\local\\programs\\python\\python310\\lib\\site-packages (from notebook->jupyter->nlpia) (1.8.0)\n",
      "Requirement already satisfied: pyzmq>=17 in c:\\users\\paolo\\appdata\\local\\programs\\python\\python310\\lib\\site-packages (from notebook->jupyter->nlpia) (22.3.0)\n",
      "Requirement already satisfied: prometheus-client in c:\\users\\paolo\\appdata\\local\\programs\\python\\python310\\lib\\site-packages (from notebook->jupyter->nlpia) (0.13.1)\n",
      "Requirement already satisfied: terminado>=0.8.3 in c:\\users\\paolo\\appdata\\local\\programs\\python\\python310\\lib\\site-packages (from notebook->jupyter->nlpia) (0.13.1)\n",
      "Requirement already satisfied: text-unidecode>=1.3 in c:\\users\\paolo\\appdata\\local\\programs\\python\\python310\\lib\\site-packages (from python-slugify->pugnlp->nlpia) (1.3)\n",
      "Requirement already satisfied: qtpy>=2.0.1 in c:\\users\\paolo\\appdata\\local\\programs\\python\\python310\\lib\\site-packages (from qtconsole->jupyter->nlpia) (2.0.1)\n",
      "Requirement already satisfied: cachetools<6.0,>=2.0.0 in c:\\users\\paolo\\appdata\\local\\programs\\python\\python310\\lib\\site-packages (from google-auth<3,>=1.6.3->tensorboard<2.9,>=2.8->tensorflow->nlpia) (5.0.0)\n",
      "Requirement already satisfied: rsa<5,>=3.1.4 in c:\\users\\paolo\\appdata\\local\\programs\\python\\python310\\lib\\site-packages (from google-auth<3,>=1.6.3->tensorboard<2.9,>=2.8->tensorflow->nlpia) (4.8)\n",
      "Requirement already satisfied: pyasn1-modules>=0.2.1 in c:\\users\\paolo\\appdata\\local\\programs\\python\\python310\\lib\\site-packages (from google-auth<3,>=1.6.3->tensorboard<2.9,>=2.8->tensorflow->nlpia) (0.2.8)\n",
      "Requirement already satisfied: requests-oauthlib>=0.7.0 in c:\\users\\paolo\\appdata\\local\\programs\\python\\python310\\lib\\site-packages (from google-auth-oauthlib<0.5,>=0.4.1->tensorboard<2.9,>=2.8->tensorflow->nlpia) (1.3.1)\n",
      "Requirement already satisfied: jedi>=0.16 in c:\\users\\paolo\\appdata\\local\\programs\\python\\python310\\lib\\site-packages (from ipython>=7.23.1->ipykernel->jupyter->nlpia) (0.18.1)\n",
      "Requirement already satisfied: backcall in c:\\users\\paolo\\appdata\\local\\programs\\python\\python310\\lib\\site-packages (from ipython>=7.23.1->ipykernel->jupyter->nlpia) (0.2.0)\n",
      "Requirement already satisfied: pickleshare in c:\\users\\paolo\\appdata\\local\\programs\\python\\python310\\lib\\site-packages (from ipython>=7.23.1->ipykernel->jupyter->nlpia) (0.7.5)\n",
      "Requirement already satisfied: stack-data in c:\\users\\paolo\\appdata\\local\\programs\\python\\python310\\lib\\site-packages (from ipython>=7.23.1->ipykernel->jupyter->nlpia) (0.2.0)\n",
      "Requirement already satisfied: decorator in c:\\users\\paolo\\appdata\\local\\programs\\python\\python310\\lib\\site-packages (from ipython>=7.23.1->ipykernel->jupyter->nlpia) (5.1.1)\n",
      "Requirement already satisfied: pywin32>=1.0 in c:\\users\\paolo\\appdata\\local\\programs\\python\\python310\\lib\\site-packages (from jupyter-core->nbconvert->jupyter->nlpia) (303)\n",
      "Requirement already satisfied: jsonschema!=2.5.0,>=2.4 in c:\\users\\paolo\\appdata\\local\\programs\\python\\python310\\lib\\site-packages (from nbformat>=4.2.0->ipywidgets->jupyter->nlpia) (4.4.0)\n",
      "Requirement already satisfied: wcwidth in c:\\users\\paolo\\appdata\\local\\programs\\python\\python310\\lib\\site-packages (from prompt-toolkit!=3.0.0,!=3.0.1,<3.1.0,>=2.0.0->jupyter-console->jupyter->nlpia) (0.2.5)\n",
      "Requirement already satisfied: pywinpty>=1.1.0 in c:\\users\\paolo\\appdata\\local\\programs\\python\\python310\\lib\\site-packages (from terminado>=0.8.3->notebook->jupyter->nlpia) (2.0.2)\n",
      "Requirement already satisfied: argon2-cffi-bindings in c:\\users\\paolo\\appdata\\local\\programs\\python\\python310\\lib\\site-packages (from argon2-cffi->notebook->jupyter->nlpia) (21.2.0)\n",
      "Requirement already satisfied: parso<0.9.0,>=0.8.0 in c:\\users\\paolo\\appdata\\local\\programs\\python\\python310\\lib\\site-packages (from jedi>=0.16->ipython>=7.23.1->ipykernel->jupyter->nlpia) (0.8.3)\n",
      "Requirement already satisfied: attrs>=17.4.0 in c:\\users\\paolo\\appdata\\local\\programs\\python\\python310\\lib\\site-packages (from jsonschema!=2.5.0,>=2.4->nbformat>=4.2.0->ipywidgets->jupyter->nlpia) (21.4.0)\n",
      "Requirement already satisfied: pyrsistent!=0.17.0,!=0.17.1,!=0.17.2,>=0.14.0 in c:\\users\\paolo\\appdata\\local\\programs\\python\\python310\\lib\\site-packages (from jsonschema!=2.5.0,>=2.4->nbformat>=4.2.0->ipywidgets->jupyter->nlpia) (0.18.1)\n",
      "Requirement already satisfied: pyasn1<0.5.0,>=0.4.6 in c:\\users\\paolo\\appdata\\local\\programs\\python\\python310\\lib\\site-packages (from pyasn1-modules>=0.2.1->google-auth<3,>=1.6.3->tensorboard<2.9,>=2.8->tensorflow->nlpia) (0.4.8)\n",
      "Requirement already satisfied: oauthlib>=3.0.0 in c:\\users\\paolo\\appdata\\local\\programs\\python\\python310\\lib\\site-packages (from requests-oauthlib>=0.7.0->google-auth-oauthlib<0.5,>=0.4.1->tensorboard<2.9,>=2.8->tensorflow->nlpia) (3.2.0)\n",
      "Requirement already satisfied: cffi>=1.0.1 in c:\\users\\paolo\\appdata\\local\\programs\\python\\python310\\lib\\site-packages (from argon2-cffi-bindings->argon2-cffi->notebook->jupyter->nlpia) (1.15.0)\n",
      "Requirement already satisfied: executing in c:\\users\\paolo\\appdata\\local\\programs\\python\\python310\\lib\\site-packages (from stack-data->ipython>=7.23.1->ipykernel->jupyter->nlpia) (0.8.3)\n",
      "Requirement already satisfied: asttokens in c:\\users\\paolo\\appdata\\local\\programs\\python\\python310\\lib\\site-packages (from stack-data->ipython>=7.23.1->ipykernel->jupyter->nlpia) (2.0.5)\n",
      "Requirement already satisfied: pure-eval in c:\\users\\paolo\\appdata\\local\\programs\\python\\python310\\lib\\site-packages (from stack-data->ipython>=7.23.1->ipykernel->jupyter->nlpia) (0.2.2)\n",
      "Requirement already satisfied: pycparser in c:\\users\\paolo\\appdata\\local\\programs\\python\\python310\\lib\\site-packages (from cffi>=1.0.1->argon2-cffi-bindings->argon2-cffi->notebook->jupyter->nlpia) (2.21)\n"
     ]
    }
   ],
   "source": [
    "# We first install the new dependency: nlpia (03_dit_coli_naivebayes.ipynb)\n",
    "! pip3 install nlpia"
   ]
  },
  {
   "cell_type": "code",
   "execution_count": 18,
   "metadata": {
    "id": "t8ZXWCunDiad"
   },
   "outputs": [
    {
     "ename": "ImportError",
     "evalue": "cannot import name 'Counter' from 'collection' (C:\\Users\\paolo\\AppData\\Local\\Programs\\Python\\Python310\\lib\\site-packages\\collection\\__init__.py)",
     "output_type": "error",
     "traceback": [
      "\u001b[1;31m---------------------------------------------------------------------------\u001b[0m",
      "\u001b[1;31mImportError\u001b[0m                               Traceback (most recent call last)",
      "Input \u001b[1;32mIn [18]\u001b[0m, in \u001b[0;36m<cell line: 4>\u001b[1;34m()\u001b[0m\n\u001b[0;32m      2\u001b[0m \u001b[38;5;28;01mimport\u001b[39;00m \u001b[38;5;21;01mpandas\u001b[39;00m \u001b[38;5;28;01mas\u001b[39;00m \u001b[38;5;21;01mpd\u001b[39;00m\n\u001b[0;32m      3\u001b[0m \u001b[38;5;28;01mfrom\u001b[39;00m \u001b[38;5;21;01mcollections\u001b[39;00m\u001b[38;5;21;01m.\u001b[39;00m\u001b[38;5;21;01mabc\u001b[39;00m \u001b[38;5;28;01mimport\u001b[39;00m Mapping\n\u001b[1;32m----> 4\u001b[0m \u001b[38;5;28;01mfrom\u001b[39;00m \u001b[38;5;21;01mcollection\u001b[39;00m \u001b[38;5;28;01mimport\u001b[39;00m Counter\n\u001b[0;32m      6\u001b[0m \u001b[38;5;28;01mfrom\u001b[39;00m \u001b[38;5;21;01mnlpia\u001b[39;00m\u001b[38;5;21;01m.\u001b[39;00m\u001b[38;5;21;01mdata\u001b[39;00m\u001b[38;5;21;01m.\u001b[39;00m\u001b[38;5;21;01mloaders\u001b[39;00m \u001b[38;5;28;01mimport\u001b[39;00m get_data \n\u001b[0;32m      8\u001b[0m \u001b[38;5;66;03m# The casual tokenizer can handle emoticons, unusual punctuation and slang better than the TreeBank tokenizer\u001b[39;00m\n",
      "\u001b[1;31mImportError\u001b[0m: cannot import name 'Counter' from 'collection' (C:\\Users\\paolo\\AppData\\Local\\Programs\\Python\\Python310\\lib\\site-packages\\collection\\__init__.py)"
     ]
    }
   ],
   "source": [
    "# Loading the dependencies\n",
    "import pandas as pd\n",
    "from collections.abc import Mapping\n",
    "from collection import Counter\n",
    "\n",
    "from nlpia.data.loaders import get_data \n",
    "\n",
    "# The casual tokenizer can handle emoticons, unusual punctuation and slang better than the TreeBank tokenizer\n",
    "from nltk.tokenize import casual_tokenize"
   ]
  },
  {
   "cell_type": "markdown",
   "metadata": {
    "id": "EEEXu6s3Diae"
   },
   "source": [
    "## Setting up the \"corpus\"\n",
    "\n",
    "Loading the movies corpus from Hutto movies"
   ]
  },
  {
   "cell_type": "code",
   "execution_count": 15,
   "metadata": {
    "id": "1MksGSDODiaf"
   },
   "outputs": [
    {
     "ename": "NameError",
     "evalue": "name 'get_data' is not defined",
     "output_type": "error",
     "traceback": [
      "\u001b[1;31m---------------------------------------------------------------------------\u001b[0m",
      "\u001b[1;31mNameError\u001b[0m                                 Traceback (most recent call last)",
      "Input \u001b[1;32mIn [15]\u001b[0m, in \u001b[0;36m<cell line: 1>\u001b[1;34m()\u001b[0m\n\u001b[1;32m----> 1\u001b[0m movies \u001b[38;5;241m=\u001b[39m \u001b[43mget_data\u001b[49m(\u001b[38;5;124m'\u001b[39m\u001b[38;5;124mhutto_movies\u001b[39m\u001b[38;5;124m'\u001b[39m)\n\u001b[0;32m      3\u001b[0m \u001b[38;5;66;03m# Looking at some of the first instances\u001b[39;00m\n\u001b[0;32m      4\u001b[0m movies\u001b[38;5;241m.\u001b[39mhead()\u001b[38;5;241m.\u001b[39mround(\u001b[38;5;241m2\u001b[39m)\n",
      "\u001b[1;31mNameError\u001b[0m: name 'get_data' is not defined"
     ]
    }
   ],
   "source": [
    "movies = get_data('hutto_movies')\n",
    "\n",
    "# Looking at some of the first instances\n",
    "movies.head().round(2)"
   ]
  },
  {
   "cell_type": "markdown",
   "metadata": {
    "id": "rvTU4XVmDiag"
   },
   "source": [
    "### Getting a description of the data (look at the range)"
   ]
  },
  {
   "cell_type": "code",
   "execution_count": null,
   "metadata": {
    "id": "GxQnvm9lDiah"
   },
   "outputs": [],
   "source": [
    "movies.describe().round(2)"
   ]
  },
  {
   "cell_type": "code",
   "execution_count": null,
   "metadata": {
    "id": "xCo9AMhLDiah"
   },
   "outputs": [],
   "source": [
    "# Helps display wide DataFrames in the console, so they look prettier\n",
    "pd.set_option('display.width', 75)\n",
    "movies.sentiment"
   ]
  },
  {
   "cell_type": "markdown",
   "metadata": {
    "id": "M1BsQK-4Diai"
   },
   "source": [
    "### Loading the data into a DataFrame through a list of dictionaries"
   ]
  },
  {
   "cell_type": "code",
   "execution_count": null,
   "metadata": {
    "id": "GpeFR1i6Diaj"
   },
   "outputs": [],
   "source": [
    "bags_of_words = []\n",
    "\n",
    "for text in movies.text:\n",
    "    bags_of_words.append(Counter(casual_tokenize(text)))\n",
    "\n",
    "df_bows = pd.DataFrame.from_records(bags_of_words)\n",
    "\n",
    "# from_records() is a DataFrame constructor.\n",
    "# INPUT: a sequence (list) of dictionaries\n",
    "# OUTPUT: a DF with columns for all the keys and associated values. \n",
    "# (Missing values become NaN!)\n",
    "print(df_bows)"
   ]
  },
  {
   "cell_type": "code",
   "execution_count": null,
   "metadata": {
    "id": "cU1Hv7K1Diak"
   },
   "outputs": [],
   "source": [
    "# So we fill them with 0:\n",
    "df_bows = df_bows.fillna(0).astype(int)\n",
    "print(df_bows)"
   ]
  },
  {
   "cell_type": "markdown",
   "metadata": {
    "id": "uX3jwWktDian"
   },
   "source": [
    "### Let us look at the shape\n",
    "\n",
    "Spoiler: A BoW can explode in size; even more when no normalisation is applied at all\n"
   ]
  },
  {
   "cell_type": "code",
   "execution_count": null,
   "metadata": {
    "id": "xKu4rVYyDian"
   },
   "outputs": [],
   "source": [
    "df_bows.shape"
   ]
  },
  {
   "cell_type": "markdown",
   "metadata": {
    "id": "O54rsOArDiao"
   },
   "source": [
    "Now, let us see the first instances (it is quite sparse)"
   ]
  },
  {
   "cell_type": "code",
   "execution_count": null,
   "metadata": {
    "id": "nu9n3UHGDiao"
   },
   "outputs": [],
   "source": [
    "df_bows.head()"
   ]
  },
  {
   "cell_type": "markdown",
   "metadata": {
    "id": "Awaj-M-oDiap"
   },
   "source": [
    "\n",
    "**Homework**: Integrate the normalisation pipeline (lowercasing, stopwording and stemming or lemmatisation) and see how the dataframe gets affected"
   ]
  },
  {
   "cell_type": "code",
   "execution_count": null,
   "metadata": {
    "id": "LUBDqzFLDiap"
   },
   "outputs": [],
   "source": [
    "# write your code here\n",
    "None"
   ]
  },
  {
   "cell_type": "code",
   "execution_count": null,
   "metadata": {
    "id": "6VMVsj9dDiaq"
   },
   "outputs": [],
   "source": [
    "print(df_bows.head()[list(bags_of_words[0].keys())])\n",
    "print(df_bows.head()[list(bags_of_words[1].keys())])"
   ]
  },
  {
   "cell_type": "markdown",
   "metadata": {
    "id": "_ATeewTDDiaq"
   },
   "source": [
    "### Build the Naive Bayes classifier\n",
    "\n",
    "All the data is now ready. Let us build a Multinomial NB.\n",
    "\n",
    "Multinomial NB is suitable for discrete features (e.g., word counts for text classification). "
   ]
  },
  {
   "cell_type": "code",
   "execution_count": null,
   "metadata": {
    "id": "Z27VwyjsDiaq"
   },
   "outputs": [],
   "source": [
    "from sklearn.naive_bayes import MultinomialNB\n",
    "nb = MultinomialNB()"
   ]
  },
  {
   "cell_type": "code",
   "execution_count": null,
   "metadata": {
    "id": "DhWrv5S3Diar"
   },
   "outputs": [],
   "source": [
    "# \"Binarising\" the classes\n",
    "movies.sentiment > 0"
   ]
  },
  {
   "cell_type": "markdown",
   "metadata": {
    "id": "LwQ_hZEmDiar"
   },
   "source": [
    "Now we can train (\"fit\") our model"
   ]
  },
  {
   "cell_type": "code",
   "execution_count": null,
   "metadata": {
    "id": "DkaG5fTdDiar"
   },
   "outputs": [],
   "source": [
    "# We are converting the class from float to Boolean, \n",
    "# as this classifier only supports discrete labels \n",
    "nb = nb.fit(df_bows, movies.sentiment > 0)"
   ]
  },
  {
   "cell_type": "markdown",
   "metadata": {
    "id": "gtOrrSqADiar"
   },
   "source": [
    "### We have a model and we can predict!"
   ]
  },
  {
   "cell_type": "code",
   "execution_count": null,
   "metadata": {
    "id": "zmdvwdQoDias"
   },
   "outputs": [],
   "source": [
    "# predict_proba() gets continious-value predictions.\n",
    "# We multiply and subtract it to convert the output to range [-4,4]\n",
    "\n",
    "#print(predictions[:10])\n",
    "# TODO there seems to be an error in th ebook code. \n",
    "# predict_proba returns the scores for all the classes (2) and we aim at\n",
    "# assigning only the one for the positive class. \n",
    "# I had to to the following trick instead of the original\n",
    "# movies['predicted_sentiment'] = nb.predict(df_bows) * 8 - 4\n",
    "predictions = nb.predict_proba(df_bows) * 8 - 4 \n",
    "movies['predicted_sentiment'] = [x[1] for x in predictions]\n",
    "\n",
    "movies"
   ]
  },
  {
   "cell_type": "markdown",
   "metadata": {
    "id": "Js3TVM6sDiat"
   },
   "source": [
    "Now, we compute the Mean Absolut Error (MAE) \"a measure of difference between two continuous variables\""
   ]
  },
  {
   "cell_type": "code",
   "execution_count": null,
   "metadata": {
    "colab": {
     "base_uri": "https://localhost:8080/"
    },
    "id": "EZEBytu4Diat",
    "outputId": "a049fecc-171a-407e-c62f-98061f93fd35"
   },
   "outputs": [],
   "source": [
    "movies['error'] = (movies.predicted_sentiment - movies.sentiment).abs()\n",
    "# This is the mean absolute error (MAE)\n",
    "round(movies.error.mean(), 2)"
   ]
  },
  {
   "cell_type": "code",
   "execution_count": null,
   "metadata": {
    "id": "BYADj2RAEz0L"
   },
   "outputs": [],
   "source": [
    "# abs(n)\n",
    "\n",
    "# abs(5) -> 5\n",
    "# abs(-34) -> 34\n",
    "# abs(0) -> 0"
   ]
  },
  {
   "cell_type": "markdown",
   "metadata": {
    "id": "LrXXp1ozDiau"
   },
   "source": [
    "Now, let us see some gold and predicted sentiments, together with the binary classification"
   ]
  },
  {
   "cell_type": "code",
   "execution_count": null,
   "metadata": {
    "id": "PALMjqNSDiau"
   },
   "outputs": [],
   "source": [
    "# Gold standard is positive\n",
    "movies['sentiment_ispositive'] = (movies.sentiment > 0).astype(int)\n",
    "\n",
    "# Prediction is positive\n",
    "movies['predicted_ispositive'] = (movies.predicted_sentiment > 0).astype(int)\n",
    "\n",
    "# Let us have an overview of gold standard vs prediction\n",
    "movies['''sentiment predicted_sentiment sentiment_ispositive predicted_ispositive'''.split()].head(8)"
   ]
  },
  {
   "cell_type": "code",
   "execution_count": null,
   "metadata": {
    "id": "Xr05Vwv6Diau"
   },
   "outputs": [],
   "source": [
    "# And this is the percentage of \"thumbs up\" rating correctly predicted    \n",
    "(movies.predicted_ispositive == movies.sentiment_ispositive).sum() / len(movies)\n"
   ]
  },
  {
   "cell_type": "markdown",
   "metadata": {
    "id": "DW9yBVYqDiav"
   },
   "source": [
    "## not bad at all!"
   ]
  }
 ],
 "metadata": {
  "colab": {
   "collapsed_sections": [],
   "name": "04_dit_coli_naivebayes.ipynb",
   "provenance": []
  },
  "kernelspec": {
   "display_name": "Python 3 (ipykernel)",
   "language": "python",
   "name": "python3"
  },
  "language_info": {
   "codemirror_mode": {
    "name": "ipython",
    "version": 3
   },
   "file_extension": ".py",
   "mimetype": "text/x-python",
   "name": "python",
   "nbconvert_exporter": "python",
   "pygments_lexer": "ipython3",
   "version": "3.10.1"
  }
 },
 "nbformat": 4,
 "nbformat_minor": 1
}
