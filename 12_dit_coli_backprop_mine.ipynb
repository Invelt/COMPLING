{
  "cells": [
    {
      "cell_type": "markdown",
      "metadata": {
        "id": "view-in-github",
        "colab_type": "text"
      },
      "source": [
        "<a href=\"https://colab.research.google.com/github/Invelt/COMPLING/blob/main/12_dit_coli_backprop_mine.ipynb\" target=\"_parent\"><img src=\"https://colab.research.google.com/assets/colab-badge.svg\" alt=\"Open In Colab\"/></a>"
      ]
    },
    {
      "cell_type": "markdown",
      "metadata": {
        "id": "sDcHq_ZPgBBB"
      },
      "source": [
        "# Neural networks\n",
        "\n",
        "We are using Keras. Don't forget to install it (e.g., `pip install keras`)"
      ]
    },
    {
      "cell_type": "code",
      "execution_count": 1,
      "metadata": {
        "colab": {
          "base_uri": "https://localhost:8080/"
        },
        "id": "FG2TpQ9ggBBD",
        "outputId": "687c67f7-e6b4-4cce-cd90-214cb59980ff"
      },
      "outputs": [
        {
          "output_type": "stream",
          "name": "stdout",
          "text": [
            "Requirement already satisfied: keras in /usr/local/lib/python3.7/dist-packages (2.8.0)\n"
          ]
        }
      ],
      "source": [
        "!pip install keras\n",
        "# Importing all the dependencies necessary for this notebook\n",
        "import matplotlib.pyplot as plt\n",
        "from math import e\n",
        "import numpy as np"
      ]
    },
    {
      "cell_type": "code",
      "execution_count": 2,
      "metadata": {
        "colab": {
          "base_uri": "https://localhost:8080/",
          "height": 53
        },
        "id": "e_gd96EygBBE",
        "outputId": "a14e24bf-d32f-4397-f433-859eab4870d2"
      },
      "outputs": [
        {
          "output_type": "stream",
          "name": "stdout",
          "text": [
            "[-10.    -9.99  -9.98 ...   9.97   9.98   9.99]\n"
          ]
        },
        {
          "output_type": "display_data",
          "data": {
            "text/plain": [
              "<Figure size 360x360 with 0 Axes>"
            ]
          },
          "metadata": {}
        }
      ],
      "source": [
        "fig = plt.figure(figsize=(5,5))\n",
        "x = np.arange(-10.0, 10.0, 0.01)\n",
        "print(x)"
      ]
    },
    {
      "cell_type": "code",
      "execution_count": 3,
      "metadata": {
        "colab": {
          "base_uri": "https://localhost:8080/",
          "height": 265
        },
        "id": "hbEcUGUBgBBE",
        "outputId": "6406a498-c1a2-442b-96c9-42da49f91e9d"
      },
      "outputs": [
        {
          "output_type": "display_data",
          "data": {
            "text/plain": [
              "<Figure size 432x288 with 1 Axes>"
            ],
            "image/png": "[encoded data removed]"
          },
          "metadata": {
            "needs_background": "light"
          }
        }
      ],
      "source": [
        "y = 1 / (1 + e**(-x))\n",
        "plt.plot(x, y)\n",
        "plt.axhline(y=0.5, xmin=-10, xmax=10, linestyle=\":\", linewidth=0.5)\n",
        "plt.axvline(x=0, ymin=-10, ymax=10, linestyle=\":\", linewidth=0.5)\n",
        "fig.savefig(\"10_sigmoid.png\")\n",
        "plt.show()"
      ]
    },
    {
      "cell_type": "code",
      "execution_count": 4,
      "metadata": {
        "colab": {
          "base_uri": "https://localhost:8080/"
        },
        "id": "s45Kzc29gBBF",
        "outputId": "afe877ff-76c1-426d-998f-ca28e3a4ef32"
      },
      "outputs": [
        {
          "output_type": "stream",
          "name": "stdout",
          "text": [
            "x: [-10.    -9.99  -9.98 ...   9.97   9.98   9.99]\n",
            "y: [4.53978687e-05 4.58541039e-05 4.63149240e-05 ... 9.99953220e-01\n",
            " 9.99953685e-01 9.99954146e-01]\n"
          ]
        }
      ],
      "source": [
        "#Curious abput what is in x and y?\n",
        "print(\"x:\", x)\n",
        "print(\"y:\", y)"
      ]
    },
    {
      "cell_type": "markdown",
      "metadata": {
        "id": "rNHVoAtXgBBF"
      },
      "source": [
        "Back to the slides"
      ]
    },
    {
      "cell_type": "markdown",
      "metadata": {
        "id": "CFBhygTxgBBG"
      },
      "source": [
        "## Neural network for XOR\n",
        "\n",
        "With non-linear functions and more than one neuron, we can learn more sophisticated functions"
      ]
    },
    {
      "cell_type": "code",
      "execution_count": 7,
      "metadata": {
        "id": "mEPna3NTgBBG"
      },
      "outputs": [],
      "source": [
        "# Base Keras model class\n",
        "from keras.models import Sequential\n",
        "# We want a fully-connected layer of neurons\n",
        "from keras.layers import Dense \n",
        "# Now we have access to activation functions :)\n",
        "from keras.layers import Activation\n",
        "# We use stochastic gradient descent\n",
        "from tensorflow.keras.optimizers import SGD"
      ]
    },
    {
      "cell_type": "code",
      "execution_count": 8,
      "metadata": {
        "colab": {
          "base_uri": "https://localhost:8080/",
          "height": 320
        },
        "id": "NGInERk2gBBH",
        "outputId": "0d8f665a-2053-43e8-f935-48359ca22532"
      },
      "outputs": [
        {
          "output_type": "display_data",
          "data": {
            "text/plain": [
              "<Figure size 360x360 with 1 Axes>"
            ],
            "image/png": "[encoded data removed]"
          },
          "metadata": {
            "needs_background": "light"
          }
        }
      ],
      "source": [
        "# We will see this in a second. Let's scroll down\n",
        "\n",
        "fig = plt.figure(figsize=(5,5))\n",
        "x = np.arange(-10.0, 10.0, 0.01)\n",
        "y = (e**x - e**(-x))/(e**x + e**(-x))\n",
        "plt.plot(x, y)\n",
        "plt.axhline(y=0, xmin=-10, xmax=10, linestyle=\":\", linewidth=0.5)\n",
        "plt.axvline(x=0, ymin=-10, ymax=10, linestyle=\":\", linewidth=0.5)\n",
        "fig.savefig(\"10_tanh.png\")\n",
        "plt.show()"
      ]
    },
    {
      "cell_type": "code",
      "source": [
        "!pip3 install nlpia\n",
        "import pandas as pd\n",
        "\n",
        "from nlpia.data.loaders import get_data\n",
        "\n",
        "# Loading a labeled corpus: spam\n",
        "sms = get_data('sms-spam')\n",
        "print(sms[:-10])\n",
        "\n",
        "# Just setting up the printing properties\n",
        "pd.options.display.width = 120"
      ],
      "metadata": {
        "id": "7HuSPyd9ddlb"
      },
      "execution_count": null,
      "outputs": []
    },
    {
      "cell_type": "code",
      "source": [
        "# For display purposes: spam instances have a \"!\" added to the label\n",
        "index = ['sms{}{}'.format(i, '!'*j) for (i,j) in \\\n",
        "         zip(range(len(sms)), sms.spam)]\n",
        "print(index[:20])"
      ],
      "metadata": {
        "colab": {
          "base_uri": "https://localhost:8080/"
        },
        "id": "D55R0VVvdhyk",
        "outputId": "63a03ae6-bf96-46a7-d498-4778e5dac4b1"
      },
      "execution_count": 19,
      "outputs": [
        {
          "output_type": "stream",
          "name": "stdout",
          "text": [
            "['sms0', 'sms1', 'sms2!', 'sms3', 'sms4', 'sms5!', 'sms6', 'sms7', 'sms8!', 'sms9!', 'sms10', 'sms11!', 'sms12!', 'sms13', 'sms14', 'sms15!', 'sms16', 'sms17', 'sms18', 'sms19!']\n"
          ]
        }
      ]
    },
    {
      "cell_type": "code",
      "source": [
        "# Creating a pandas df, using the data and the new index\n",
        "sms = pd.DataFrame(sms.values, columns=sms.columns, index=index)\n",
        "sms['spam'] = sms.spam.astype(int)\n",
        "print(sms)\n",
        "# len(sms)"
      ],
      "metadata": {
        "colab": {
          "base_uri": "https://localhost:8080/"
        },
        "id": "QlFokVI6dpZd",
        "outputId": "bf31a168-1efb-4096-e835-4c77ababb532"
      },
      "execution_count": 20,
      "outputs": [
        {
          "output_type": "stream",
          "name": "stdout",
          "text": [
            "          spam                                               text\n",
            "sms0         0  Go until jurong point, crazy.. Available only ...\n",
            "sms1         0                      Ok lar... Joking wif u oni...\n",
            "sms2!        1  Free entry in 2 a wkly comp to win FA Cup fina...\n",
            "sms3         0  U dun say so early hor... U c already then say...\n",
            "sms4         0  Nah I don't think he goes to usf, he lives aro...\n",
            "...        ...                                                ...\n",
            "sms4832!     1  This is the 2nd time we have tried 2 contact u...\n",
            "sms4833      0               Will ü b going to esplanade fr home?\n",
            "sms4834      0  Pity, * was in mood for that. So...any other s...\n",
            "sms4835      0  The guy did some bitching but I acted like i'd...\n",
            "sms4836      0                         Rofl. Its true to its name\n",
            "\n",
            "[4837 rows x 2 columns]\n"
          ]
        }
      ]
    },
    {
      "cell_type": "code",
      "source": [
        "# QUESTION: what am I getting with this sum?\n",
        "sms.spam.sum()"
      ],
      "metadata": {
        "colab": {
          "base_uri": "https://localhost:8080/"
        },
        "id": "tmUQXcoLdrvK",
        "outputId": "a8ddbcdd-4ec2-4ab6-b4a1-d74c87da3882"
      },
      "execution_count": 21,
      "outputs": [
        {
          "output_type": "execute_result",
          "data": {
            "text/plain": [
              "638"
            ]
          },
          "metadata": {},
          "execution_count": 21
        }
      ]
    },
    {
      "cell_type": "code",
      "source": [
        "from nltk.tokenize.casual import casual_tokenize\n",
        "from sklearn.feature_extraction.text import TfidfVectorizer\n",
        "\n",
        "# Vectorising the corpus\n",
        "tfidf_model = TfidfVectorizer(tokenizer=casual_tokenize)\n",
        "tfidf_docs = tfidf_model.fit_transform(raw_documents=sms.text).toarray()\n",
        "# QUESTION: what is the number on the right?\n",
        "print(tfidf_docs.shape)\n",
        "print(tfidf_docs)"
      ],
      "metadata": {
        "colab": {
          "base_uri": "https://localhost:8080/"
        },
        "id": "syy8sGXhds2o",
        "outputId": "8b1534c6-0bc2-4404-f718-d8322f38e831"
      },
      "execution_count": 22,
      "outputs": [
        {
          "output_type": "stream",
          "name": "stdout",
          "text": [
            "(4837, 9232)\n",
            "[[0. 0. 0. ... 0. 0. 0.]\n",
            " [0. 0. 0. ... 0. 0. 0.]\n",
            " [0. 0. 0. ... 0. 0. 0.]\n",
            " ...\n",
            " [0. 0. 0. ... 0. 0. 0.]\n",
            " [0. 0. 0. ... 0. 0. 0.]\n",
            " [0. 0. 0. ... 0. 0. 0.]]\n"
          ]
        }
      ]
    },
    {
      "cell_type": "code",
      "source": [
        "# # Instances for XOR\n",
        "# x_train = np.array(\n",
        "#     [[0, 0],\n",
        "#     [0, 1],\n",
        "#     [1, 0],\n",
        "#     [1, 1]])\n",
        "# y_train = np.array(\n",
        "#     [[0],\n",
        "#     [1],\n",
        "#     [1],\n",
        "#     [0]])\n",
        "\n",
        "# Instances for SMS SPAM MESSAGES\n",
        "x_train = tfidf_docs\n",
        "y_train = sms.spam\n",
        "#print(len(sms.spam)) #this is the same len as the number of rows in tfidf_docs\n",
        "\n",
        "# Defining the model\n",
        "model = Sequential()\n",
        "num_neurons = 10\n",
        "\n",
        "# Hidden layer followed with tanh activation function\n",
        "model.add(Dense(num_neurons, input_dim=9232)) #this has to be the size of each element of x_train\n",
        "model.add(Activation('tanh'))\n",
        "\n",
        "# Output layer with one neuron and sigmoid activation function \n",
        "# (let's scroll up and see what is tanh: Hyperbolic tangent of x)\n",
        "model.add(Dense(1))\n",
        "model.add(Activation('sigmoid'))\n",
        "\n",
        "model.summary()\n",
        "# Let's go to the slides"
      ],
      "metadata": {
        "colab": {
          "base_uri": "https://localhost:8080/"
        },
        "id": "LIvwDvNPd8_v",
        "outputId": "5fe8f28a-8859-4d12-f869-7090dba92ca8"
      },
      "execution_count": 27,
      "outputs": [
        {
          "output_type": "stream",
          "name": "stdout",
          "text": [
            "Model: \"sequential_3\"\n",
            "_________________________________________________________________\n",
            " Layer (type)                Output Shape              Param #   \n",
            "=================================================================\n",
            " dense_6 (Dense)             (None, 10)                92330     \n",
            "                                                                 \n",
            " activation_6 (Activation)   (None, 10)                0         \n",
            "                                                                 \n",
            " dense_7 (Dense)             (None, 1)                 11        \n",
            "                                                                 \n",
            " activation_7 (Activation)   (None, 1)                 0         \n",
            "                                                                 \n",
            "=================================================================\n",
            "Total params: 92,341\n",
            "Trainable params: 92,341\n",
            "Non-trainable params: 0\n",
            "_________________________________________________________________\n"
          ]
        }
      ]
    },
    {
      "cell_type": "code",
      "execution_count": 28,
      "metadata": {
        "colab": {
          "base_uri": "https://localhost:8080/"
        },
        "id": "BCf5ySHLgBBI",
        "outputId": "ee6bc9ef-a18d-432c-b3f2-2ef16f6a3318"
      },
      "outputs": [
        {
          "output_type": "stream",
          "name": "stderr",
          "text": [
            "/usr/local/lib/python3.7/dist-packages/keras/optimizer_v2/gradient_descent.py:102: UserWarning: The `lr` argument is deprecated, use `learning_rate` instead.\n",
            "  super(SGD, self).__init__(name, **kwargs)\n"
          ]
        }
      ],
      "source": [
        "# Building the model with stochastic gradient descent and alpha=0.1\n",
        "sgd = SGD(lr=0.1)\n",
        "model.compile(loss='binary_crossentropy',\n",
        "              optimizer=sgd,\n",
        "              metrics=['accuracy'])"
      ]
    },
    {
      "cell_type": "code",
      "execution_count": 29,
      "metadata": {
        "colab": {
          "base_uri": "https://localhost:8080/"
        },
        "id": "F6ySS3ywgBBJ",
        "outputId": "b02037e7-032f-46cb-adbd-1e844c420d67"
      },
      "outputs": [
        {
          "output_type": "execute_result",
          "data": {
            "text/plain": [
              "array([[0.500554  ],\n",
              "       [0.5019083 ],\n",
              "       [0.49395928],\n",
              "       ...,\n",
              "       [0.5037754 ],\n",
              "       [0.490339  ],\n",
              "       [0.49714065]], dtype=float32)"
            ]
          },
          "metadata": {},
          "execution_count": 29
        }
      ],
      "source": [
        "# Predicting with this model (before training)\n",
        "model.predict(x_train)"
      ]
    },
    {
      "cell_type": "code",
      "execution_count": 30,
      "metadata": {
        "colab": {
          "base_uri": "https://localhost:8080/"
        },
        "id": "WTzHTNn4gBBJ",
        "outputId": "c6384f38-45b1-4aa9-b0af-f519a1faa6ca"
      },
      "outputs": [
        {
          "output_type": "execute_result",
          "data": {
            "text/plain": [
              "<keras.callbacks.History at 0x7f6aafef0810>"
            ]
          },
          "metadata": {},
          "execution_count": 30
        }
      ],
      "source": [
        "# Train (fit) the model (if it doesn't converge, add more epochs)\n",
        "model.fit(x_train, y_train, epochs=200)"
      ]
    },
    {
      "cell_type": "code",
      "execution_count": 31,
      "metadata": {
        "colab": {
          "base_uri": "https://localhost:8080/"
        },
        "id": "ItAqWC5RgBBK",
        "outputId": "cef4282c-944c-4872-afd7-560aea2eaebf"
      },
      "outputs": [
        {
          "output_type": "stream",
          "name": "stdout",
          "text": [
            "[[4.2372935e-06]\n",
            " [6.9293668e-07]\n",
            " [9.9990475e-01]\n",
            " ...\n",
            " [1.9146439e-05]\n",
            " [9.8976627e-05]\n",
            " [2.9069185e-04]]\n",
            "[0 0 0 ... 0 0 0]\n"
          ]
        }
      ],
      "source": [
        "# Predicting with this model (after training)\n",
        "predict_x=model.predict(x_train)\n",
        "print(predict_x) \n",
        "classes_x=np.argmax(predict_x,axis=1)\n",
        "print(classes_x)"
      ]
    },
    {
      "cell_type": "markdown",
      "metadata": {
        "id": "CoInotRcgBBK"
      },
      "source": [
        "Finally, you can save your model to, for instance, deploy it later on"
      ]
    },
    {
      "cell_type": "code",
      "execution_count": 33,
      "metadata": {
        "id": "3AOEKv8fgBBL"
      },
      "outputs": [],
      "source": [
        "import h5py\n",
        "model_structure = model.to_json()\n",
        "with open(\"basic_model.json\", \"w\") as json_file:\n",
        "    json_file.write(model_structure)\n",
        "model.save_weights(\"basic_weights.h5\")"
      ]
    },
    {
      "cell_type": "code",
      "execution_count": null,
      "metadata": {
        "id": "9gSamD-KgBBL"
      },
      "outputs": [],
      "source": [
        ""
      ]
    }
  ],
  "metadata": {
    "kernelspec": {
      "display_name": "Python 3",
      "language": "python",
      "name": "python3"
    },
    "language_info": {
      "codemirror_mode": {
        "name": "ipython",
        "version": 3
      },
      "file_extension": ".py",
      "mimetype": "text/x-python",
      "name": "python",
      "nbconvert_exporter": "python",
      "pygments_lexer": "ipython3",
      "version": "3.8.12"
    },
    "colab": {
      "name": "12_dit_coli_backprop.ipynb",
      "provenance": [],
      "collapsed_sections": [],
      "include_colab_link": true
    }
  },
  "nbformat": 4,
  "nbformat_minor": 0
}